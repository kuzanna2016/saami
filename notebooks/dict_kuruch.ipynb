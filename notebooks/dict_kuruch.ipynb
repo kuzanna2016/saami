{
 "cells": [
  {
   "cell_type": "code",
   "execution_count": 1,
   "metadata": {},
   "outputs": [],
   "source": [
    "import re\n",
    "from tqdm import tqdm_notebook\n",
    "import json"
   ]
  },
  {
   "cell_type": "markdown",
   "metadata": {},
   "source": [
    "## Перевод из кирилицы в нашу транскрипцию"
   ]
  },
  {
   "cell_type": "code",
   "execution_count": 54,
   "metadata": {},
   "outputs": [],
   "source": [
    "vowels_semi_pltl = {\"ӓ\":\"a\",\"ӭ\":\"e\",\"ҍ\":\"\"}\n",
    "vowels_long_pltl = {\"я̄\":\"aa\",\"е̄\":\"ee\",\"ю̄\":\"uu\",\"ӣ\":\"ii\"}\n",
    "vowels_pltl = {\"я\":\"a\",\"е\":\"e\",\"ю\":\"u\",\"ё\":\"o\",\"ь\":\"\",\"и\":\"i\",\"ӓ\":\"a\",\"ӭ\":\"e\",\"ҍ\":\"\"}\n",
    "vowels_long = {\"я̄\":\"jaa\",\"е̄\":\"jee\",\"ю̄\":\"juu\",\"э̄\":\"ee\",\"ӯ\":\"uu\",\"а̄\":\"aa\",\"ӣ\":\"ii\",\"о̄\":\"oo\"}\n",
    "vowels = {\"ё\":\"jo\",\"а\":\"a\",\"ы\":\"ɨ\",\"у\":\"u\",\"э\":\"e\",\"я\":\"ja\",\"е\":\"je\",\"ю\":\"ju\",\"и\":\"i\",\"о\":\"o\",\"ӭ\":\"e\",\"ӓ\":\"a\"}\n",
    "cnsnt_pltl = {\"дз\":\"ʒ\",\"н\":\"ɲ\",\"ћ\":\"h\",\"б\":\"b\",\"в\":\"v\",\"г\":\"g\",\"д\":\"d\",\"ж\":\"ž\",\"з\":\"z\",\"к\":\"k\",\"л\":\"l\",\"ӆ\":\"l̥\",\"м\":\"m\",\"ӎ\":\"m̥\",\"ӊ\":\"n̥\",\"ӈ\":\"ŋ\",\"п\":\"p\",\"р\":\"r\",\"ҏ\":\"r̥\",\"с\":\"s\",\"т\":\"t\",\"ф\":\"f\",\"х\":\"x\",\"һ\":\"h\",\"ш\":\"š\",\"ц\":\"c\"}\n",
    "cnsnt_no_pltl = {\"дж\":\"ǯ\", \"й\":\"j\", \"ҋ\":\"j̥\", \"ч\":\"č\"}\n",
    "cnsnts = {\"дж\":\"ǯ\",\"дз\":\"ʒ\",\"ћ\":\"h\",\"ҋ\":\"j̥\",\"й\":\"j\",\"б\":\"b\",\"в\":\"v\",\"г\":\"g\",\"д\":\"d\",\"ж\":\"ž\",\"з\":\"z\",\"к\":\"k\",\"л\":\"l\",\"ӆ\":\"l̥\",\"м\":\"m\",\"ӎ\":\"m̥\",\"н\":\"n\",\"ӊ\":\"n̥\",\"ӈ\":\"ŋ\",\"п\":\"p\",\"р\":\"r\",\"ҏ\":\"r̥\",\"с\":\"s\",\"т\":\"t\",\"ф\":\"f\",\"х\":\"x\",\"һ\":\"h\",\"ш\":\"š\",\"ц\":\"c\",\"ч\":\"č\",\"ҍ\":\"\",\"ь\":\"\",\"ъ\":\"\"}\n",
    "\n",
    "def get_transcript(word):\n",
    "    if word == '':\n",
    "        return ''\n",
    "    else:\n",
    "        # заменяем J:\n",
    "        word = re.sub(r\"J\", r\"j̥\", word)\n",
    "        # делаем все лоуверкейс\n",
    "        word = word.lower()\n",
    "        # заменяем полумягкие н:\n",
    "        for vowel, new_vowel in vowels_semi_pltl.items():\n",
    "            # сначала долгие, потому что это два символа:\n",
    "            word = re.sub(\"нн\" + vowel, r\"n'n'\" + new_vowel, word)\n",
    "            word = re.sub(\"н\" + vowel, r\"n'\" + new_vowel, word)\n",
    "        # заменяем палатальный л:\n",
    "        word = re.sub(r\"льй(\\s|$)\", r\"lij\\1\", word)\n",
    "        word = re.sub(r\"льй\", r\"l'j\", word)\n",
    "        # гласные, перед которыми мягкость:\n",
    "        #     сначала долгие, потому что это два символа на самом деле:\n",
    "        for vowel, new_vowel in vowels_long_pltl.items():\n",
    "            for cnsnt, new_cnsnt in cnsnt_pltl.items():\n",
    "                word = re.sub(cnsnt + cnsnt + vowel, new_cnsnt + \"'\" + new_cnsnt + \"'\" + new_vowel, word)\n",
    "                word = re.sub(cnsnt + vowel, new_cnsnt + \"'\" + new_vowel, word)\n",
    "            for cnsnt, new_cnsnt in cnsnt_no_pltl.items():\n",
    "                word = re.sub(cnsnt + cnsnt + vowel, new_cnsnt + new_cnsnt + new_vowel, word)\n",
    "                word = re.sub(cnsnt + vowel, new_cnsnt + new_vowel, word)\n",
    "        #     короткие гласные, перед которыми мягкость:\n",
    "        for vowel, new_vowel in vowels_pltl.items():\n",
    "            for cnsnt, new_cnsnt in cnsnt_pltl.items():\n",
    "                word = re.sub(cnsnt + cnsnt + vowel, new_cnsnt + \"'\" + new_cnsnt + \"'\" + new_vowel, word)\n",
    "                word = re.sub(cnsnt + vowel, new_cnsnt + \"'\" + new_vowel, word)\n",
    "            for cnsnt, new_cnsnt in cnsnt_no_pltl.items():\n",
    "                word = re.sub(cnsnt + cnsnt + vowel, new_cnsnt + new_cnsnt + new_vowel, word)\n",
    "                word = re.sub(cnsnt + vowel, new_cnsnt + new_vowel, word)\n",
    "        # заменяем оставшиеся долгие гласные:\n",
    "        for vowel, new_vowel in vowels_long.items():\n",
    "            word = re.sub(vowel, new_vowel, word)\n",
    "        # оставшиеся гласные:\n",
    "        for vowel, new_vowel in vowels.items():\n",
    "            word = re.sub(vowel, new_vowel, word)\n",
    "        # оставшиеся согласные:\n",
    "        for cnsnt, new_cnsnt in cnsnts.items():\n",
    "                word = re.sub(cnsnt, new_cnsnt, word)\n",
    "        return word"
   ]
  },
  {
   "cell_type": "markdown",
   "metadata": {},
   "source": [
    "## Переводим словарь в json и csv"
   ]
  },
  {
   "cell_type": "code",
   "execution_count": 93,
   "metadata": {},
   "outputs": [],
   "source": [
    "with open(\"../sa-ru-kuruch.dsl\", encoding=\"utf-8\") as f:\n",
    "    \n",
    "    kuruch = f.read()\n",
    "kuruch = kuruch.splitlines()[3:] # [3:] - обрезаем сверху метаданные"
   ]
  },
  {
   "cell_type": "code",
   "execution_count": 4,
   "metadata": {
    "scrolled": true
   },
   "outputs": [
    {
     "data": {
      "application/vnd.jupyter.widget-view+json": {
       "model_id": "8f5da5e526cc4e0da7bfd9e8c98cc498",
       "version_major": 2,
       "version_minor": 0
      },
      "text/plain": [
       "HBox(children=(IntProgress(value=0, max=29240), HTML(value='')))"
      ]
     },
     "metadata": {},
     "output_type": "display_data"
    },
    {
     "name": "stdout",
     "output_type": "stream",
     "text": [
      "\n"
     ]
    }
   ],
   "source": [
    "kuruch_list = []\n",
    "catch_lower = False\n",
    "# strangers = []\n",
    "n = -1\n",
    "for line in tqdm_notebook(kuruch):\n",
    "    if not re.match(r'\\t', line):\n",
    "        # в начале статьи нет табулиции\n",
    "        if line.islower():\n",
    "            # дериваты, с ними работаем отдельно в каждой статье, нет смысла отдельно разбирать\n",
    "            catch_lower = True\n",
    "            continue\n",
    "        main_word = re.sub(r'\\d',r'', line.lower()).strip()\n",
    "        transcribed_main_word = get_transcript(main_word)\n",
    "    elif line == '\\t[m1][/m]':\n",
    "        continue\n",
    "    elif catch_lower:\n",
    "        catch_lower = False\n",
    "    elif re.match(r'\\t\\[m0\\]', line):\n",
    "        continue\n",
    "    elif re.match(r'\\t\\[m1\\][а-яА-я ]+\\[\\/m\\]', line):\n",
    "#         strangers.append({'line': line, 'number': n})\n",
    "        continue\n",
    "    elif re.match(r'\\t\\[m1\\]([^[ ].+?)(\\[b\\].*?\\[\\/b\\].*?)?\\[/m\\]', line) and not re.match('\\t\\[m1\\]([^[ ].+?)\\[/b]', line):\n",
    "        match = re.search(r'\\t\\[m1\\](.*?)(\\[b\\].*?\\[\\/b\\].*?)?;\\[/m\\]', line)\n",
    "        try:\n",
    "            lost_piece, more_examples = match.groups('')\n",
    "        except AttributeError:\n",
    "#             strangers.append({'line': line, 'number': n})\n",
    "            continue\n",
    "            \n",
    "        kuruch_list[-1]['definitions'].append(lost_piece)\n",
    "        \n",
    "        if more_examples != '':\n",
    "            example, definition = re.search(r'\\[b\\](.*?)\\[\\/b\\](.*?)$', more_examples).groups('')\n",
    "            example = example.strip()\n",
    "            item_dict = {'example_cyrillic': example, \n",
    "                         'example_transcription': get_transcript(example), \n",
    "                         'example_definition': definition.strip()}\n",
    "            kuruch_list[-1]['examples'].append(item_dict)\n",
    "    else:\n",
    "        regex = r'\\[m1\\] ?(?:\\[b\\])?(?P<word>.*?)\\[\\/b\\] ?(?:\\(\\[b\\](?P<form>.*?)\\[\\/b\\]\\))? ?\\d? ?(?P<common_number>о\\. ?ч\\. )? ?(?P<word_type>[IV]{1,3})?(?:, (?P<word_alt>\\d.))? ?(?P<def>.*?)(?:\\[/m\\])?$'\n",
    "        match = re.search(regex, line)\n",
    "        try:\n",
    "            word, form, common_number, word_type, word_alt, expanded_definition = match.groups('')\n",
    "        except AttributeError:\n",
    "#             strangers.append({'line': line, 'number': n})\n",
    "            continue\n",
    "        \n",
    "        word = re.sub(r'\\[.*?\\]', r'', word).lower().strip()\n",
    "        if ' ' in word:\n",
    "            regex = r'(.*?)(?:\\d\\.(.*?))?$'\n",
    "            example_definition, word_definition = re.search(regex, expanded_definition).groups('')\n",
    "            item_dict = {'example_cyrillic': word, \n",
    "                             'example_transcription': get_transcript(word), \n",
    "                             'example_definition': example_definition.strip()}\n",
    "            kuruch_list[-1]['examples'].append(item_dict)\n",
    "            if word_definition.strip() != '':\n",
    "                kuruch_list[-1]['definitions'].append(word_definition.strip())\n",
    "            continue\n",
    "            \n",
    "        transcribed_word = get_transcript(word)\n",
    "        \n",
    "        if common_number != '':\n",
    "            common_number = 'общее число'\n",
    "        \n",
    "        definitions = []\n",
    "        examples = []\n",
    "        for item in re.findall(r'(?:\\d\\. )?(.*?)(?:;\\s?|\\d\\. |$|\\\\#\\s?)', expanded_definition):\n",
    "            find_examples = re.search(r'^\\[b\\](?P<example>.*?)\\[\\/b\\](?P<example_def>.*?)$', item)\n",
    "            if find_examples != None:\n",
    "                example, definition = find_examples.groups('')\n",
    "                example = example.strip()\n",
    "                item_dict = {'example_cyrillic': example, \n",
    "                             'example_transcription': get_transcript(example), \n",
    "                             'example_definition': definition.strip()}\n",
    "                examples.append(item_dict)\n",
    "            else:\n",
    "                if item.strip() != '':\n",
    "                    definitions.append(item.strip())\n",
    "                    \n",
    "        if word_type != '':\n",
    "            if transcribed_word.endswith('e'):\n",
    "                pos = 'Verb'\n",
    "            else:\n",
    "                pos = 'Noun'\n",
    "        else:\n",
    "            pos = ''\n",
    "        \n",
    "        instance = {'cyrillic_backwards': word[::-1],\n",
    "                    'transcription_backwards': transcribed_word[::-1],\n",
    "                    'cyrillic': word,\n",
    "                    'transcription': transcribed_word,\n",
    "                    'derived_cyrillic': main_word,\n",
    "                    'derived_transcription': transcribed_main_word,\n",
    "                    'form_cyrillic': form,\n",
    "                    'form_transcription': get_transcript(form),\n",
    "                    'pos': pos,\n",
    "                    'common_number': common_number,\n",
    "                    'type': word_type,\n",
    "                    'type_alternation': word_alt,\n",
    "                    'definitions': definitions,\n",
    "                    'examples' : examples\n",
    "                    }\n",
    "        \n",
    "        kuruch_list.append(instance)\n",
    "        n += 1"
   ]
  },
  {
   "cell_type": "code",
   "execution_count": 78,
   "metadata": {},
   "outputs": [],
   "source": [
    "examples_wrong = '''ама\n",
    "а̄нсэ\n",
    "бакалл\n",
    "бара\n",
    "воаллтэдтэ\n",
    "вэстче\n",
    "вэстчедтэ\n",
    "вуанчнэ\n",
    "вӯллькэ\n",
    "ка̄һтӭ\n",
    "коатче\n",
    "кӣрркнэ\n",
    "куаййвэ\n",
    "ло̄сстэнне\n",
    "ме̄ррьдассьтэ\n",
    "мӣлльтэ\n",
    "поассэ\n",
    "пуэдтӭ\n",
    "роадтэ2\n",
    "рӯммьп\n",
    "та̄гкэ\n",
    "та̄һтэ\n",
    "цоагчедтэ\n",
    "че̄д\n",
    "чоагкэ\n",
    "чуввнэннтэ\n",
    "иммель\n",
    "кӯһт\n",
    "мӣ\n",
    "мырр\n",
    "сӣррэй\n",
    "то̄лл\n",
    "ча̄нн\n",
    "чофта\n",
    "ке̄\n",
    "лышэ\n",
    "манҍтэ\n",
    "мӣ\n",
    "мунн\n",
    "нике̄\n",
    "туммплэсс\n",
    "че̄д\n",
    "чӯдзлэднэ'''.splitlines()"
   ]
  },
  {
   "cell_type": "code",
   "execution_count": 79,
   "metadata": {},
   "outputs": [
    {
     "data": {
      "text/plain": [
       "43"
      ]
     },
     "execution_count": 79,
     "metadata": {},
     "output_type": "execute_result"
    }
   ],
   "source": [
    "len(examples_wrong)"
   ]
  },
  {
   "cell_type": "code",
   "execution_count": 84,
   "metadata": {},
   "outputs": [
    {
     "data": {
      "application/vnd.jupyter.widget-view+json": {
       "model_id": "4e8bc64053ed46f2b526eff24b757f08",
       "version_major": 2,
       "version_minor": 0
      },
      "text/plain": [
       "HBox(children=(IntProgress(value=0, max=29223), HTML(value='')))"
      ]
     },
     "metadata": {},
     "output_type": "display_data"
    }
   ],
   "source": [
    "fixing_examples = []\n",
    "for line in tqdm_notebook(kuruch):\n",
    "    if not re.match(r'\\t', line):\n",
    "        # в начале статьи нет табулиции\n",
    "        if line.islower():\n",
    "            # дериваты, с ними работаем отдельно в каждой статье, нет смысла отдельно разбирать\n",
    "            catch_lower = True\n",
    "            continue\n",
    "        main_word = re.sub(r'\\d',r'', line.lower()).strip()\n",
    "        transcribed_main_word = get_transcript(main_word)\n",
    "    if '[ref]' in line:\n",
    "        continue\n",
    "    try:\n",
    "        word, form, common_number, word_type, word_alt, expanded_definition = re.search(r'\\[m1\\] ?(?:\\[b\\])?(?P<word>.*?)\\[\\/b\\] {0,2}(?:\\(\\[b\\](?P<form>.*?)\\[\\/b\\]\\))?,? ?\\d? ?(?P<common_number>о\\. ?ч\\. )?[ \\t]?(?P<word_type>[IVШ]{1,3})?(?: ?[,.]? *(?P<word_alt>\\d ?[^а-яА-я.1\\[]))? ?(?P<def>.*?)(?:\\[/m\\])?$', line).groups('')\n",
    "    except AttributeError:\n",
    "        continue\n",
    "    word = re.sub(r'\\[.*?\\]', r'', word).lower().strip()\n",
    "    if word in examples_wrong:\n",
    "        transcribed_word = get_transcript(word)\n",
    "\n",
    "        if common_number != '':\n",
    "            common_number = 'общее число'\n",
    "\n",
    "        definitions = []\n",
    "        examples = []\n",
    "        for item in re.findall(r'(?:\\d?\\. )?(.*?)(?:[;,]\\s?(?=\\[b\\])|\\d\\. |$|\\\\#\\s?)', expanded_definition):\n",
    "            find_examples = re.search(r'^\\[b\\](?P<example>.*?)\\[\\/b\\](?P<example_def>.*?)$', item)\n",
    "            if find_examples != None:\n",
    "                example, definition = find_examples.groups('')\n",
    "                example = example.strip()\n",
    "                item_dict = {'example_cyrillic': example, \n",
    "                             'example_transcription': get_transcript(example), \n",
    "                             'example_definition': definition.strip()}\n",
    "                examples.append(item_dict)\n",
    "            else:\n",
    "                if item.strip() != '':\n",
    "                    definitions.append(item.strip())\n",
    "\n",
    "        if word_type != '':\n",
    "            if transcribed_word.endswith('e'):\n",
    "                pos = 'Verb'\n",
    "            else:\n",
    "                pos = 'Noun'\n",
    "        else:\n",
    "            pos = ''\n",
    "\n",
    "        instance = {'cyrillic_backwards': word[::-1],\n",
    "                    'transcription_backwards': transcribed_word[::-1],\n",
    "                    'cyrillic': word,\n",
    "                    'transcription': transcribed_word,\n",
    "                    'derived_cyrillic': main_word,\n",
    "                    'derived_transcription': transcribed_main_word,\n",
    "                    'form_cyrillic': form,\n",
    "                    'form_transcription': get_transcript(form),\n",
    "                    'pos': pos,\n",
    "                    'common_number': common_number,\n",
    "                    'type': word_type,\n",
    "                    'type_alternation': word_alt,\n",
    "                    'definitions': definitions,\n",
    "                    'examples' : examples\n",
    "                    }\n",
    "        fixing_examples.append(instance)"
   ]
  },
  {
   "cell_type": "code",
   "execution_count": 85,
   "metadata": {},
   "outputs": [],
   "source": [
    "with open('../done/fixed_examples.json', 'w', encoding='utf-8') as json_file:\n",
    "    json.dump(fixing_examples, json_file, ensure_ascii=False)"
   ]
  },
  {
   "cell_type": "code",
   "execution_count": 86,
   "metadata": {},
   "outputs": [],
   "source": [
    "with open('../done/fixed_examples.csv','w',encoding='utf-8') as f:\n",
    "    f.write('cyrillic_backwards\\ttranscription_backwards\\tcyrillic\\ttranscription\\tderived_cyrillic\\tderived_transcription\\tform_cyrillic\\tform_transcription\\tpos\\tcommon_number\\ttype\\ttype_alternation\\tdefinitions\\texample_cyrillic\\texample_transcription\\texample_definition\\n')\n",
    "    for word in fixing_examples:\n",
    "        examples = ''\n",
    "        for example in word['examples']:\n",
    "            examples += f\"{example['example_cyrillic']}\\t{example['example_transcription']}\\t{example['example_definition']}\\t\"\n",
    "        line = f\"{word['cyrillic_backwards']}\\t{word['transcription_backwards']}\\t{word['cyrillic']}\\t{word['transcription']}\\t{word['derived_cyrillic']}\\t{word['derived_transcription']}\\t{word['form_cyrillic']}\\t{word['form_transcription']}\\t{word['pos']}\\t{word['common_number']}\\t{word['type']}\\t{word['type_alternation']}\\t{';'.join(word['definitions'])}\\t{examples}\\n\"\n",
    "        f.write(line)"
   ]
  },
  {
   "cell_type": "code",
   "execution_count": 4,
   "metadata": {},
   "outputs": [],
   "source": [
    "class_wrong = '''адзе\n",
    "аййдэлсэ\n",
    "аллькэ\n",
    "а̄ррвдэллэ\n",
    "а̄ррьй\n",
    "а̄ррьп\n",
    "ба̄нка\n",
    "билеһтлаһтӭ\n",
    "бригадирр\n",
    "бро̄шка\n",
    "буржуазия\n",
    "воалнэдтэ\n",
    "воалхэллэ\n",
    "вуаннтаслаһтӭ\n",
    "выррлэ\n",
    "вя̄ллктэллэ\n",
    "вя̄ллктэлнэ\n",
    "килограмм\n",
    "кӣррькъеннтэ\n",
    "кывнхэллэ\n",
    "кышкнэдтэ\n",
    "кышксэннтэ\n",
    "лӣб\n",
    "марксисст\n",
    "моашшэ\n",
    "мӯһцтэдтэ\n",
    "оаҏҏтэдтэ\n",
    "поаррэ\n",
    "пӯлле\n",
    "сайе\n",
    "таррьв\n",
    "те̄ҏпчедтэ\n",
    "ујтнэдтэ\n",
    "ӯӎтэллэ\n",
    "цаввцтэдтэ\n",
    "че̄лнэдтэ\n",
    "чецкнэдтэ\n",
    "чоабрнэдтэ\n",
    "э̄рршассьтэ'''.splitlines()"
   ]
  },
  {
   "cell_type": "code",
   "execution_count": 29,
   "metadata": {},
   "outputs": [
    {
     "data": {
      "application/vnd.jupyter.widget-view+json": {
       "model_id": "75b2a476d36745379a4ec8b8007917d2",
       "version_major": 2,
       "version_minor": 0
      },
      "text/plain": [
       "HBox(children=(IntProgress(value=0, max=29226), HTML(value='')))"
      ]
     },
     "metadata": {},
     "output_type": "display_data"
    },
    {
     "name": "stdout",
     "output_type": "stream",
     "text": [
      "\n"
     ]
    }
   ],
   "source": [
    "fixing = []\n",
    "for line in tqdm_notebook(kuruch):\n",
    "    if not re.match(r'\\t', line):\n",
    "        # в начале статьи нет табулиции\n",
    "        if line.islower():\n",
    "            # дериваты, с ними работаем отдельно в каждой статье, нет смысла отдельно разбирать\n",
    "            catch_lower = True\n",
    "            continue\n",
    "        main_word = re.sub(r'\\d',r'', line.lower()).strip()\n",
    "        transcribed_main_word = get_transcript(main_word)\n",
    "    if '[ref]' in line:\n",
    "        continue\n",
    "    try:\n",
    "        word, form, common_number, word_type, word_alt, expanded_definition = re.search(r'\\[m1\\] ?(?:\\[b\\])?(?P<word>.*?)\\[\\/b\\] {0,2}(?:\\(\\[b\\](?P<form>.*?)\\[\\/b\\]\\))?,? ?\\d? ?(?P<common_number>о\\. ?ч\\. )?[ \\t]?(?P<word_type>[IVШ]{1,3})?(?: ?[,.]? *(?P<word_alt>\\d ?[^а-яА-я.1\\[]))? ?(?P<def>.*?)(?:\\[/m\\])?$', line).groups('')\n",
    "    except AttributeError:\n",
    "        continue\n",
    "    word = re.sub(r'\\[.*?\\]', r'', word).lower().strip()\n",
    "    if word in class_wrong:\n",
    "        transcribed_word = get_transcript(word)\n",
    "        \n",
    "        if common_number != '':\n",
    "            common_number = 'общее число'\n",
    "        \n",
    "        definitions = []\n",
    "        examples = []\n",
    "        for item in re.findall(r'(?:\\d\\. )?(.*?)(?:;\\s?|\\d\\. |$|\\\\#\\s?)', expanded_definition):\n",
    "            find_examples = re.search(r'^\\[b\\](?P<example>.*?)\\[\\/b\\](?P<example_def>.*?)$', item)\n",
    "            if find_examples != None:\n",
    "                example, definition = find_examples.groups('')\n",
    "                example = example.strip()\n",
    "                item_dict = {'example_cyrillic': example, \n",
    "                             'example_transcription': get_transcript(example), \n",
    "                             'example_definition': definition.strip()}\n",
    "                examples.append(item_dict)\n",
    "            else:\n",
    "                if item.strip() != '':\n",
    "                    definitions.append(item.strip())\n",
    "                    \n",
    "        if word_type != '':\n",
    "            if transcribed_word.endswith('e'):\n",
    "                pos = 'Verb'\n",
    "            else:\n",
    "                pos = 'Noun'\n",
    "        else:\n",
    "            pos = ''\n",
    "        \n",
    "        instance = {'cyrillic_backwards': word[::-1],\n",
    "                    'transcription_backwards': transcribed_word[::-1],\n",
    "                    'cyrillic': word,\n",
    "                    'transcription': transcribed_word,\n",
    "                    'derived_cyrillic': main_word,\n",
    "                    'derived_transcription': transcribed_main_word,\n",
    "                    'form_cyrillic': form,\n",
    "                    'form_transcription': get_transcript(form),\n",
    "                    'pos': pos,\n",
    "                    'common_number': common_number,\n",
    "                    'type': word_type,\n",
    "                    'type_alternation': word_alt,\n",
    "                    'definitions': definitions,\n",
    "                    'examples' : examples\n",
    "                    }\n",
    "        fixing.append(instance)"
   ]
  },
  {
   "cell_type": "code",
   "execution_count": 30,
   "metadata": {},
   "outputs": [],
   "source": [
    "with open('../done/fixed_classes.json', 'w', encoding='utf-8') as json_file:\n",
    "    json.dump(fixing, json_file, ensure_ascii=False)"
   ]
  },
  {
   "cell_type": "code",
   "execution_count": 31,
   "metadata": {},
   "outputs": [],
   "source": [
    "with open('../done/fixed_classes.csv','w',encoding='utf-8') as f:\n",
    "    f.write('cyrillic_backwards\\ttranscription_backwards\\tcyrillic\\ttranscription\\tderived_cyrillic\\tderived_transcription\\tform_cyrillic\\tform_transcription\\tpos\\tcommon_number\\ttype\\ttype_alternation\\tdefinitions\\texample_cyrillic\\texample_transcription\\texample_definition\\n')\n",
    "    for word in fixing:\n",
    "        examples = ''\n",
    "        for example in word['examples']:\n",
    "            examples += f\"{example['example_cyrillic']}\\t{example['example_transcription']}\\t{example['example_definition']}\\t\"\n",
    "        line = f\"{word['cyrillic_backwards']}\\t{word['transcription_backwards']}\\t{word['cyrillic']}\\t{word['transcription']}\\t{word['derived_cyrillic']}\\t{word['derived_transcription']}\\t{word['form_cyrillic']}\\t{word['form_transcription']}\\t{word['pos']}\\t{word['common_number']}\\t{word['type']}\\t{word['type_alternation']}\\t{';'.join(word['definitions'])}\\t{examples}\\n\"\n",
    "        f.write(line)"
   ]
  },
  {
   "cell_type": "code",
   "execution_count": 94,
   "metadata": {},
   "outputs": [],
   "source": [
    "stems_wrong = '''алльк\n",
    "алфавиһт\n",
    "апрелль\n",
    "а̄ррв\n",
    "а̄ррьв\n",
    "а̄һклэӊӊк\n",
    "батонн\n",
    "билеһт\n",
    "бӣннт\n",
    "воаррлэнч\n",
    "е̄ммьне\n",
    "оаз\n",
    "оаз\n",
    "па̄ццк\n",
    "пӣжь\n",
    "рӯсст\n",
    "рӯһц\n",
    "рӯһц\n",
    "са̄ррьк\n",
    "са̄ррьк\n",
    "суннҍт\n",
    "суннҍт\n",
    "та̄йймушш\n",
    "та̄лльв\n",
    "тёллэдтэ\n",
    "тӣрьмесь\n",
    "то̄ленч\n",
    "тӯвас\n",
    "тӯйй\n",
    "це̄гкь\n",
    "ча̄дзь\n",
    "че̄гар\n",
    "э̄д\n",
    "ялл\n",
    "тӯййлаһтӭ'''.splitlines()"
   ]
  },
  {
   "cell_type": "code",
   "execution_count": 95,
   "metadata": {},
   "outputs": [
    {
     "data": {
      "text/plain": [
       "35"
      ]
     },
     "execution_count": 95,
     "metadata": {},
     "output_type": "execute_result"
    }
   ],
   "source": [
    "len(stems_wrong)"
   ]
  },
  {
   "cell_type": "code",
   "execution_count": 96,
   "metadata": {},
   "outputs": [
    {
     "data": {
      "application/vnd.jupyter.widget-view+json": {
       "model_id": "078fce197b2547a6abb51a5e22b42495",
       "version_major": 2,
       "version_minor": 0
      },
      "text/plain": [
       "HBox(children=(IntProgress(value=0, max=29223), HTML(value='')))"
      ]
     },
     "metadata": {},
     "output_type": "display_data"
    }
   ],
   "source": [
    "fixing_stems = []\n",
    "for line in tqdm_notebook(kuruch):\n",
    "    if not re.match(r'\\t', line):\n",
    "        # в начале статьи нет табулиции\n",
    "        if line.islower():\n",
    "            # дериваты, с ними работаем отдельно в каждой статье, нет смысла отдельно разбирать\n",
    "            catch_lower = True\n",
    "            continue\n",
    "        main_word = re.sub(r'\\d',r'', line.lower()).strip()\n",
    "        transcribed_main_word = get_transcript(main_word)\n",
    "    if '[ref]' in line:\n",
    "        continue\n",
    "    try:\n",
    "        word, form, common_number, word_type, word_alt, expanded_definition = re.search(r'\\[m1\\] ?(?:\\[b\\])?(?P<word>.*?)\\[\\/b\\][ \\t\\d]{0,3}(?:\\((?:\\[b\\])?(?P<form>.*?)(?:\\[\\/b\\])?\\))?,? ?\\d? ?(?P<common_number>о\\. ?ч\\. )?[ \\t]?(?P<word_type>[IVШ]{1,3})?(?: ?[,.]? *(?P<word_alt>\\d ?[^а-яА-я.1\\[]))? ?(?P<def>.*?)(?:\\[/m\\])?$', line).groups('')\n",
    "    except AttributeError:\n",
    "        continue\n",
    "    word = re.sub(r'\\[.*?\\]', r'', word).lower().strip()\n",
    "    if word in stems_wrong:\n",
    "        transcribed_word = get_transcript(word)\n",
    "        \n",
    "        if common_number != '':\n",
    "            common_number = 'общее число'\n",
    "        \n",
    "        definitions = []\n",
    "        examples = []\n",
    "        for item in re.findall(r'(?:\\d\\. )?(.*?)(?:;\\s?|\\d\\. |$|\\\\#\\s?)', expanded_definition):\n",
    "            find_examples = re.search(r'^\\[b\\](?P<example>.*?)\\[\\/b\\](?P<example_def>.*?)$', item)\n",
    "            if find_examples != None:\n",
    "                example, definition = find_examples.groups('')\n",
    "                example = example.strip()\n",
    "                item_dict = {'example_cyrillic': example, \n",
    "                             'example_transcription': get_transcript(example), \n",
    "                             'example_definition': definition.strip()}\n",
    "                examples.append(item_dict)\n",
    "            else:\n",
    "                if item.strip() != '':\n",
    "                    definitions.append(item.strip())\n",
    "                    \n",
    "        if word_type != '':\n",
    "            if transcribed_word.endswith('e'):\n",
    "                pos = 'Verb'\n",
    "            else:\n",
    "                pos = 'Noun'\n",
    "        else:\n",
    "            pos = ''\n",
    "        \n",
    "        instance = {'cyrillic_backwards': word[::-1],\n",
    "                    'transcription_backwards': transcribed_word[::-1],\n",
    "                    'cyrillic': word,\n",
    "                    'transcription': transcribed_word,\n",
    "                    'derived_cyrillic': main_word,\n",
    "                    'derived_transcription': transcribed_main_word,\n",
    "                    'form_cyrillic': form,\n",
    "                    'form_transcription': get_transcript(form),\n",
    "                    'pos': pos,\n",
    "                    'common_number': common_number,\n",
    "                    'type': word_type,\n",
    "                    'type_alternation': word_alt,\n",
    "                    'definitions': definitions,\n",
    "                    'examples' : examples\n",
    "                    }\n",
    "        fixing_stems.append(instance)"
   ]
  },
  {
   "cell_type": "code",
   "execution_count": 97,
   "metadata": {},
   "outputs": [],
   "source": [
    "with open('../done/fixed_stems.csv','w',encoding='utf-8') as f:\n",
    "    f.write('cyrillic_backwards\\ttranscription_backwards\\tcyrillic\\ttranscription\\tderived_cyrillic\\tderived_transcription\\tform_cyrillic\\tform_transcription\\tpos\\tcommon_number\\ttype\\ttype_alternation\\tdefinitions\\texample_cyrillic\\texample_transcription\\texample_definition\\n')\n",
    "    for word in fixing_stems:\n",
    "        examples = ''\n",
    "        for example in word['examples']:\n",
    "            examples += f\"{example['example_cyrillic']}\\t{example['example_transcription']}\\t{example['example_definition']}\\t\"\n",
    "        line = f\"{word['cyrillic_backwards']}\\t{word['transcription_backwards']}\\t{word['cyrillic']}\\t{word['transcription']}\\t{word['derived_cyrillic']}\\t{word['derived_transcription']}\\t{word['form_cyrillic']}\\t{word['form_transcription']}\\t{word['pos']}\\t{word['common_number']}\\t{word['type']}\\t{word['type_alternation']}\\t{';'.join(word['definitions'])}\\t{examples}\\n\"\n",
    "        f.write(line)"
   ]
  },
  {
   "cell_type": "code",
   "execution_count": 98,
   "metadata": {},
   "outputs": [],
   "source": [
    "with open('../done/fixed_stems.json', 'w', encoding='utf-8') as json_file:\n",
    "    json.dump(fixing_stems, json_file, ensure_ascii=False)"
   ]
  },
  {
   "cell_type": "code",
   "execution_count": 110,
   "metadata": {},
   "outputs": [
    {
     "name": "stdout",
     "output_type": "stream",
     "text": [
      "экһ̄яц\tekhaa'c\tця̄һкэ\tc'aahke\tя̄рр\tjaarr\t\t\tVerb\t\tI\t3 \tпроводить / провести черту, линию;разрубать / разрубить что-л. на куски;метить / пометить (оленей, вырезать ножом на боку оленя родовой знак)\tця̄к вуэнч ке̄ммна\tc'aak vuenč k'eemmna\t! разруби мясо на куски для котла!\tця̄һкэ пӯдзэтҍ\tc'aahke puuʒet\t! пометьте оленей\t\n",
      "\n"
     ]
    }
   ],
   "source": [
    "line = '[m1][b]ця̄һкэ [/b]I, 3 1. проводить / провести черту, линию 2. разрубать / разрубить что-л. на куски; [b]ця̄к вуэнч ке̄ммна[/b]! разруби мясо на куски для котла! 3. метить / пометить (оленей, вырезать ножом на боку оленя родовой знак); [b]ця̄һкэ пӯдзэтҍ[/b]! пометьте оленей[/m]'\n",
    "try:\n",
    "    word, form, common_number, word_type, word_alt, expanded_definition = re.search(r'\\[m1\\] ?(?:\\[b\\])?(?P<word>.*?)\\[\\/b\\][ \\t\\d]{0,3}(?:\\((?:\\[b\\])?(?P<form>.*?)(?:\\[\\/b\\])?\\))?,? ?\\d? ?(?P<common_number>о\\. ?ч\\. )?[ \\t]?(?P<word_type>[IVШ]{1,3})?(?: ?[,.]? *(?P<word_alt>\\d ?[^а-яА-я.1\\[]))? ?(?P<def>.*?)(?:\\[/m\\])?$', line).groups('')\n",
    "except AttributeError:\n",
    "    pass\n",
    "\n",
    "word = re.sub(r'\\[.*?\\]', r'', word).lower().strip()\n",
    "transcribed_word = get_transcript(word)\n",
    "\n",
    "if common_number != '':\n",
    "    common_number = 'общее число'\n",
    "\n",
    "definitions = []\n",
    "examples = []\n",
    "for item in re.findall(r'(?:\\d\\. )?(.*?)(?:;\\s?|\\d\\. |$|\\\\#\\s?)', expanded_definition):\n",
    "    find_examples = re.search(r'^\\[b\\](?P<example>.*?)\\[\\/b\\](?P<example_def>.*?)$', item)\n",
    "    if find_examples != None:\n",
    "        example, definition = find_examples.groups('')\n",
    "        example = example.strip()\n",
    "        item_dict = {'example_cyrillic': example, \n",
    "                     'example_transcription': get_transcript(example), \n",
    "                     'example_definition': definition.strip()}\n",
    "        examples.append(item_dict)\n",
    "    else:\n",
    "        if item.strip() != '':\n",
    "            definitions.append(item.strip())\n",
    "\n",
    "if word_type != '':\n",
    "    if transcribed_word.endswith('e'):\n",
    "        pos = 'Verb'\n",
    "    else:\n",
    "        pos = 'Noun'\n",
    "else:\n",
    "    pos = ''\n",
    "\n",
    "instance = {'cyrillic_backwards': word[::-1],\n",
    "            'transcription_backwards': transcribed_word[::-1],\n",
    "            'cyrillic': word,\n",
    "            'transcription': transcribed_word,\n",
    "            'derived_cyrillic': main_word,\n",
    "            'derived_transcription': transcribed_main_word,\n",
    "            'form_cyrillic': form,\n",
    "            'form_transcription': get_transcript(form),\n",
    "            'pos': pos,\n",
    "            'common_number': common_number,\n",
    "            'type': word_type,\n",
    "            'type_alternation': word_alt,\n",
    "            'definitions': definitions,\n",
    "            'examples' : examples\n",
    "            }\n",
    "examples = ''\n",
    "for example in instance['examples']:\n",
    "    examples += f\"{example['example_cyrillic']}\\t{example['example_transcription']}\\t{example['example_definition']}\\t\"\n",
    "print(f\"{instance['cyrillic_backwards']}\\t{instance['transcription_backwards']}\\t{instance['cyrillic']}\\t{instance['transcription']}\\t{instance['derived_cyrillic']}\\t{instance['derived_transcription']}\\t{instance['form_cyrillic']}\\t{instance['form_transcription']}\\t{instance['pos']}\\t{instance['common_number']}\\t{instance['type']}\\t{instance['type_alternation']}\\t{';'.join(instance['definitions'])}\\t{examples}\\n\")"
   ]
  },
  {
   "cell_type": "code",
   "execution_count": 56,
   "metadata": {},
   "outputs": [
    {
     "data": {
      "application/vnd.jupyter.widget-view+json": {
       "model_id": "646f317721b94e358051c89c5e2672f1",
       "version_major": 2,
       "version_minor": 0
      },
      "text/plain": [
       "HBox(children=(IntProgress(value=0, max=29226), HTML(value='')))"
      ]
     },
     "metadata": {},
     "output_type": "display_data"
    },
    {
     "name": "stdout",
     "output_type": "stream",
     "text": [
      "\n"
     ]
    }
   ],
   "source": [
    "fixing_lost = []\n",
    "for line in tqdm_notebook(kuruch):\n",
    "    if not re.match(r'\\t', line):\n",
    "        # в начале статьи нет табулиции\n",
    "        if line.islower():\n",
    "            # дериваты, с ними работаем отдельно в каждой статье, нет смысла отдельно разбирать\n",
    "            catch_lower = True\n",
    "            continue\n",
    "        main_word = re.sub(r'\\d',r'', line.lower()).strip()\n",
    "        transcribed_main_word = get_transcript(main_word)\n",
    "    if '[ref]' in line:\n",
    "        continue\n",
    "    if re.match('\\t\\[m1\\] ?(?:\\[b\\])?(?P<word>.*?)\\[\\/b\\](?P<lost>[а-ю])\\W ?(?:\\(\\[b\\](?P<form>.*?)\\[\\/b\\]\\))? ?\\d? ?(?P<common_number>о\\. ?ч\\. )? ?(?P<word_type>[0-9IVШ]{1,3})?(?:,? ?(?P<word_alt>\\d ?\\W))? ?(?P<def>.*?)(?:\\[/m\\])?$', line):\n",
    "        word, lost, form, common_number, word_type, word_alt, expanded_definition = re.search(r'\\[m1\\] ?(?:\\[b\\])?(?P<word>.*?)\\[\\/b\\](?P<lost>[а-ю])\\W ?(?:\\(\\[b\\](?P<form>.*?)\\[\\/b\\]\\))? ?\\d? ?(?P<common_number>о\\. ?ч\\. )? ?(?P<word_type>[0-9IVШ]{1,3})?(?:,? ?(?P<word_alt>\\d ?\\W))? ?(?P<def>.*?)(?:\\[/m\\])?$', line).groups('')\n",
    "        word = re.sub(r'\\[.*?\\]', r'', word).lower().strip() + lost\n",
    "        if ' ' in word:\n",
    "            continue\n",
    "        transcribed_word = get_transcript(word)\n",
    "\n",
    "        if common_number != '':\n",
    "            common_number = 'общее число'\n",
    "\n",
    "        definitions = []\n",
    "        examples = []\n",
    "        for item in re.findall(r'(?:\\d\\. )?(.*?)(?:;\\s?|\\d\\. |$|\\\\#\\s?)', expanded_definition):\n",
    "            find_examples = re.search(r'^\\[b\\](?P<example>.*?)\\[\\/b\\](?P<example_def>.*?)$', item)\n",
    "            if find_examples != None:\n",
    "                example, definition = find_examples.groups('')\n",
    "                example = example.strip()\n",
    "                item_dict = {'example_cyrillic': example, \n",
    "                             'example_transcription': get_transcript(example), \n",
    "                             'example_definition': definition.strip()}\n",
    "                examples.append(item_dict)\n",
    "            else:\n",
    "                if item.strip() != '':\n",
    "                    definitions.append(item.strip())\n",
    "\n",
    "        if word_type != '':\n",
    "            if transcribed_word.endswith('e'):\n",
    "                pos = 'Verb'\n",
    "            else:\n",
    "                pos = 'Noun'\n",
    "        else:\n",
    "            pos = ''\n",
    "\n",
    "        instance = {'cyrillic_backwards': word[::-1],\n",
    "                    'transcription_backwards': transcribed_word[::-1],\n",
    "                    'cyrillic': word,\n",
    "                    'transcription': transcribed_word,\n",
    "                    'derived_cyrillic': main_word,\n",
    "                    'derived_transcription': transcribed_main_word,\n",
    "                    'form_cyrillic': form,\n",
    "                    'form_transcription': get_transcript(form),\n",
    "                    'pos': pos,\n",
    "                    'common_number': common_number,\n",
    "                    'type': word_type,\n",
    "                    'type_alternation': word_alt,\n",
    "                    'definitions': definitions,\n",
    "                    'examples' : examples\n",
    "                    }\n",
    "        fixing_lost.append(instance)"
   ]
  },
  {
   "cell_type": "code",
   "execution_count": 57,
   "metadata": {},
   "outputs": [
    {
     "data": {
      "text/plain": [
       "2"
      ]
     },
     "execution_count": 57,
     "metadata": {},
     "output_type": "execute_result"
    }
   ],
   "source": [
    "len(fixing_lost)"
   ]
  },
  {
   "cell_type": "code",
   "execution_count": 59,
   "metadata": {},
   "outputs": [],
   "source": [
    "with open('../done/fixed_lost.csv','w',encoding='utf-8') as f:\n",
    "    f.write('cyrillic_backwards\\ttranscription_backwards\\tcyrillic\\ttranscription\\tderived_cyrillic\\tderived_transcription\\tform_cyrillic\\tform_transcription\\tpos\\tcommon_number\\ttype\\ttype_alternation\\tdefinitions\\texample_cyrillic\\texample_transcription\\texample_definition\\n')\n",
    "    for word in fixing_lost:\n",
    "        examples = ''\n",
    "        for example in word['examples']:\n",
    "            examples += f\"{example['example_cyrillic']}\\t{example['example_transcription']}\\t{example['example_definition']}\\t\"\n",
    "        line = f\"{word['cyrillic_backwards']}\\t{word['transcription_backwards']}\\t{word['cyrillic']}\\t{word['transcription']}\\t{word['derived_cyrillic']}\\t{word['derived_transcription']}\\t{word['form_cyrillic']}\\t{word['form_transcription']}\\t{word['pos']}\\t{word['common_number']}\\t{word['type']}\\t{word['type_alternation']}\\t{';'.join(word['definitions'])}\\t{examples}\\n\"\n",
    "        f.write(line)"
   ]
  },
  {
   "cell_type": "code",
   "execution_count": 60,
   "metadata": {},
   "outputs": [],
   "source": [
    "with open('../done/fixed_lost.json', 'w', encoding='utf-8') as json_file:\n",
    "    json.dump(fixing_lost, json_file, ensure_ascii=False)"
   ]
  },
  {
   "cell_type": "code",
   "execution_count": 5,
   "metadata": {},
   "outputs": [],
   "source": [
    "# первый раз\n",
    "\n",
    "# for stranger in strangers:\n",
    "#     print(stranger, end='\\n\\n')\n",
    "#     print(kuruch_list[stranger['number']]['definitions'])\n",
    "#     print(kuruch_list[stranger['number']]['examples'])\n",
    "#     decision = str(input())\n",
    "#     stranger['decision'] = decision\n",
    "# with open('../intermediate files/strangers.json', 'w', encoding='utf-8') as json_file:\n",
    "#     json.dump(strangers, json_file, ensure_ascii=False)\n",
    "\n",
    "# не первый раз\n",
    "with open('../intremediate files/strangers.json', encoding='utf-8') as f:\n",
    "    strangers = json.load(f)"
   ]
  },
  {
   "cell_type": "code",
   "execution_count": 6,
   "metadata": {},
   "outputs": [
    {
     "name": "stdout",
     "output_type": "stream",
     "text": [
      "\t[m1]иногда, бывало); пудзэ чёлнэв чурьвэть чёххча олени обдирают рога осенью[/m]\n",
      "lost part: иногда, бывало)\n",
      "example: пудзэ чёлнэв чурьвэть чёххча\n",
      "definition: олени обдирают рога осенью\n",
      "\t[m1]затишье 2. перен. успокаиваться / успокоиться (после шума, скандала)[/m]\n",
      "lost part: затишье\n",
      "new definition: перен. успокаиваться / успокоиться (после шума, скандала)\n",
      "\t[m1]в тундру[/m]\n",
      "{'cyrillic_backwards': 'ейыв', 'transcription_backwards': 'ejɨv', 'cyrillic': 'выйе', 'transcription': 'vɨje', 'derived_cyrillic': 'выйе', 'derived_transcription': 'vɨje', 'form_cyrillic': '', 'form_transcription': '', 'pos': 'Verb', 'common_number': '', 'type': 'I', 'type_alternation': '', 'definitions': ['ехать'], 'examples': [{'example_cyrillic': 'выйе пӯдзэ альн', 'example_transcription': \"vɨje puuʒe al'n\", 'example_definition': 'ехать на оленях'}, {'example_cyrillic': 'выйе по̄йсэсьт', 'example_transcription': \"vɨje poojses't\", 'example_definition': 'ехать поездом'}, {'example_cyrillic': 'выйем ве̄шш', 'example_transcription': \"vɨjem v'eešš\", 'example_definition': 'принадлежности для езды'}, {'example_cyrillic': 'выйе ланна, чӣррэ', 'example_transcription': 'vɨje lanna, čiirre', 'example_definition': 'ехать в город, \\t[m1]в тундру[/m]'}]}\n",
      "\n",
      "\t[m1]прошедшего не воротишь [/m]\n",
      "{'cyrillic_backwards': 'кгё', 'transcription_backwards': 'kgoj', 'cyrillic': 'ёгк', 'transcription': 'jogk', 'derived_cyrillic': 'ёгк', 'derived_transcription': 'jogk', 'form_cyrillic': 'ёг', 'form_transcription': 'jog', 'pos': 'Noun', 'common_number': '', 'type': 'I', 'type_alternation': '', 'definitions': ['река'], 'examples': [{'example_cyrillic': 'чӣӈӈлэсс ча̄дзь ёгк', 'example_transcription': \"čiiŋŋless čaaʒ' jogk\", 'example_definition': 'глубоководная река'}, {'example_cyrillic': 'паяс ёг', 'example_transcription': 'pajas jog', 'example_definition': 'вверх по реке'}, {'example_cyrillic': 'ёгк', 'example_transcription': 'jogk', 'example_definition': '[b]ня̄лльм[/b] устье реки'}, {'example_cyrillic': 'ёгк оалкхэшш', 'example_transcription': 'jogk oalkxešš', 'example_definition': 'исток'}, {'example_cyrillic': 'кэ̄ннял ёгкэнҍ ко̄ллкэв', 'example_transcription': \"keeɲ'ɲ'al jogken' koollkev\", 'example_definition': 'перен. слезы льются рекой'}, {'example_cyrillic': 'ёгк кушшкэнҍ мэнэ е̄ллем па̄лль', 'example_transcription': \"jogk kuššken' mene jeel'l'em paal'l'\", 'example_definition': 'посл. бурно прошла жизнь (букв. жизнь прошла как вода через порог)'}, {'example_cyrillic': 'ёгк роаптэ эйй ко̄лк', 'example_transcription': 'jogk roapte ejj koolk', 'example_definition': 'посл. река вспять не течёт \\t[m1]прошедшего не воротишь [/m]'}]}\n",
      "\n",
      "\t[m1]он сам себе портит жизнь[/m]\n",
      "{'cyrillic_backwards': 'энкйаом', 'transcription_backwards': 'enkjaom', 'cyrillic': 'моайкнэ', 'transcription': 'moajkne', 'derived_cyrillic': 'ма̄ййкэ', 'derived_transcription': 'maajjke', 'form_cyrillic': '', 'form_transcription': '', 'pos': 'Verb', 'common_number': '', 'type': 'III', 'type_alternation': '', 'definitions': ['портить кого-что (постоянно', 'иногда, бывало)'], 'examples': [{'example_cyrillic': 'со̄нн ӣджь моайкант', 'example_transcription': \"soonn iidž' moajkant\", 'example_definition': '[b]я̄ллмужэсь[/b] \\t[m1]он сам себе портит жизнь[/m]'}]}\n",
      "\n",
      "\t[m1]пастух с помощью собаки гонит стадо к лесу[/m]\n",
      "{'cyrillic_backwards': 'эхр̄ет', 'transcription_backwards': \"exree't\", 'cyrillic': 'те̄рхэ', 'transcription': \"t'eerxe\", 'derived_cyrillic': 'те̄ррэ', 'derived_transcription': \"t'eerre\", 'form_cyrillic': '', 'form_transcription': '', 'pos': 'Verb', 'common_number': '', 'type': 'III', 'type_alternation': '', 'definitions': ['гнать (стадо с помощью собак)'], 'examples': [{'example_cyrillic': 'пастэх те̄раһт чӯдзэ ва̄рра', 'example_transcription': \"pastex t'eeraht čuuʒe vaarra\", 'example_definition': ' \\t[m1]пастух с помощью собаки гонит стадо к лесу[/m]'}]}\n",
      "\n",
      "\t[m1]ягод[/m]\n",
      "{'cyrillic_backwards': 'эхзу', 'transcription_backwards': 'exzu', 'cyrillic': 'узхэ', 'transcription': 'uzxe', 'derived_cyrillic': 'уссэ', 'derived_transcription': 'usse', 'form_cyrillic': '', 'form_transcription': '', 'pos': 'Verb', 'common_number': '', 'type': 'III', 'type_alternation': '', 'definitions': [], 'examples': [{'example_cyrillic': 'понуд. к [b]уссэ', 'example_transcription': 'ponud. k [b]usse', 'example_definition': ''}, {'example_cyrillic': 'мыйй тэнн ва̄рэнь та̄рьм узхэмь', 'example_transcription': \"mɨjj tenn vaareɲ' taar'm uzxem'\", 'example_definition': 'этот гость у нас сегодня вдоволь насобирал \\t[m1]ягод[/m]'}]}\n",
      "\n",
      "\t[m1]у него карманы постоянно оттопырены[/m]\n",
      "{'cyrillic_backwards': 'энвушкгоч', 'transcription_backwards': 'envuškgoč', 'cyrillic': 'чогкшувнэ', 'transcription': 'čogkšuvne', 'derived_cyrillic': 'чо̄гк', 'derived_transcription': 'čoogk', 'form_cyrillic': '', 'form_transcription': '', 'pos': 'Verb', 'common_number': '', 'type': 'III', 'type_alternation': '', 'definitions': ['оттопыриваться (постоянно', 'иногда, бывало)'], 'examples': [{'example_cyrillic': 'со̄нэсьт ка̄ӆт тоаййв чогкшувнэв', 'example_transcription': \"soones't kaal̥t toajjv čogkšuvnev\", 'example_definition': ' \\t[m1]у него карманы постоянно оттопырены[/m]'}]}\n",
      "\n",
      "\t[m1]успевает выйти вместе со мной[/m]\n",
      "{'cyrillic_backwards': 'энтв̄ю', 'transcription_backwards': 'entvuuj', 'cyrillic': 'ю̄втнэ', 'transcription': 'juuvtne', 'derived_cyrillic': 'ю̄ввтэ', 'derived_transcription': 'juuvvte', 'form_cyrillic': '', 'form_transcription': '', 'pos': 'Verb', 'common_number': '', 'type': 'III', 'type_alternation': '', 'definitions': ['успевать (постоянно', 'иногда, бывало)'], 'examples': [{'example_cyrillic': 'со̄нн пай ю̄втант мунэнҍ аххтан выййтэ', 'example_transcription': \"soonn paj juuvtant munen' axxtan vɨjjte\", 'example_definition': 'он всегда \\t[m1]успевает выйти вместе со мной[/m]'}]}\n",
      "\n",
      "\t[m1]в тундру[/m]\n",
      "{'cyrillic_backwards': 'ейыв', 'transcription_backwards': 'ejɨv', 'cyrillic': 'выйе', 'transcription': 'vɨje', 'derived_cyrillic': 'выйе', 'derived_transcription': 'vɨje', 'form_cyrillic': '', 'form_transcription': '', 'pos': 'Verb', 'common_number': '', 'type': 'I', 'type_alternation': '', 'definitions': ['ехать'], 'examples': [{'example_cyrillic': 'выйе пӯдзэ альн', 'example_transcription': \"vɨje puuʒe al'n\", 'example_definition': 'ехать на оленях'}, {'example_cyrillic': 'выйе по̄йсэсьт', 'example_transcription': \"vɨje poojses't\", 'example_definition': 'ехать поездом'}, {'example_cyrillic': 'выйем ве̄шш', 'example_transcription': \"vɨjem v'eešš\", 'example_definition': 'принадлежности для езды'}, {'example_cyrillic': 'выйе ланна, чӣррэ', 'example_transcription': 'vɨje lanna, čiirre', 'example_definition': 'ехать в город, \\t[m1]в тундру[/m]'}]}\n",
      "\n",
      "\t[m1]прошедшего не воротишь [/m]\n",
      "{'cyrillic_backwards': 'кгё', 'transcription_backwards': 'kgoj', 'cyrillic': 'ёгк', 'transcription': 'jogk', 'derived_cyrillic': 'ёгк', 'derived_transcription': 'jogk', 'form_cyrillic': 'ёг', 'form_transcription': 'jog', 'pos': 'Noun', 'common_number': '', 'type': 'I', 'type_alternation': '', 'definitions': ['река'], 'examples': [{'example_cyrillic': 'чӣӈӈлэсс ча̄дзь ёгк', 'example_transcription': \"čiiŋŋless čaaʒ' jogk\", 'example_definition': 'глубоководная река'}, {'example_cyrillic': 'паяс ёг', 'example_transcription': 'pajas jog', 'example_definition': 'вверх по реке'}, {'example_cyrillic': 'ёгк', 'example_transcription': 'jogk', 'example_definition': '[b]ня̄лльм[/b] устье реки'}, {'example_cyrillic': 'ёгк оалкхэшш', 'example_transcription': 'jogk oalkxešš', 'example_definition': 'исток'}, {'example_cyrillic': 'кэ̄ннял ёгкэнҍ ко̄ллкэв', 'example_transcription': \"keeɲ'ɲ'al jogken' koollkev\", 'example_definition': 'перен. слезы льются рекой'}, {'example_cyrillic': 'ёгк кушшкэнҍ мэнэ е̄ллем па̄лль', 'example_transcription': \"jogk kuššken' mene jeel'l'em paal'l'\", 'example_definition': 'посл. бурно прошла жизнь (букв. жизнь прошла как вода через порог)'}, {'example_cyrillic': 'ёгк роаптэ эйй ко̄лк', 'example_transcription': 'jogk roapte ejj koolk', 'example_definition': 'посл. река вспять не течёт \\t[m1]прошедшего не воротишь [/m]'}]}\n",
      "\n",
      "\t[m1]он сам себе портит жизнь[/m]\n",
      "{'cyrillic_backwards': 'энкйаом', 'transcription_backwards': 'enkjaom', 'cyrillic': 'моайкнэ', 'transcription': 'moajkne', 'derived_cyrillic': 'ма̄ййкэ', 'derived_transcription': 'maajjke', 'form_cyrillic': '', 'form_transcription': '', 'pos': 'Verb', 'common_number': '', 'type': 'III', 'type_alternation': '', 'definitions': ['портить кого-что (постоянно', 'иногда, бывало)'], 'examples': [{'example_cyrillic': 'со̄нн ӣджь моайкант', 'example_transcription': \"soonn iidž' moajkant\", 'example_definition': '[b]я̄ллмужэсь[/b] \\t[m1]он сам себе портит жизнь[/m]'}]}\n",
      "\n",
      "\t[m1]пастух с помощью собаки гонит стадо к лесу[/m]\n",
      "{'cyrillic_backwards': 'эхр̄ет', 'transcription_backwards': \"exree't\", 'cyrillic': 'те̄рхэ', 'transcription': \"t'eerxe\", 'derived_cyrillic': 'те̄ррэ', 'derived_transcription': \"t'eerre\", 'form_cyrillic': '', 'form_transcription': '', 'pos': 'Verb', 'common_number': '', 'type': 'III', 'type_alternation': '', 'definitions': ['гнать (стадо с помощью собак)'], 'examples': [{'example_cyrillic': 'пастэх те̄раһт чӯдзэ ва̄рра', 'example_transcription': \"pastex t'eeraht čuuʒe vaarra\", 'example_definition': ' \\t[m1]пастух с помощью собаки гонит стадо к лесу[/m]'}]}\n",
      "\n",
      "\t[m1]ягод[/m]\n",
      "{'cyrillic_backwards': 'эхзу', 'transcription_backwards': 'exzu', 'cyrillic': 'узхэ', 'transcription': 'uzxe', 'derived_cyrillic': 'уссэ', 'derived_transcription': 'usse', 'form_cyrillic': '', 'form_transcription': '', 'pos': 'Verb', 'common_number': '', 'type': 'III', 'type_alternation': '', 'definitions': [], 'examples': [{'example_cyrillic': 'понуд. к [b]уссэ', 'example_transcription': 'ponud. k [b]usse', 'example_definition': ''}, {'example_cyrillic': 'мыйй тэнн ва̄рэнь та̄рьм узхэмь', 'example_transcription': \"mɨjj tenn vaareɲ' taar'm uzxem'\", 'example_definition': 'этот гость у нас сегодня вдоволь насобирал \\t[m1]ягод[/m]'}]}\n",
      "\n",
      "\t[m1]у него карманы постоянно оттопырены[/m]\n",
      "{'cyrillic_backwards': 'энвушкгоч', 'transcription_backwards': 'envuškgoč', 'cyrillic': 'чогкшувнэ', 'transcription': 'čogkšuvne', 'derived_cyrillic': 'чо̄гк', 'derived_transcription': 'čoogk', 'form_cyrillic': '', 'form_transcription': '', 'pos': 'Verb', 'common_number': '', 'type': 'III', 'type_alternation': '', 'definitions': ['оттопыриваться (постоянно', 'иногда, бывало)'], 'examples': [{'example_cyrillic': 'со̄нэсьт ка̄ӆт тоаййв чогкшувнэв', 'example_transcription': \"soones't kaal̥t toajjv čogkšuvnev\", 'example_definition': ' \\t[m1]у него карманы постоянно оттопырены[/m]'}]}\n",
      "\n",
      "\t[m1]успевает выйти вместе со мной[/m]\n",
      "{'cyrillic_backwards': 'энтв̄ю', 'transcription_backwards': 'entvuuj', 'cyrillic': 'ю̄втнэ', 'transcription': 'juuvtne', 'derived_cyrillic': 'ю̄ввтэ', 'derived_transcription': 'juuvvte', 'form_cyrillic': '', 'form_transcription': '', 'pos': 'Verb', 'common_number': '', 'type': 'III', 'type_alternation': '', 'definitions': ['успевать (постоянно', 'иногда, бывало)'], 'examples': [{'example_cyrillic': 'со̄нн пай ю̄втант мунэнҍ аххтан выййтэ', 'example_transcription': \"soonn paj juuvtant munen' axxtan vɨjjte\", 'example_definition': 'он всегда \\t[m1]успевает выйти вместе со мной[/m]'}]}\n",
      "\n"
     ]
    }
   ],
   "source": [
    "for stranger in strangers:\n",
    "    n = stranger['number']\n",
    "    if 'decision' not in stranger:\n",
    "        print(stranger['line'])\n",
    "        print(kuruch_list[n])\n",
    "        stranger['decision'] = str(input())\n",
    "    if stranger['decision'] == 'part of last definition':\n",
    "        part = re.search(r'\\t\\[m1\\](.*?)\\[\\/m\\]', stranger['line']).group()\n",
    "        kuruch_list[n]['definitions'][-1] += ' ' + part\n",
    "    elif stranger['decision'] == 'part of last definition and new definition':\n",
    "        lost_part, new_def = re.search(r'\\t\\[m1\\](.*?);? ?\\d\\. (.*?)\\[\\/m\\]', stranger['line']).groups('')\n",
    "        kuruch_list[n]['definitions'][-1] += ' ' + lost_part\n",
    "        kuruch_list[n]['definitions'].append(new_def.strip())\n",
    "    elif stranger['decision'] == 'part of last example definition':\n",
    "        part = re.search(r'\\t\\[m1\\](.*?)\\[\\/m\\]', stranger['line']).group()\n",
    "        kuruch_list[n]['examples'][-1]['example_definition'] += ' ' + part\n",
    "    elif stranger['decision'] == 'new definition for last item':\n",
    "        part = re.search(r'\\t\\[m1\\] ?\\d\\. (.*?)\\[\\/m\\]', stranger['line']).group()\n",
    "        kuruch_list[n]['definitions'].append(part)\n",
    "    elif stranger['decision'] == 'new definitions for last item':\n",
    "        parts = re.findall(r'\\d\\. (.*?)(?:\\[\\/m\\]|\\d)', stranger['line'])\n",
    "        for part in parts:\n",
    "            kuruch_list[n]['definitions'].append(part.strip())\n",
    "    elif stranger['decision'] == 'part of last definition and new definitions':\n",
    "        lost_part, new = re.search(r'\\t\\[m1\\](.*?)(\\d\\..*?)\\[\\/m\\]', stranger['line']).groups('')\n",
    "        kuruch_list[n]['definitions'][-1] += ' ' + lost_part.strip()\n",
    "        parts = re.findall(r'\\d\\. (.*?)(?:$|\\d)', new)\n",
    "        for part in parts:\n",
    "            kuruch_list[n]['definitions'].append(part.strip())\n",
    "    elif stranger['decision'] == 'part of last definition and new definitions and new example':\n",
    "        print(stranger['line'])\n",
    "        kuruch_list[n]['definitions'][-1] += ' ' + str(input('lost part: '))\n",
    "        example = str(input('example: '))\n",
    "        kuruch_list[n]['examples'].append({'example_cyrillic': example, \n",
    "                                             'example_transcription': get_transcript(example), \n",
    "                                             'example_definition': str(input('definition: '))})\n",
    "    elif stranger['decision'] == 'part of last example and new definition':\n",
    "        print(stranger['line'])\n",
    "        kuruch_list[n]['examples'][-1]['example_definition'] += ' ' + str(input('lost part: '))\n",
    "        new = str(input('new definition: '))\n",
    "        kuruch_list[n]['definitions'].append(new)"
   ]
  },
  {
   "cell_type": "code",
   "execution_count": 7,
   "metadata": {},
   "outputs": [
    {
     "data": {
      "text/plain": [
       "{'cyrillic_backwards': 'эрбба',\n",
       " 'transcription_backwards': 'erbba',\n",
       " 'cyrillic': 'аббрэ',\n",
       " 'transcription': 'abbre',\n",
       " 'derived_cyrillic': 'аббьр',\n",
       " 'derived_transcription': \"ab'b'r\",\n",
       " 'form_cyrillic': '',\n",
       " 'form_transcription': '',\n",
       " 'pos': 'Verb',\n",
       " 'common_number': '',\n",
       " 'type': 'II',\n",
       " 'type_alternation': '4 ',\n",
       " 'definitions': ['идти - о дожде, дождить'],\n",
       " 'examples': [{'example_cyrillic': 'ке̄сся тоаййв эбьрэ',\n",
       "   'example_transcription': \"k'ees's'a toajjv eb're\",\n",
       "   'example_definition': 'лётом часто шёл дождь'}]}"
      ]
     },
     "execution_count": 7,
     "metadata": {},
     "output_type": "execute_result"
    }
   ],
   "source": [
    "kuruch_list[8]"
   ]
  },
  {
   "cell_type": "code",
   "execution_count": 8,
   "metadata": {},
   "outputs": [],
   "source": [
    "with open('../done/kuruch.csv','w',encoding='utf-8') as f:\n",
    "    f.write('cyrillic_backwards\\ttranscription_backwards\\tcyrillic\\ttranscription\\tderived_cyrillic\\tderived_transcription\\tform_cyrillic\\tform_transcription\\tpos\\tcommon_number\\ttype\\ttype_alternation\\tdefinitions\\texample_cyrillic\\texample_transcription\\texample_definition\\n')\n",
    "    for word in kuruch_list:\n",
    "        examples = ''\n",
    "        for example in word['examples']:\n",
    "            examples += f\"{example['example_cyrillic']}\\t{example['example_transcription']}\\t{example['example_definition']}\\t\"\n",
    "        line = f\"{word['cyrillic_backwards']}\\t{word['transcription_backwards']}\\t{word['cyrillic']}\\t{word['transcription']}\\t{word['derived_cyrillic']}\\t{word['derived_transcription']}\\t{word['form_cyrillic']}\\t{word['form_transcription']}\\t{word['pos']}\\t{word['common_number']}\\t{word['type']}\\t{word['type_alternation']}\\t{';'.join(word['definitions'])}\\t{examples}\\n\"\n",
    "        f.write(line)"
   ]
  },
  {
   "cell_type": "code",
   "execution_count": 9,
   "metadata": {},
   "outputs": [],
   "source": [
    "with open('../done/kuruch.json', 'w', encoding='utf-8') as json_file:\n",
    "    json.dump(kuruch_list, json_file, ensure_ascii=False)"
   ]
  },
  {
   "cell_type": "markdown",
   "metadata": {},
   "source": [
    "## Мостерская ноябрь 2020. Исправление ошибок."
   ]
  },
  {
   "cell_type": "code",
   "execution_count": 3,
   "metadata": {},
   "outputs": [],
   "source": [
    "import pandas as pd"
   ]
  },
  {
   "cell_type": "code",
   "execution_count": 310,
   "metadata": {},
   "outputs": [],
   "source": [
    "kuruch = pd.read_csv('../done/kuruch_revised_november.csv', encoding='utf-8')"
   ]
  },
  {
   "cell_type": "code",
   "execution_count": 311,
   "metadata": {},
   "outputs": [],
   "source": [
    "kuruch.drop_duplicates(inplace=True)"
   ]
  },
  {
   "cell_type": "code",
   "execution_count": 312,
   "metadata": {},
   "outputs": [
    {
     "data": {
      "text/html": [
       "<div>\n",
       "<style scoped>\n",
       "    .dataframe tbody tr th:only-of-type {\n",
       "        vertical-align: middle;\n",
       "    }\n",
       "\n",
       "    .dataframe tbody tr th {\n",
       "        vertical-align: top;\n",
       "    }\n",
       "\n",
       "    .dataframe thead th {\n",
       "        text-align: right;\n",
       "    }\n",
       "</style>\n",
       "<table border=\"1\" class=\"dataframe\">\n",
       "  <thead>\n",
       "    <tr style=\"text-align: right;\">\n",
       "      <th></th>\n",
       "      <th>cyrillic_backwards</th>\n",
       "      <th>transcription_backwards</th>\n",
       "      <th>cyrillic</th>\n",
       "      <th>transcription</th>\n",
       "      <th>derived_cyrillic</th>\n",
       "      <th>derived_transcription</th>\n",
       "      <th>form_cyrillic</th>\n",
       "      <th>form_transcription</th>\n",
       "      <th>часть речи</th>\n",
       "      <th>grammar</th>\n",
       "      <th>...</th>\n",
       "      <th>Unnamed: 93</th>\n",
       "      <th>Unnamed: 94</th>\n",
       "      <th>Unnamed: 95</th>\n",
       "      <th>Unnamed: 96</th>\n",
       "      <th>Unnamed: 97</th>\n",
       "      <th>Unnamed: 98</th>\n",
       "      <th>Unnamed: 99</th>\n",
       "      <th>Unnamed: 100</th>\n",
       "      <th>Unnamed: 101</th>\n",
       "      <th>Unnamed: 102</th>\n",
       "    </tr>\n",
       "  </thead>\n",
       "  <tbody>\n",
       "    <tr>\n",
       "      <th>0</th>\n",
       "      <td>львв̄а</td>\n",
       "      <td>l'v'vaa</td>\n",
       "      <td>а̄ввьл</td>\n",
       "      <td>aav'v'l</td>\n",
       "      <td>а̄ввьл</td>\n",
       "      <td>aav'v'l</td>\n",
       "      <td>а̄вьл</td>\n",
       "      <td>aav'l</td>\n",
       "      <td>Noun</td>\n",
       "      <td>NaN</td>\n",
       "      <td>...</td>\n",
       "      <td>NaN</td>\n",
       "      <td>NaN</td>\n",
       "      <td>NaN</td>\n",
       "      <td>NaN</td>\n",
       "      <td>NaN</td>\n",
       "      <td>NaN</td>\n",
       "      <td>NaN</td>\n",
       "      <td>NaN</td>\n",
       "      <td>NaN</td>\n",
       "      <td>NaN</td>\n",
       "    </tr>\n",
       "    <tr>\n",
       "      <th>1</th>\n",
       "      <td>лл̄ат</td>\n",
       "      <td>llaat</td>\n",
       "      <td>та̄лл</td>\n",
       "      <td>taall</td>\n",
       "      <td>та̄лл</td>\n",
       "      <td>taall</td>\n",
       "      <td>та̄л</td>\n",
       "      <td>taal</td>\n",
       "      <td>Noun</td>\n",
       "      <td>NaN</td>\n",
       "      <td>...</td>\n",
       "      <td>NaN</td>\n",
       "      <td>NaN</td>\n",
       "      <td>NaN</td>\n",
       "      <td>NaN</td>\n",
       "      <td>NaN</td>\n",
       "      <td>NaN</td>\n",
       "      <td>NaN</td>\n",
       "      <td>NaN</td>\n",
       "      <td>NaN</td>\n",
       "      <td>NaN</td>\n",
       "    </tr>\n",
       "  </tbody>\n",
       "</table>\n",
       "<p>2 rows × 103 columns</p>\n",
       "</div>"
      ],
      "text/plain": [
       "  cyrillic_backwards transcription_backwards cyrillic transcription  \\\n",
       "0             львв̄а                 l'v'vaa   а̄ввьл       aav'v'l   \n",
       "1              лл̄ат                   llaat    та̄лл         taall   \n",
       "\n",
       "  derived_cyrillic derived_transcription form_cyrillic form_transcription  \\\n",
       "0           а̄ввьл               aav'v'l         а̄вьл              aav'l   \n",
       "1            та̄лл                 taall          та̄л               taal   \n",
       "\n",
       "  часть речи grammar  ... Unnamed: 93 Unnamed: 94 Unnamed: 95 Unnamed: 96  \\\n",
       "0       Noun     NaN  ...         NaN         NaN         NaN         NaN   \n",
       "1       Noun     NaN  ...         NaN         NaN         NaN         NaN   \n",
       "\n",
       "  Unnamed: 97 Unnamed: 98 Unnamed: 99 Unnamed: 100 Unnamed: 101 Unnamed: 102  \n",
       "0         NaN         NaN         NaN          NaN          NaN          NaN  \n",
       "1         NaN         NaN         NaN          NaN          NaN          NaN  \n",
       "\n",
       "[2 rows x 103 columns]"
      ]
     },
     "execution_count": 312,
     "metadata": {},
     "output_type": "execute_result"
    }
   ],
   "source": [
    "kuruch.head(2)"
   ]
  },
  {
   "cell_type": "code",
   "execution_count": 313,
   "metadata": {},
   "outputs": [
    {
     "data": {
      "text/plain": [
       "Index(['cyrillic_backwards', 'transcription_backwards', 'cyrillic',\n",
       "       'transcription', 'derived_cyrillic', 'derived_transcription',\n",
       "       'form_cyrillic', 'form_transcription', 'часть речи', 'grammar', 'type',\n",
       "       'type_alternation', 'definition', 'example_cyrillic',\n",
       "       'example_transcription', 'example_definition'],\n",
       "      dtype='object')"
      ]
     },
     "execution_count": 313,
     "metadata": {},
     "output_type": "execute_result"
    }
   ],
   "source": [
    "kuruch.columns[:16]"
   ]
  },
  {
   "cell_type": "markdown",
   "metadata": {},
   "source": [
    "### Транскрипция"
   ]
  },
  {
   "cell_type": "code",
   "execution_count": 314,
   "metadata": {},
   "outputs": [],
   "source": [
    "# ɲ' -> ɲ\n",
    "\n",
    "for column in ['transcription','derived_transcription','form_transcription']:\n",
    "    kuruch[column] = kuruch[column].apply(lambda x: x.replace(\"ɲ'\",\"ɲ\") if isinstance(x, str) else x)\n",
    "\n",
    "kuruch['transcription_backwards'] = kuruch['transcription_backwards'].apply(lambda x: x.replace(\"'ɲ\",\"ɲ\") if isinstance(x, str) else x)"
   ]
  },
  {
   "cell_type": "code",
   "execution_count": 315,
   "metadata": {},
   "outputs": [],
   "source": [
    "# ӭäҍ -> палатализация\n",
    "\n",
    "def semi_palatal(row):\n",
    "    for column in ['','derived_','form_']:\n",
    "        cyr = row[f'{column}cyrillic']\n",
    "        if (isinstance(cyr, str)) and (('ä' in cyr) or ('ӭ' in cyr) or ('ҍ' in cyr)):\n",
    "            row[f'{column}transcription'] = get_transcript(cyr)\n",
    "    return row"
   ]
  },
  {
   "cell_type": "code",
   "execution_count": 316,
   "metadata": {},
   "outputs": [],
   "source": [
    "kuruch = kuruch.apply(semi_palatal, axis=1)"
   ]
  },
  {
   "cell_type": "code",
   "execution_count": 317,
   "metadata": {},
   "outputs": [],
   "source": [
    "# dt -> dd\n",
    "# dt' -> d'd'\n",
    "# bp -> bb\n",
    "# bp' -> b'b'\n",
    "# gk -> gg\n",
    "# gk' -> g'g'\n",
    "\n",
    "def repl(g):\n",
    "    return g.group(1)+g.group(2)+g.group(1)+g.group(2)\n",
    "\n",
    "for column in ['','derived_','form_']:\n",
    "    kuruch[f'{column}transcription'] = kuruch[f'{column}transcription'].str.replace(r\"([dbg])[tpk]('?)\", repl)"
   ]
  },
  {
   "cell_type": "code",
   "execution_count": 318,
   "metadata": {},
   "outputs": [],
   "source": [
    "kuruch['transcription_backwards'] = kuruch['transcription'].apply(lambda x: x[::-1])"
   ]
  },
  {
   "cell_type": "markdown",
   "metadata": {},
   "source": [
    "### Тем словам, у которых определение начинается на \"то же, что Х\" скопировать определения, часть речи и grammar"
   ]
  },
  {
   "cell_type": "code",
   "execution_count": 319,
   "metadata": {},
   "outputs": [],
   "source": [
    "def repeat_link(row):\n",
    "    if 'то же, что' in row.definition:\n",
    "        link = re.search(r'то же, что(?P<link>.*?)$', row.definition)\n",
    "        if (link != None):\n",
    "            link = link.group('link').replace('[b]','')\n",
    "            link = re.sub(r'\\d',r'', link).strip()\n",
    "            if link in kuruch.cyrillic.values:\n",
    "                v = kuruch[kuruch.cyrillic == link][['definition','часть речи','grammar']].values\n",
    "                if v.shape[0] > 1:\n",
    "                    print(link, 'appears more than 1 time')\n",
    "                    for definition in v:\n",
    "                        print('\\t',definition[0])\n",
    "                for i,value in enumerate(v[0]):\n",
    "                    row[['definition','часть речи','grammar'][i]] = value\n",
    "            else:\n",
    "                print(link, 'is not in kuruch')\n",
    "        else:\n",
    "            print(row.cyrillic, row.definition)\n",
    "    return row"
   ]
  },
  {
   "cell_type": "code",
   "execution_count": 320,
   "metadata": {},
   "outputs": [
    {
     "data": {
      "text/html": [
       "<div>\n",
       "<style scoped>\n",
       "    .dataframe tbody tr th:only-of-type {\n",
       "        vertical-align: middle;\n",
       "    }\n",
       "\n",
       "    .dataframe tbody tr th {\n",
       "        vertical-align: top;\n",
       "    }\n",
       "\n",
       "    .dataframe thead th {\n",
       "        text-align: right;\n",
       "    }\n",
       "</style>\n",
       "<table border=\"1\" class=\"dataframe\">\n",
       "  <thead>\n",
       "    <tr style=\"text-align: right;\">\n",
       "      <th></th>\n",
       "      <th>definition</th>\n",
       "      <th>часть речи</th>\n",
       "      <th>grammar</th>\n",
       "    </tr>\n",
       "  </thead>\n",
       "  <tbody>\n",
       "    <tr>\n",
       "      <th>1682</th>\n",
       "      <td>то же, что [b]ко̄дче</td>\n",
       "      <td>Verb</td>\n",
       "      <td>NaN</td>\n",
       "    </tr>\n",
       "    <tr>\n",
       "      <th>1683</th>\n",
       "      <td>нереститься (постоянно;иногда, бывало)</td>\n",
       "      <td>Verb</td>\n",
       "      <td>постоянно;иногда, бывало</td>\n",
       "    </tr>\n",
       "  </tbody>\n",
       "</table>\n",
       "</div>"
      ],
      "text/plain": [
       "                                  definition часть речи  \\\n",
       "1682                    то же, что [b]ко̄дче       Verb   \n",
       "1683  нереститься (постоянно;иногда, бывало)       Verb   \n",
       "\n",
       "                       grammar  \n",
       "1682                       NaN  \n",
       "1683  постоянно;иногда, бывало  "
      ]
     },
     "execution_count": 320,
     "metadata": {},
     "output_type": "execute_result"
    }
   ],
   "source": [
    "kuruch[kuruch.cyrillic == 'ко̄днэ'][['definition','часть речи','grammar']]"
   ]
  },
  {
   "cell_type": "code",
   "execution_count": 321,
   "metadata": {},
   "outputs": [
    {
     "name": "stdout",
     "output_type": "stream",
     "text": [
      "адтҍенч is not in kuruch\n",
      "амшуввлэ is not in kuruch\n",
      "бинтнэ is not in kuruch\n",
      "ва̄йймлассьтэ is not in kuruch\n",
      "ва̄ллтьюввэ is not in kuruch\n",
      "ёадтэдтӭ is not in kuruch\n",
      "е̄ххьтлэнч е̄ххьтлэнч is not in kuruch\n",
      "ке̄ллъе is not in kuruch\n",
      "ко̄зсэ appears more than 1 time\n",
      "\t поуправлять кем-чем (немного)\n",
      "\t скосить что (быстро)\n",
      "ко̄днэ appears more than 1 time\n",
      "\t вязать (постоянно, иногда, бывало)\n",
      "\t нереститься (постоянно;иногда, бывало)\n",
      "ко̄ммтнэ appears more than 1 time\n",
      "\t то же, что [b]ко̄ммтнэ\n",
      "\t стать более широким, расшириться;разноситься (об обуви);разлиться (о реках)\n",
      "ко̄зсэ appears more than 1 time\n",
      "\t поуправлять кем-чем (немного)\n",
      "\t скосить что (быстро)\n",
      "кудас кудтэмплоагкь is not in kuruch\n",
      "кэ̄ррь-каћтӭ is not in kuruch\n",
      "ла̄шькэсь is not in kuruch\n",
      "лоаjтнэ is not in kuruch\n",
      "ло̄ћктуввэ is not in kuruch\n",
      "ме̄ррьктэллэ is not in kuruch\n",
      "наввьлдэ is not in kuruch\n",
      "ояффклэ is not in kuruch\n",
      "оафкнэ is not in kuruch\n",
      "па̄гкье is not in kuruch\n",
      "пэ̄днэ is not in kuruch\n",
      "ростхуввэ is not in kuruch\n",
      "сыйпнэ is not in kuruch\n",
      "сэӆкхэ is not in kuruch\n",
      "сэ̄ўўтлэ is not in kuruch\n",
      "тӣввттэ is not in kuruch\n",
      "тоаййтлэ is not in kuruch\n",
      "тоаћтъе is not in kuruch\n",
      "тулльвъе is not in kuruch\n",
      "тэ̄ррвъе is not in kuruch\n",
      "хэ̄ӆӆпэ is not in kuruch\n",
      "ца̄гъсэ is not in kuruch\n",
      "ца̄гьсэ appears more than 1 time\n",
      "\t надеть что (быстро)\n",
      "\t сунуть что во что (быстро);толкнуть кого-что (быстро)\n",
      "цоагче appears more than 1 time\n",
      "\t надевать, примерять что (постоянно;иногда, бывало)\n",
      "\t то же, что [b]цоагнэ\n",
      "цоагнэ appears more than 1 time\n",
      "\t надевать, примерять что (постоянно;иногда, бывало)\n",
      "\t совать, пихать что во что (постоянно;иногда, бывало);толкать кого-что (постоянно;иногда, бывало)\n",
      "шэ̄ннтлэ is not in kuruch\n",
      "шэ̄ӊӊлуввэ is not in kuruch\n",
      "э̄сстье is not in kuruch\n"
     ]
    }
   ],
   "source": [
    "kuruch = kuruch.apply(repeat_link, axis=1)"
   ]
  },
  {
   "cell_type": "code",
   "execution_count": 322,
   "metadata": {},
   "outputs": [
    {
     "data": {
      "text/plain": [
       "533                      бывать (где-л. - иногда, бывало)\n",
       "7069    ловить / поймать тж. перен., вылавливать / выл...\n",
       "5814    считать что-л. очень полным;считать, что где-л...\n",
       "80                           успокаивать кого (постоянно)\n",
       "2845                                               поздно\n",
       "1523    разматываться (о намотанном - иногда, бывало);...\n",
       "5613                                               ошибка\n",
       "70                      теперь, сейчас, в настоящее время\n",
       "5175                                              темнота\n",
       "3048                       кислить, иметь кисловатый вкус\n",
       "Name: definition, dtype: object"
      ]
     },
     "execution_count": 322,
     "metadata": {},
     "output_type": "execute_result"
    }
   ],
   "source": [
    "kuruch.sample(10).definition"
   ]
  },
  {
   "cell_type": "code",
   "execution_count": 323,
   "metadata": {},
   "outputs": [
    {
     "data": {
      "text/plain": [
       "43                                   страд. к [b]а̄ввьлье\n",
       "117                                   то же, что [b]а̄ллэ\n",
       "124     задний отросток \\[на середине\\] рога (оленя);о...\n",
       "139                                     понуд. к [b]альнэ\n",
       "150                                    однокр. [b]зевнуть\n",
       "                              ...                        \n",
       "7333                                   понуд. к [b]юссьтэ\n",
       "7338                                     страд. к [b]юһкэ\n",
       "7349                                    страд. к [b]ю̄гке\n",
       "7367                                  страд. к [b]я̄ккъсэ\n",
       "7390                                         \\[моя\\] мама\n",
       "Name: definition, Length: 542, dtype: object"
      ]
     },
     "execution_count": 323,
     "metadata": {},
     "output_type": "execute_result"
    }
   ],
   "source": [
    "kuruch.definition[kuruch.definition.str.contains('\\[')]"
   ]
  },
  {
   "cell_type": "code",
   "execution_count": 324,
   "metadata": {},
   "outputs": [],
   "source": [
    "kuruch.replace(r'\\[\\/?b\\]',r'', regex=True,inplace=True)\n",
    "kuruch.replace(r'\\\\\\[',r'', regex=True,inplace=True)\n",
    "kuruch.replace(r'\\\\\\]',r'', regex=True,inplace=True)"
   ]
  },
  {
   "cell_type": "code",
   "execution_count": 325,
   "metadata": {},
   "outputs": [],
   "source": [
    "kuruch.to_csv('../done/kuruch_revised_november_fixed.csv', encoding='utf-8', index=False)"
   ]
  },
  {
   "cell_type": "code",
   "execution_count": 326,
   "metadata": {},
   "outputs": [
    {
     "data": {
      "text/plain": [
       "735                           понуд. от [ref]ВУЭДТӬ[/ref]\n",
       "1742            ход (четыре койбы, см. [ref]КОАММАС[/ref]\n",
       "1807    крюк для выделки шкур, койб (см. [ref]КОАММАС[...\n",
       "2414    липты (длинные меховые чулки шерстью внутрь, п...\n",
       "2590                  место в веже (см. [ref]КУЭДТҌ[/ref]\n",
       "Name: definition, dtype: object"
      ]
     },
     "execution_count": 326,
     "metadata": {},
     "output_type": "execute_result"
    }
   ],
   "source": [
    "kuruch.definition[kuruch.definition.str.contains('\\[')]"
   ]
  },
  {
   "cell_type": "code",
   "execution_count": null,
   "metadata": {},
   "outputs": [],
   "source": []
  }
 ],
 "metadata": {
  "kernelspec": {
   "display_name": "Python 3",
   "language": "python",
   "name": "python3"
  },
  "language_info": {
   "codemirror_mode": {
    "name": "ipython",
    "version": 3
   },
   "file_extension": ".py",
   "mimetype": "text/x-python",
   "name": "python",
   "nbconvert_exporter": "python",
   "pygments_lexer": "ipython3",
   "version": "3.6.8"
  }
 },
 "nbformat": 4,
 "nbformat_minor": 2
}
