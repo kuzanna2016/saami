{
 "cells": [
  {
   "cell_type": "code",
   "execution_count": 1,
   "metadata": {},
   "outputs": [],
   "source": [
    "import re\n",
    "from tqdm import tqdm_notebook\n",
    "import json"
   ]
  },
  {
   "cell_type": "markdown",
   "metadata": {},
   "source": [
    "## Перевод из кирилицы в нашу транскрипцию"
   ]
  },
  {
   "cell_type": "code",
   "execution_count": null,
   "metadata": {},
   "outputs": [],
   "source": []
  },
  {
   "cell_type": "code",
   "execution_count": 2,
   "metadata": {},
   "outputs": [],
   "source": [
    "vowels_semi_pltl = {\"ӓ\":\"a\",\"ӭ\":\"e\",\"ҍ\":\"\"}\n",
    "vowels_long_pltl = {\"я̄\":\"aa\",\"е̄\":\"ee\",\"ю̄\":\"uu\",\"ӣ\":\"ii\"}\n",
    "vowels_pltl = {\"я\":\"a\",\"е\":\"e\",\"ю\":\"u\",\"ё\":\"o\",\"ь\":\"\",\"и\":\"i\"}\n",
    "vowels_semi_pltl = {\"ӓ\":\"a\",\"ӭ\":\"e\",\"ҍ\":\"\"}\n",
    "vowels_long_pltl = {\"я̄\":\"aa\",\"е̄\":\"ee\",\"ю̄\":\"uu\",\"ӣ\":\"ii\"}\n",
    "vowels_pltl = {\"я\":\"a\",\"е\":\"e\",\"ю\":\"u\",\"ё\":\"o\",\"ь\":\"\",\"и\":\"i\"}\n",
    "vowels_long = {\"я̄\":\"jaa\",\"е̄\":\"jee\",\"ю̄\":\"juu\",\"э̄\":\"ee\",\"ӯ\":\"uu\",\"а̄\":\"aa\",\"ӣ\":\"ii\",\"о̄\":\"oo\"}\n",
    "vowels = {\"ё\":\"jo\",\"а\":\"a\",\"ы\":\"ɨ\",\"у\":\"u\",\"э\":\"e\",\"я\":\"ja\",\"е\":\"je\",\"ю\":\"ju\",\"и\":\"i\",\"о\":\"o\",\"ӭ\":\"e\",\"ӓ\":\"a\"}\n",
    "cnsnt_pltl = {\"дз\":\"ʒ\",\"н\":\"ɲ\",\"ћ\":\"h\",\"б\":\"b\",\"в\":\"v\",\"г\":\"g\",\"д\":\"d\",\"ж\":\"ž\",\"з\":\"z\",\"к\":\"k\",\"л\":\"l\",\"ӆ\":\"l̥\",\"м\":\"m\",\"ӎ\":\"m̥\",\"ӊ\":\"n̥\",\"ӈ\":\"ŋ\",\"п\":\"p\",\"р\":\"r\",\"ҏ\":\"r̥\",\"с\":\"s\",\"т\":\"t\",\"ф\":\"f\",\"х\":\"x\",\"һ\":\"h\",\"ш\":\"š\",\"ц\":\"c\"}\n",
    "cnsnt_no_pltl = {\"дж\":\"ǯ\", \"й\":\"j\", \"ҋ\":\"j̥\", \"ч\":\"č\"}\n",
    "cnsnts = {\"дж\":\"ǯ\",\"дз\":\"ʒ\",\"ћ\":\"h\",\"ҋ\":\"j̥\",\"й\":\"j\",\"б\":\"b\",\"в\":\"v\",\"г\":\"g\",\"д\":\"d\",\"ж\":\"ž\",\"з\":\"z\",\"к\":\"k\",\"л\":\"l\",\"ӆ\":\"l̥\",\"м\":\"m\",\"ӎ\":\"m̥\",\"н\":\"n\",\"ӊ\":\"n̥\",\"ӈ\":\"ŋ\",\"п\":\"p\",\"р\":\"r\",\"ҏ\":\"r̥\",\"с\":\"s\",\"т\":\"t\",\"ф\":\"f\",\"х\":\"x\",\"һ\":\"h\",\"ш\":\"š\",\"ц\":\"c\",\"ч\":\"č\",\"ҍ\":\"\",\"ь\":\"\",\"ъ\":\"\"}\n",
    "\n",
    "def get_transcript(word):\n",
    "    if word == '':\n",
    "        return ''\n",
    "    else:\n",
    "        # заменяем J:\n",
    "        word = re.sub(r\"J\", r\"j̥\", word)\n",
    "        # делаем все лоуверкейс\n",
    "        word = word.lower()\n",
    "        # заменяем полумягкие н:\n",
    "        for vowel, new_vowel in vowels_semi_pltl.items():\n",
    "            # сначала долгие, потому что это два символа:\n",
    "            word = re.sub(\"нн\" + vowel, r\"n'n'\" + new_vowel, word)\n",
    "            word = re.sub(\"н\" + vowel, r\"n'\" + new_vowel, word)\n",
    "        # заменяем палатальный л:\n",
    "        word = re.sub(r\"льй(\\s|$)\", r\"lij\\1\", word)\n",
    "        word = re.sub(r\"льй\", r\"l'j\", word)\n",
    "        # гласные, перед которыми мягкость:\n",
    "        #     сначала долгие, потому что это два символа на самом деле:\n",
    "        for vowel, new_vowel in vowels_long_pltl.items():\n",
    "            for cnsnt, new_cnsnt in cnsnt_pltl.items():\n",
    "                word = re.sub(cnsnt + cnsnt + vowel, new_cnsnt + \"'\" + new_cnsnt + \"'\" + new_vowel, word)\n",
    "                word = re.sub(cnsnt + vowel, new_cnsnt + \"'\" + new_vowel, word)\n",
    "            for cnsnt, new_cnsnt in cnsnt_no_pltl.items():\n",
    "                word = re.sub(cnsnt + cnsnt + vowel, new_cnsnt + new_cnsnt + new_vowel, word)\n",
    "                word = re.sub(cnsnt + vowel, new_cnsnt + new_vowel, word)\n",
    "        #     обычные гласные, перед которыми мягкость:\n",
    "        for vowel, new_vowel in vowels_pltl.items():\n",
    "            for cnsnt, new_cnsnt in cnsnt_pltl.items():\n",
    "                word = re.sub(cnsnt + cnsnt + vowel, new_cnsnt + \"'\" + new_cnsnt + \"'\" + new_vowel, word)\n",
    "                word = re.sub(cnsnt + vowel, new_cnsnt + \"'\" + new_vowel, word)\n",
    "            for cnsnt, new_cnsnt in cnsnt_no_pltl.items():\n",
    "                word = re.sub(cnsnt + cnsnt + vowel, new_cnsnt + new_cnsnt + new_vowel, word)\n",
    "                word = re.sub(cnsnt + vowel, new_cnsnt + new_vowel, word)\n",
    "        # заменяем оставшиеся долгие гласные:\n",
    "        for vowel, new_vowel in vowels_long.items():\n",
    "            word = re.sub(vowel, new_vowel, word)\n",
    "        # оставшиеся гласные:\n",
    "        for vowel, new_vowel in vowels.items():\n",
    "            word = re.sub(vowel, new_vowel, word)\n",
    "        # оставшиеся согласные:\n",
    "        for cnsnt, new_cnsnt in cnsnts.items():\n",
    "                word = re.sub(cnsnt, new_cnsnt, word)\n",
    "        return word"
   ]
  },
  {
   "cell_type": "markdown",
   "metadata": {},
   "source": [
    "## Переводим словарь в json и csv"
   ]
  },
  {
   "cell_type": "code",
   "execution_count": 3,
   "metadata": {},
   "outputs": [],
   "source": [
    "with open(\"../sa-ru-kuruch.dsl\", encoding=\"utf-8\") as f:\n",
    "    kuruch = f.read()\n",
    "kuruch = kuruch.splitlines()[3:] # [3:] - обрезаем сверху метаданные"
   ]
  },
  {
   "cell_type": "code",
   "execution_count": 4,
   "metadata": {
    "scrolled": true
   },
   "outputs": [
    {
     "data": {
      "application/vnd.jupyter.widget-view+json": {
       "model_id": "8f5da5e526cc4e0da7bfd9e8c98cc498",
       "version_major": 2,
       "version_minor": 0
      },
      "text/plain": [
       "HBox(children=(IntProgress(value=0, max=29240), HTML(value='')))"
      ]
     },
     "metadata": {},
     "output_type": "display_data"
    },
    {
     "name": "stdout",
     "output_type": "stream",
     "text": [
      "\n"
     ]
    }
   ],
   "source": [
    "kuruch_list = []\n",
    "catch_lower = False\n",
    "# strangers = []\n",
    "n = -1\n",
    "for line in tqdm_notebook(kuruch):\n",
    "    if not re.match(r'\\t', line):\n",
    "        # в начале статьи нет табулиции\n",
    "        if line.islower():\n",
    "            # дериваты, с ними работаем отдельно в каждой статье, нет смысла отдельно разбирать\n",
    "            catch_lower = True\n",
    "            continue\n",
    "        main_word = re.sub(r'\\d',r'', line.lower()).strip()\n",
    "        transcribed_main_word = get_transcript(main_word)\n",
    "    elif line == '\\t[m1][/m]':\n",
    "        continue\n",
    "    elif catch_lower:\n",
    "        catch_lower = False\n",
    "    elif re.match(r'\\t\\[m0\\]', line):\n",
    "        continue\n",
    "    elif re.match(r'\\t\\[m1\\][а-яА-я ]+\\[\\/m\\]', line):\n",
    "#         strangers.append({'line': line, 'number': n})\n",
    "        continue\n",
    "    elif re.match(r'\\t\\[m1\\]([^[ ].+?)(\\[b\\].*?\\[\\/b\\].*?)?\\[/m\\]', line) and not re.match('\\t\\[m1\\]([^[ ].+?)\\[/b]', line):\n",
    "        match = re.search(r'\\t\\[m1\\](.*?)(\\[b\\].*?\\[\\/b\\].*?)?;\\[/m\\]', line)\n",
    "        try:\n",
    "            lost_piece, more_examples = match.groups('')\n",
    "        except AttributeError:\n",
    "#             strangers.append({'line': line, 'number': n})\n",
    "            continue\n",
    "            \n",
    "        kuruch_list[-1]['definitions'].append(lost_piece)\n",
    "        \n",
    "        if more_examples != '':\n",
    "            example, definition = re.search(r'\\[b\\](.*?)\\[\\/b\\](.*?)$', more_examples).groups('')\n",
    "            example = example.strip()\n",
    "            item_dict = {'example_cyrillic': example, \n",
    "                         'example_transcription': get_transcript(example), \n",
    "                         'example_definition': definition.strip()}\n",
    "            kuruch_list[-1]['examples'].append(item_dict)\n",
    "    else:\n",
    "        regex = r'\\[m1\\] ?(?:\\[b\\])?(.*?)\\[\\/b\\] ?(?:\\(\\[b\\](.*?)\\[\\/b\\]\\))? ?\\d? ?(о\\. ч\\. )?([IV]{1,3})?(?:, (\\d.))? ?(.*?)(?:\\[/m\\])?$'\n",
    "        match = re.search(regex, line)\n",
    "        try:\n",
    "            word, form, common_number, word_type, word_alt, expanded_definition = match.groups('')\n",
    "        except AttributeError:\n",
    "#             strangers.append({'line': line, 'number': n})\n",
    "            continue\n",
    "        \n",
    "        word = re.sub(r'\\[.*?\\]', r'', word).lower().strip()\n",
    "        if ' ' in word:\n",
    "            regex = r'(.*?)(?:\\d\\.(.*?))?$'\n",
    "            example_definition, word_definition = re.search(regex, expanded_definition).groups('')\n",
    "            item_dict = {'example_cyrillic': word, \n",
    "                             'example_transcription': get_transcript(word), \n",
    "                             'example_definition': example_definition.strip()}\n",
    "            kuruch_list[-1]['examples'].append(item_dict)\n",
    "            if word_definition.strip() != '':\n",
    "                kuruch_list[-1]['definitions'].append(word_definition.strip())\n",
    "            continue\n",
    "            \n",
    "        transcribed_word = get_transcript(word)\n",
    "        \n",
    "        if common_number != '':\n",
    "            common_number = 'общее число'\n",
    "        \n",
    "        definitions = []\n",
    "        examples = []\n",
    "        for item in re.findall(r'(?:\\d\\. )?(.*?)(?:;\\s?|\\d\\. |$|\\\\#\\s?)', expanded_definition):\n",
    "            if '[/b]' in item:\n",
    "                example, definition = re.search(r'(?:\\[b\\])?(.*?)\\[\\/b\\](.*?)$', item).groups('')\n",
    "                example = example.strip()\n",
    "                item_dict = {'example_cyrillic': example, \n",
    "                             'example_transcription': get_transcript(example), \n",
    "                             'example_definition': definition.strip()}\n",
    "                examples.append(item_dict)\n",
    "            else:\n",
    "                if item.strip() != '':\n",
    "                    definitions.append(item.strip())\n",
    "                    \n",
    "        if word_type != '':\n",
    "            if transcribed_word.endswith('e'):\n",
    "                pos = 'Verb'\n",
    "            else:\n",
    "                pos = 'Noun'\n",
    "        else:\n",
    "            pos = ''\n",
    "        \n",
    "        instance = {'cyrillic_backwards': word[::-1],\n",
    "                    'transcription_backwards': transcribed_word[::-1],\n",
    "                    'cyrillic': word,\n",
    "                    'transcription': transcribed_word,\n",
    "                    'derived_cyrillic': main_word,\n",
    "                    'derived_transcription': transcribed_main_word,\n",
    "                    'form_cyrillic': form,\n",
    "                    'form_transcription': get_transcript(form),\n",
    "                    'pos': pos,\n",
    "                    'common_number': common_number,\n",
    "                    'type': word_type,\n",
    "                    'type_alternation': word_alt,\n",
    "                    'definitions': definitions,\n",
    "                    'examples' : examples\n",
    "                    }\n",
    "        \n",
    "        kuruch_list.append(instance)\n",
    "        n += 1"
   ]
  },
  {
   "cell_type": "code",
   "execution_count": 5,
   "metadata": {},
   "outputs": [],
   "source": [
    "# первый раз\n",
    "\n",
    "# for stranger in strangers:\n",
    "#     print(stranger, end='\\n\\n')\n",
    "#     print(kuruch_list[stranger['number']]['definitions'])\n",
    "#     print(kuruch_list[stranger['number']]['examples'])\n",
    "#     decision = str(input())\n",
    "#     stranger['decision'] = decision\n",
    "# with open('../intermediate files/strangers.json', 'w', encoding='utf-8') as json_file:\n",
    "#     json.dump(strangers, json_file, ensure_ascii=False)\n",
    "\n",
    "# не первый раз\n",
    "with open('../intremediate files/strangers.json', encoding='utf-8') as f:\n",
    "    strangers = json.load(f)"
   ]
  },
  {
   "cell_type": "code",
   "execution_count": null,
   "metadata": {},
   "outputs": [
    {
     "name": "stdout",
     "output_type": "stream",
     "text": [
      "\t[m1]иногда, бывало); пудзэ чёлнэв чурьвэть чёххча олени обдирают рога осенью[/m]\n",
      "lost part: иногда, бывало)\n",
      "example: пудзэ чёлнэв чурьвэть чёххча\n",
      "definition: олени обдирают рога осенью\n",
      "\t[m1]затишье 2. перен. успокаиваться / успокоиться (после шума, скандала)[/m]\n"
     ]
    }
   ],
   "source": [
    "for stranger in strangers:\n",
    "    n = stranger['number']\n",
    "    if 'decision' not in stranger:\n",
    "        print(stranger['line'])\n",
    "        print(kuruch_list[n])\n",
    "        stranger['decision'] = str(input())\n",
    "    if stranger['decision'] == 'part of last definition':\n",
    "        part = re.search(r'\\t\\[m1\\](.*?)\\[\\/m\\]', stranger['line']).group()\n",
    "        kuruch_list[n]['definitions'][-1] += ' ' + part\n",
    "    elif stranger['decision'] == 'part of last definition and new definition':\n",
    "        lost_part, new_def = re.search(r'\\t\\[m1\\](.*?);? ?\\d\\. (.*?)\\[\\/m\\]', stranger['line']).groups('')\n",
    "        kuruch_list[n]['definitions'][-1] += ' ' + lost_part\n",
    "        kuruch_list[n]['definitions'].append(new_def.strip())\n",
    "    elif stranger['decision'] == 'part of last example definition':\n",
    "        part = re.search(r'\\t\\[m1\\](.*?)\\[\\/m\\]', stranger['line']).group()\n",
    "        kuruch_list[n]['examples'][-1]['example_definition'] += ' ' + part\n",
    "    elif stranger['decision'] == 'new definition for last item':\n",
    "        part = re.search(r'\\t\\[m1\\] ?\\d\\. (.*?)\\[\\/m\\]', stranger['line']).group()\n",
    "        kuruch_list[n]['definitions'].append(part)\n",
    "    elif stranger['decision'] == 'new definitions for last item':\n",
    "        parts = re.findall(r'\\d\\. (.*?)(?:\\[\\/m\\]|\\d)', stranger['line'])\n",
    "        for part in parts:\n",
    "            kuruch_list[n]['definitions'].append(part.strip())\n",
    "    elif stranger['decision'] == 'part of last definition and new definitions':\n",
    "        lost_part, new = re.search(r'\\t\\[m1\\](.*?)(\\d\\..*?)\\[\\/m\\]', stranger['line']).groups('')\n",
    "        kuruch_list[n]['definitions'][-1] += ' ' + lost_part.strip()\n",
    "        parts = re.findall(r'\\d\\. (.*?)(?:$|\\d)', new)\n",
    "        for part in parts:\n",
    "            kuruch_list[n]['definitions'].append(part.strip())\n",
    "    elif stranger['decision'] == 'part of last definition and new definitions and new example':\n",
    "        print(stranger['line'])\n",
    "        kuruch_list[n]['definitions'][-1] += ' ' + str(input('lost part: '))\n",
    "        example = str(input('example: '))\n",
    "        kuruch_list[n]['examples'].append({'example_cyrillic': example, \n",
    "                                             'example_transcription': get_transcript(example), \n",
    "                                             'example_definition': str(input('definition: '))})\n",
    "    elif stranger['decision'] == 'part of last example and new definition':\n",
    "        print(stranger['line'])\n",
    "        kuruch_list[n]['examples'][-1]['example_definition'] += ' ' + str(input('lost part: '))\n",
    "        new = str(input('new definition: '))\n",
    "        kuruch_list[n]['definitions'].append(new)"
   ]
  },
  {
   "cell_type": "code",
   "execution_count": 9,
   "metadata": {},
   "outputs": [
    {
     "data": {
      "text/plain": [
       "{'cyrillic_backwards': 'эрбба',\n",
       " 'transcription_backwards': 'erbba',\n",
       " 'cyrillic': 'аббрэ',\n",
       " 'transcription': 'abbre',\n",
       " 'derived_cyrillic': 'аббьр',\n",
       " 'derived_transcription': \"ab'b'r\",\n",
       " 'form_cyrillic': '',\n",
       " 'form_transcription': '',\n",
       " 'pos': 'Verb',\n",
       " 'common_number': '',\n",
       " 'type': 'II',\n",
       " 'type_alternation': '4 ',\n",
       " 'definitions': ['идти - о дожде, дождить'],\n",
       " 'examples': [{'example_cyrillic': 'ке̄сся тоаййв эбьрэ',\n",
       "   'example_transcription': \"k'ees's'a toajjv eb're\",\n",
       "   'example_definition': 'лётом часто шёл дождь'}]}"
      ]
     },
     "execution_count": 9,
     "metadata": {},
     "output_type": "execute_result"
    }
   ],
   "source": [
    "kuruch_list[8]"
   ]
  },
  {
   "cell_type": "code",
   "execution_count": 10,
   "metadata": {},
   "outputs": [],
   "source": [
    "with open('../done/kuruch.csv','w',encoding='utf-8') as f:\n",
    "    f.write('cyrillic_backwards\\ttranscription_backwards\\tcyrillic\\ttranscription\\tderived_cyrillic\\tderived_transcription\\tform_cyrillic\\tform_transcription\\tpos\\tcommon_number\\ttype\\ttype_alternation\\tdefinitions\\texample_cyrillic\\texample_transcription\\texample_definition\\n')\n",
    "    for word in kuruch_list:\n",
    "        examples = ''\n",
    "        for example in word['examples']:\n",
    "            examples += f\"{example['example_cyrillic']}\\t{example['example_transcription']}\\t{example['example_definition']}\\t\"\n",
    "        line = f\"{word['cyrillic_backwards']}\\t{word['transcription_backwards']}\\t{word['cyrillic']}\\t{word['transcription']}\\t{word['derived_cyrillic']}\\t{word['derived_transcription']}\\t{word['form_cyrillic']}\\t{word['form_transcription']}\\t{word['pos']}\\t{word['common_number']}\\t{word['type']}\\t{word['type_alternation']}\\t{';'.join(word['definitions'])}\\t{examples}\\n\"\n",
    "        f.write(line)"
   ]
  },
  {
   "cell_type": "code",
   "execution_count": 11,
   "metadata": {},
   "outputs": [],
   "source": [
    "with open('../done/kuruch.json', 'w', encoding='utf-8') as json_file:\n",
    "    json.dump(kuruch_list, json_file, ensure_ascii=False)"
   ]
  },
  {
   "cell_type": "code",
   "execution_count": null,
   "metadata": {},
   "outputs": [],
   "source": []
  }
 ],
 "metadata": {
  "kernelspec": {
   "display_name": "Python 3",
   "language": "python",
   "name": "python3"
  },
  "language_info": {
   "codemirror_mode": {
    "name": "ipython",
    "version": 3
   },
   "file_extension": ".py",
   "mimetype": "text/x-python",
   "name": "python",
   "nbconvert_exporter": "python",
   "pygments_lexer": "ipython3",
   "version": "3.6.8"
  }
 },
 "nbformat": 4,
 "nbformat_minor": 2
}
