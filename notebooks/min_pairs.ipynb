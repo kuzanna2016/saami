{
 "cells": [
  {
   "cell_type": "code",
   "execution_count": 7,
   "metadata": {},
   "outputs": [],
   "source": [
    "import re\n",
    "from tqdm import tqdm_notebook\n",
    "import json"
   ]
  },
  {
   "cell_type": "code",
   "execution_count": 39,
   "metadata": {},
   "outputs": [],
   "source": [
    "with open('../done/kuruch.json', encoding='utf-8') as f:\n",
    "    kuruch_dict = json.load(f)"
   ]
  },
  {
   "cell_type": "code",
   "execution_count": 40,
   "metadata": {},
   "outputs": [
    {
     "data": {
      "text/plain": [
       "{'cyrillic_backwards': 'а',\n",
       " 'transcription_backwards': 'a',\n",
       " 'cyrillic': 'а',\n",
       " 'transcription': 'a',\n",
       " 'derived_cyrillic': 'а',\n",
       " 'derived_transcription': 'a',\n",
       " 'form_cyrillic': '',\n",
       " 'form_transcription': '',\n",
       " 'pos': '',\n",
       " 'common_number': '',\n",
       " 'type': '',\n",
       " 'type_alternation': '',\n",
       " 'definitions': ['а', '\\\\[я\\\\] приду не сегодня, а завтра'],\n",
       " 'examples': [{'example_cyrillic': 'пуада эмм та̄рьм, а ента',\n",
       "   'example_transcription': \"puada emm taar'm, a jenta\",\n",
       "   'example_definition': ''},\n",
       "  {'example_cyrillic': 'мунн лӣннче пӯдзэ пынньенҍ, а со̄нн ля̄ннч лӣхемь лаппьсъенҍ',\n",
       "   'example_transcription': \"munn l'iinnče puudze pɨɲ'ɲ'jen', a soonn l'aannč l'iix'em' lap'p'sjen'\",\n",
       "   'example_definition': 'я буду оленеводом, а она будет дояркой;'},\n",
       "  {'example_cyrillic': 'а ке̄ тоннӭ цӣӆькэ тэнн баяс?',\n",
       "   'example_transcription': \"a k'ee ton'n'e c'iil̥'ke tenn bajas?\",\n",
       "   'example_definition': 'а кто тебе сказал об этом?'}]}"
      ]
     },
     "execution_count": 40,
     "metadata": {},
     "output_type": "execute_result"
    }
   ],
   "source": [
    "kuruch_dict[0]"
   ]
  },
  {
   "cell_type": "code",
   "execution_count": 41,
   "metadata": {},
   "outputs": [],
   "source": [
    "def list_from_letters(word):\n",
    "    letter_list = []\n",
    "    n_for_list = 0\n",
    "    for n, letter in enumerate(word):\n",
    "        if letter == \"'\" or letter == \"̥\":\n",
    "            if word[n-1] == \"'\" or word[n-1] == \"̥\":\n",
    "                letter_list[n_for_list - 1] = word[n-2:n+1]\n",
    "            else:\n",
    "                letter_list[n_for_list - 1] = word[n-1:n+1]                 \n",
    "        else:\n",
    "            letter_list.append(letter)\n",
    "            n_for_list += 1 \n",
    "    n = 1\n",
    "    for letter in letter_list[1:]:\n",
    "        if letter == letter_list[n-1]:\n",
    "            letter_list[n-1] = letter + letter\n",
    "            del letter_list[n]\n",
    "        else:\n",
    "            n += 1\n",
    "    n = 1\n",
    "    for letter in letter_list[1:]:\n",
    "        if letter == 'a' or letter == 'e':\n",
    "            if letter_list[n-1] == 'o' or letter_list[n-1] == 'u':\n",
    "                letter_list[n-1] += letter\n",
    "                del letter_list[n]\n",
    "            else:\n",
    "                n += 1\n",
    "        else:\n",
    "                n += 1\n",
    "    return letter_list"
   ]
  },
  {
   "cell_type": "code",
   "execution_count": 42,
   "metadata": {},
   "outputs": [],
   "source": [
    "def minimal_pairs_dict(word_list):\n",
    "    min_pairs = {}\n",
    "    for n_word1,word1 in tqdm_notebook(enumerate(word_list)):\n",
    "        for word2 in word_list[n_word1 + 1:]:\n",
    "            letters_word1 = list_from_letters(word1)\n",
    "            letters_word2 = list_from_letters(word2)\n",
    "            if len(letters_word1) == len(letters_word2):\n",
    "                ndiff = 0\n",
    "                for n, letter1 in enumerate(letters_word1):\n",
    "                    letter2 = letters_word2[n]\n",
    "                    if letter1 != letter2:\n",
    "                        ndiff += 1\n",
    "                        word1_letter = letter1\n",
    "                        word2_letter = letter2\n",
    "                if ndiff==1:\n",
    "                    word1, word2 = \"\", \"\"\n",
    "                    for letter in letters_word1:\n",
    "                        word1 += letter\n",
    "                    for letter in letters_word2:\n",
    "                        word2 += letter\n",
    "                    if word1 in min_pairs:\n",
    "                        min_pairs[word1].append([word2, word1_letter, word2_letter])\n",
    "                    else:\n",
    "                        min_pairs[word1] = [[word2, word1_letter, word2_letter]]\n",
    "    return min_pairs"
   ]
  },
  {
   "cell_type": "code",
   "execution_count": 43,
   "metadata": {},
   "outputs": [
    {
     "data": {
      "application/vnd.jupyter.widget-view+json": {
       "model_id": "8614f0f9a30a4983a3740035521dadfe",
       "version_major": 2,
       "version_minor": 0
      },
      "text/plain": [
       "HBox(children=(IntProgress(value=1, bar_style='info', max=1), HTML(value='')))"
      ]
     },
     "metadata": {},
     "output_type": "display_data"
    },
    {
     "name": "stdout",
     "output_type": "stream",
     "text": [
      "\n"
     ]
    }
   ],
   "source": [
    "min_pairs = minimal_pairs_dict([x['transcription'] for x in kuruch_dict])"
   ]
  },
  {
   "cell_type": "code",
   "execution_count": 44,
   "metadata": {},
   "outputs": [],
   "source": [
    "kuruch_dict_search = {word['transcription']:word for word in kuruch_dict}"
   ]
  },
  {
   "cell_type": "code",
   "execution_count": 45,
   "metadata": {},
   "outputs": [],
   "source": [
    "with open(\"../done/min_pairs.csv\", 'w', encoding=\"utf-8\") as f:\n",
    "    f.write('word1;word1 definitions;word2;word2 definitions;word1 sound; word2 sound\\n')\n",
    "    for word, pairs in min_pairs.items():\n",
    "        for pair in pairs:\n",
    "            line = f\"{word};{kuruch_dict_search[word]['definitions']};{pair[0]};{kuruch_dict_search[pair[0]]['definitions']};{pair[1]};{pair[2]}\\n\"\n",
    "            f.write(line)"
   ]
  },
  {
   "cell_type": "code",
   "execution_count": null,
   "metadata": {},
   "outputs": [],
   "source": []
  }
 ],
 "metadata": {
  "kernelspec": {
   "display_name": "Python 3",
   "language": "python",
   "name": "python3"
  },
  "language_info": {
   "codemirror_mode": {
    "name": "ipython",
    "version": 3
   },
   "file_extension": ".py",
   "mimetype": "text/x-python",
   "name": "python",
   "nbconvert_exporter": "python",
   "pygments_lexer": "ipython3",
   "version": "3.6.8"
  }
 },
 "nbformat": 4,
 "nbformat_minor": 2
}
