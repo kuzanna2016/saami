{
 "cells": [
  {
   "cell_type": "code",
   "execution_count": 3,
   "metadata": {},
   "outputs": [],
   "source": [
    "import re"
   ]
  },
  {
   "cell_type": "code",
   "execution_count": 12,
   "metadata": {},
   "outputs": [],
   "source": [
    "vowels_semi_pltl = {\"ӓ\":\"a\",\"ӭ\":\"e\",\"ҍ\":\"\"}\n",
    "vowels_long_pltl = {\"я̄\":\"aa\",\"е̄\":\"ee\",\"ю̄\":\"uu\",\"ӣ\":\"ii\"}\n",
    "vowels_pltl = {\"я\":\"a\",\"е\":\"e\",\"ю\":\"u\",\"ё\":\"o\",\"ь\":\"\",\"и\":\"i\"}\n",
    "vowels_semi_pltl = {\"ӓ\":\"a\",\"ӭ\":\"e\",\"ҍ\":\"\"}\n",
    "vowels_long_pltl = {\"я̄\":\"aa\",\"е̄\":\"ee\",\"ю̄\":\"uu\",\"ӣ\":\"ii\"}\n",
    "vowels_pltl = {\"я\":\"a\",\"е\":\"e\",\"ю\":\"u\",\"ё\":\"o\",\"ь\":\"\",\"и\":\"i\"}\n",
    "vowels_long = {\"я̄\":\"jaa\",\"е̄\":\"jee\",\"ю̄\":\"juu\",\"э̄\":\"ee\",\"ӯ\":\"uu\",\"а̄\":\"aa\",\"ӣ\":\"ii\",\"о̄\":\"oo\"}\n",
    "vowels = {\"ё\":\"jo\",\"а\":\"a\",\"ы\":\"ɨ\",\"у\":\"u\",\"э\":\"e\",\"я\":\"ja\",\"е\":\"je\",\"ю\":\"ju\",\"и\":\"i\",\"о\":\"o\",\"ӭ\":\"e\",\"ӓ\":\"a\"}\n",
    "cnsnt_pltl = {\"н\":\"ɲ\",\"ћ\":\"h\",\"б\":\"b\",\"в\":\"v\",\"г\":\"g\",\"д\":\"d\",\"ж\":\"ž\",\"з\":\"z\",\"к\":\"k\",\"л\":\"l\",\"ӆ\":\"l̥\",\"м\":\"m\",\"ӎ\":\"m̥\",\"ӊ\":\"n̥\",\"ӈ\":\"ŋ\",\"п\":\"p\",\"р\":\"r\",\"ҏ\":\"r̥\",\"с\":\"s\",\"т\":\"t\",\"ф\":\"f\",\"х\":\"x\",\"һ\":\"h\",\"ш\":\"š\",\"ц\":\"c\",\"дз\":\"ʒ\"}\n",
    "cnsnt_no_pltl = {\"дж\":\"ǯ\", \"й\":\"j\", \"ҋ\":\"j̥\", \"ч\":\"č\"}\n",
    "cnsnts = {\"ћ\":\"h\",\"ҋ\":\"j̥\",\"й\":\"j\",\"б\":\"b\",\"в\":\"v\",\"г\":\"g\",\"д\":\"d\",\"ж\":\"ž\",\"з\":\"z\",\"к\":\"k\",\"л\":\"l\",\"ӆ\":\"l̥\",\"м\":\"m\",\"ӎ\":\"m̥\",\"н\":\"n\",\"ӊ\":\"n̥\",\"ӈ\":\"ŋ\",\"п\":\"p\",\"р\":\"r\",\"ҏ\":\"r̥\",\"с\":\"s\",\"т\":\"t\",\"ф\":\"f\",\"х\":\"x\",\"һ\":\"h\",\"ш\":\"š\",\"ц\":\"c\",\"ч\":\"č\",\"дж\":\"ǯ\",\"дз\":\"ʒ\",\"ҍ\":\"\",\"ь\":\"\",\"ъ\":\"\"}\n",
    "\n",
    "def get_transcript(word):\n",
    "    if word == '':\n",
    "        return ''\n",
    "    else:\n",
    "        # заменяем J:\n",
    "        word = re.sub(r\"J\", r\"j̥\", word)\n",
    "        # делаем все лоуверкейс\n",
    "        word = word.lower()\n",
    "        # заменяем полумягкие н:\n",
    "        for vowel, new_vowel in vowels_semi_pltl.items():\n",
    "            # сначала долгие, потому что это два символа:\n",
    "            word = re.sub(\"нн\" + vowel, r\"n'n'\" + new_vowel, word)\n",
    "            word = re.sub(\"н\" + vowel, r\"n'\" + new_vowel, word)\n",
    "        # заменяем палатальный л:\n",
    "        word = re.sub(r\"льй(\\s|$)\", r\"lij\\1\", word)\n",
    "        word = re.sub(r\"льй\", r\"l'j\", word)\n",
    "        # гласные, перед которыми мягкость:\n",
    "        #     сначала долгие, потому что это два символа на самом деле:\n",
    "        for vowel, new_vowel in vowels_long_pltl.items():\n",
    "            for cnsnt, new_cnsnt in cnsnt_pltl.items():\n",
    "                word = re.sub(cnsnt + cnsnt + vowel, new_cnsnt + \"'\" + new_cnsnt + \"'\" + new_vowel, word)\n",
    "                word = re.sub(cnsnt + vowel, new_cnsnt + \"'\" + new_vowel, word)\n",
    "            for cnsnt, new_cnsnt in cnsnt_no_pltl.items():\n",
    "                word = re.sub(cnsnt + cnsnt + vowel, new_cnsnt + new_cnsnt + new_vowel, word)\n",
    "                word = re.sub(cnsnt + vowel, new_cnsnt + new_vowel, word)\n",
    "        #     обычные гласные, перед которыми мягкость:\n",
    "        for vowel, new_vowel in vowels_pltl.items():\n",
    "            for cnsnt, new_cnsnt in cnsnt_pltl.items():\n",
    "                word = re.sub(cnsnt + cnsnt + vowel, new_cnsnt + \"'\" + new_cnsnt + \"'\" + new_vowel, word)\n",
    "                word = re.sub(cnsnt + vowel, new_cnsnt + \"'\" + new_vowel, word)\n",
    "            for cnsnt, new_cnsnt in cnsnt_no_pltl.items():\n",
    "                word = re.sub(cnsnt + cnsnt + vowel, new_cnsnt + new_cnsnt + new_vowel, word)\n",
    "                word = re.sub(cnsnt + vowel, new_cnsnt + new_vowel, word)\n",
    "        # заменяем оставшиеся долгие гласные:\n",
    "        for vowel, new_vowel in vowels_long.items():\n",
    "            word = re.sub(vowel, new_vowel, word)\n",
    "        # оставшиеся гласные:\n",
    "        for vowel, new_vowel in vowels.items():\n",
    "            word = re.sub(vowel, new_vowel, word)\n",
    "        # оставшиеся согласные:\n",
    "        for cnsnt, new_cnsnt in cnsnts.items():\n",
    "                word = re.sub(cnsnt, new_cnsnt, word)\n",
    "        return word"
   ]
  }
 ],
 "metadata": {
  "kernelspec": {
   "display_name": "Python 3",
   "language": "python",
   "name": "python3"
  },
  "language_info": {
   "codemirror_mode": {
    "name": "ipython",
    "version": 3
   },
   "file_extension": ".py",
   "mimetype": "text/x-python",
   "name": "python",
   "nbconvert_exporter": "python",
   "pygments_lexer": "ipython3",
   "version": "3.6.8"
  }
 },
 "nbformat": 4,
 "nbformat_minor": 2
}
