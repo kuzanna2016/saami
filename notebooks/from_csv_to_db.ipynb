{
 "cells": [
  {
   "cell_type": "code",
   "execution_count": 99,
   "metadata": {},
   "outputs": [],
   "source": [
    "import re\n",
    "from tqdm import tqdm_notebook\n",
    "import json\n",
    "import pandas as pd"
   ]
  },
  {
   "cell_type": "code",
   "execution_count": 988,
   "metadata": {},
   "outputs": [],
   "source": [
    "kuruch = pd.read_csv('../done/kuruch_revised_november_fixed.csv', encoding='utf-8')"
   ]
  },
  {
   "cell_type": "code",
   "execution_count": 239,
   "metadata": {},
   "outputs": [
    {
     "data": {
      "text/plain": [
       "Index(['transcription_backwards', 'cyrillic', 'transcription',\n",
       "       'derived_cyrillic', 'derived_transcription', 'form_cyrillic',\n",
       "       'form_transcription', 'часть речи', 'grammar', 'type',\n",
       "       'type_alternation', 'definition', 'example_cyrillic',\n",
       "       'example_transcription', 'example_definition', 'Unnamed: 16'],\n",
       "      dtype='object')"
      ]
     },
     "execution_count": 239,
     "metadata": {},
     "output_type": "execute_result"
    }
   ],
   "source": [
    "kuruch.columns[:16]"
   ]
  },
  {
   "cell_type": "markdown",
   "metadata": {},
   "source": [
    "# Приблизительная архитектура базы данных"
   ]
  },
  {
   "cell_type": "markdown",
   "metadata": {},
   "source": [
    "1. lexems (могут быть омонимы)\n",
    " 1. __id_lexem__\n",
    " 2. lexem_cyrillic\n",
    " 3. lexem_transcription\n",
    " \n",
    "2. derivatives\n",
    " 1. __id_deriv__\n",
    " 2. id_lexem\n",
    " 3. derived_from (id_lexem)\n",
    " \n",
    "3. grammar\n",
    " 1. __id_gramm__\n",
    " 2. id_lexem\n",
    " 3. definition\n",
    " 4. form_cyrillic\n",
    " 5. form_transcription\n",
    " 6. pos\n",
    " 7. grammar\n",
    " 9. type\n",
    " 8. type_alternation\n",
    " \n",
    "4. examples\n",
    " 1. __id_example__\n",
    " 2. id_lexem\n",
    " 3. id_gramm\n",
    " 3. example_cyrillic\n",
    " 4. example_transcription\n",
    " 5. example_def\n",
    " \n",
    "5. suffixes\n",
    " 1. __id_suffix__\n",
    " 2. form (тупо как он выглядит)\n",
    " 3. meaning (можно попробовать сюда влепить штуки из столбца grammar таблички, ну или просто оставить пока пустым)\n",
    " 4. vowel_alternation\n",
    " 5. length\n",
    " 6. palatalization\n",
    " 7. voicing"
   ]
  },
  {
   "cell_type": "markdown",
   "metadata": {},
   "source": [
    "### Смотрим, как там все устроено"
   ]
  },
  {
   "cell_type": "markdown",
   "metadata": {},
   "source": [
    "Смотрим на повторяющиесе лексемы, нас не интересуют те, которые отличаются только примерами "
   ]
  },
  {
   "cell_type": "code",
   "execution_count": 4,
   "metadata": {},
   "outputs": [
    {
     "data": {
      "text/plain": [
       "20"
      ]
     },
     "execution_count": 4,
     "metadata": {},
     "output_type": "execute_result"
    }
   ],
   "source": [
    "pd.get_option('display.max_columns')"
   ]
  },
  {
   "cell_type": "code",
   "execution_count": 5,
   "metadata": {},
   "outputs": [
    {
     "data": {
      "text/html": [
       "<div>\n",
       "<style scoped>\n",
       "    .dataframe tbody tr th:only-of-type {\n",
       "        vertical-align: middle;\n",
       "    }\n",
       "\n",
       "    .dataframe tbody tr th {\n",
       "        vertical-align: top;\n",
       "    }\n",
       "\n",
       "    .dataframe thead th {\n",
       "        text-align: right;\n",
       "    }\n",
       "</style>\n",
       "<table border=\"1\" class=\"dataframe\">\n",
       "  <thead>\n",
       "    <tr style=\"text-align: right;\">\n",
       "      <th></th>\n",
       "      <th>cyrillic_backwards</th>\n",
       "      <th>transcription_backwards</th>\n",
       "      <th>cyrillic</th>\n",
       "      <th>transcription</th>\n",
       "      <th>derived_cyrillic</th>\n",
       "      <th>derived_transcription</th>\n",
       "      <th>form_cyrillic</th>\n",
       "      <th>form_transcription</th>\n",
       "      <th>часть речи</th>\n",
       "      <th>grammar</th>\n",
       "      <th>type</th>\n",
       "      <th>type_alternation</th>\n",
       "      <th>definition</th>\n",
       "      <th>example_cyrillic</th>\n",
       "      <th>example_transcription</th>\n",
       "      <th>example_definition</th>\n",
       "      <th>Unnamed: 16</th>\n",
       "      <th>Unnamed: 17</th>\n",
       "      <th>Unnamed: 18</th>\n",
       "      <th>Unnamed: 19</th>\n",
       "      <th>...</th>\n",
       "      <th>Unnamed: 83</th>\n",
       "      <th>Unnamed: 84</th>\n",
       "      <th>Unnamed: 85</th>\n",
       "      <th>Unnamed: 86</th>\n",
       "      <th>Unnamed: 87</th>\n",
       "      <th>Unnamed: 88</th>\n",
       "      <th>Unnamed: 89</th>\n",
       "      <th>Unnamed: 90</th>\n",
       "      <th>Unnamed: 91</th>\n",
       "      <th>Unnamed: 92</th>\n",
       "      <th>Unnamed: 93</th>\n",
       "      <th>Unnamed: 94</th>\n",
       "      <th>Unnamed: 95</th>\n",
       "      <th>Unnamed: 96</th>\n",
       "      <th>Unnamed: 97</th>\n",
       "      <th>Unnamed: 98</th>\n",
       "      <th>Unnamed: 99</th>\n",
       "      <th>Unnamed: 100</th>\n",
       "      <th>Unnamed: 101</th>\n",
       "      <th>Unnamed: 102</th>\n",
       "    </tr>\n",
       "  </thead>\n",
       "  <tbody>\n",
       "    <tr>\n",
       "      <th>6413</th>\n",
       "      <td>ечгаоц</td>\n",
       "      <td>ečgaoc</td>\n",
       "      <td>цоагче</td>\n",
       "      <td>coagče</td>\n",
       "      <td>ца̄гке</td>\n",
       "      <td>caag'g'e</td>\n",
       "      <td>NaN</td>\n",
       "      <td>NaN</td>\n",
       "      <td>Verb</td>\n",
       "      <td>постоянно;иногда, бывало</td>\n",
       "      <td>III</td>\n",
       "      <td>NaN</td>\n",
       "      <td>надевать, примерять что (постоянно;иногда, быв...</td>\n",
       "      <td>цоагэч о̄дт вуэсскэдт кабперь</td>\n",
       "      <td>coageč oodt vuesskedt kabp'er'</td>\n",
       "      <td>примерь новую пыжиковую шапку</td>\n",
       "      <td>NaN</td>\n",
       "      <td>NaN</td>\n",
       "      <td>NaN</td>\n",
       "      <td>NaN</td>\n",
       "      <td>...</td>\n",
       "      <td>NaN</td>\n",
       "      <td>NaN</td>\n",
       "      <td>NaN</td>\n",
       "      <td>NaN</td>\n",
       "      <td>NaN</td>\n",
       "      <td>NaN</td>\n",
       "      <td>NaN</td>\n",
       "      <td>NaN</td>\n",
       "      <td>NaN</td>\n",
       "      <td>NaN</td>\n",
       "      <td>NaN</td>\n",
       "      <td>NaN</td>\n",
       "      <td>NaN</td>\n",
       "      <td>NaN</td>\n",
       "      <td>NaN</td>\n",
       "      <td>NaN</td>\n",
       "      <td>NaN</td>\n",
       "      <td>NaN</td>\n",
       "      <td>NaN</td>\n",
       "      <td>NaN</td>\n",
       "    </tr>\n",
       "    <tr>\n",
       "      <th>6414</th>\n",
       "      <td>ечгаоц</td>\n",
       "      <td>ečgaoc</td>\n",
       "      <td>цоагче</td>\n",
       "      <td>coagče</td>\n",
       "      <td>ца̄гке</td>\n",
       "      <td>caag'g'e</td>\n",
       "      <td>NaN</td>\n",
       "      <td>NaN</td>\n",
       "      <td>Verb</td>\n",
       "      <td>постоянно;иногда, бывало</td>\n",
       "      <td>III</td>\n",
       "      <td>NaN</td>\n",
       "      <td>надевать, примерять что (постоянно;иногда, быв...</td>\n",
       "      <td>NaN</td>\n",
       "      <td>to ž'e, čto coagne</td>\n",
       "      <td>NaN</td>\n",
       "      <td>NaN</td>\n",
       "      <td>NaN</td>\n",
       "      <td>NaN</td>\n",
       "      <td>NaN</td>\n",
       "      <td>...</td>\n",
       "      <td>NaN</td>\n",
       "      <td>NaN</td>\n",
       "      <td>NaN</td>\n",
       "      <td>NaN</td>\n",
       "      <td>NaN</td>\n",
       "      <td>NaN</td>\n",
       "      <td>NaN</td>\n",
       "      <td>NaN</td>\n",
       "      <td>NaN</td>\n",
       "      <td>NaN</td>\n",
       "      <td>NaN</td>\n",
       "      <td>NaN</td>\n",
       "      <td>NaN</td>\n",
       "      <td>NaN</td>\n",
       "      <td>NaN</td>\n",
       "      <td>NaN</td>\n",
       "      <td>NaN</td>\n",
       "      <td>NaN</td>\n",
       "      <td>NaN</td>\n",
       "      <td>NaN</td>\n",
       "    </tr>\n",
       "  </tbody>\n",
       "</table>\n",
       "<p>2 rows × 103 columns</p>\n",
       "</div>"
      ],
      "text/plain": [
       "     cyrillic_backwards transcription_backwards cyrillic transcription  \\\n",
       "6413             ечгаоц                  ečgaoc   цоагче        coagče   \n",
       "6414             ечгаоц                  ečgaoc   цоагче        coagče   \n",
       "\n",
       "     derived_cyrillic derived_transcription form_cyrillic form_transcription  \\\n",
       "6413           ца̄гке              caag'g'e           NaN                NaN   \n",
       "6414           ца̄гке              caag'g'e           NaN                NaN   \n",
       "\n",
       "     часть речи                   grammar type type_alternation  \\\n",
       "6413       Verb  постоянно;иногда, бывало  III              NaN   \n",
       "6414       Verb  постоянно;иногда, бывало  III              NaN   \n",
       "\n",
       "                                             definition  \\\n",
       "6413  надевать, примерять что (постоянно;иногда, быв...   \n",
       "6414  надевать, примерять что (постоянно;иногда, быв...   \n",
       "\n",
       "                   example_cyrillic           example_transcription  \\\n",
       "6413  цоагэч о̄дт вуэсскэдт кабперь  coageč oodt vuesskedt kabp'er'   \n",
       "6414                            NaN              to ž'e, čto coagne   \n",
       "\n",
       "                 example_definition Unnamed: 16 Unnamed: 17 Unnamed: 18  \\\n",
       "6413  примерь новую пыжиковую шапку         NaN         NaN         NaN   \n",
       "6414                            NaN         NaN         NaN         NaN   \n",
       "\n",
       "     Unnamed: 19  ... Unnamed: 83 Unnamed: 84 Unnamed: 85 Unnamed: 86  \\\n",
       "6413         NaN  ...         NaN         NaN         NaN         NaN   \n",
       "6414         NaN  ...         NaN         NaN         NaN         NaN   \n",
       "\n",
       "     Unnamed: 87 Unnamed: 88 Unnamed: 89 Unnamed: 90 Unnamed: 91 Unnamed: 92  \\\n",
       "6413         NaN         NaN         NaN         NaN         NaN         NaN   \n",
       "6414         NaN         NaN         NaN         NaN         NaN         NaN   \n",
       "\n",
       "     Unnamed: 93 Unnamed: 94 Unnamed: 95 Unnamed: 96 Unnamed: 97 Unnamed: 98  \\\n",
       "6413         NaN         NaN         NaN         NaN         NaN         NaN   \n",
       "6414         NaN         NaN         NaN         NaN         NaN         NaN   \n",
       "\n",
       "     Unnamed: 99 Unnamed: 100 Unnamed: 101 Unnamed: 102  \n",
       "6413         NaN          NaN          NaN          NaN  \n",
       "6414         NaN          NaN          NaN          NaN  \n",
       "\n",
       "[2 rows x 103 columns]"
      ]
     },
     "execution_count": 5,
     "metadata": {},
     "output_type": "execute_result"
    }
   ],
   "source": [
    "pd.set_option('display.max_columns', 40)\n",
    "kuruch[kuruch.duplicated(subset=kuruch.columns[:13], keep=False)]"
   ]
  },
  {
   "cell_type": "code",
   "execution_count": 6,
   "metadata": {},
   "outputs": [],
   "source": [
    "pd.set_option('display.max_columns', 20)"
   ]
  },
  {
   "cell_type": "markdown",
   "metadata": {},
   "source": [
    "Сейчас совместим ручками первый дубликат."
   ]
  },
  {
   "cell_type": "code",
   "execution_count": 209,
   "metadata": {},
   "outputs": [],
   "source": [
    "with open('../done/kuruch_revised_november_fixed.csv', encoding='utf-8') as f:\n",
    "    kuruch_row = f.read()\n",
    "\n",
    "kuruch_row = kuruch_row.replace(\"еъкгаоц,ejggaoc,цоагкъе,coaggje,ца̄гке,caag'g'e,,,Verb,страд.,III,,страд. к ца̄гке,,strad. k caagk'e,,пугк оассэ цоагкъенҍ вӯссе,pugk oasse coagkjen' vuus's'e,вся одежда засунута в кису (в национальную сумку),,,,,,,,,,,,,,,,,,,,,,,,,,,,,,,,,,,,,,,,,,,,,,,,,,,,,,,,,,,,,,,,,,,,,,,,,,,,,,,,,,,,\\n\",\n",
    "                   \"\")\n",
    "kuruch_row = kuruch_row.replace(\"еъкгаоц,ejggaoc,цоагкъе,coaggje,ца̄гке,caag'g'e,,,Verb,страд.,III,,страд. к ца̄гке,,strad. k caagk'e,,одьяла оллька цоагкэй одьяла э̄л,od'jala ol'l'ka coagkej od'jala eel,пододеяльник надет на одеяло,,,,,,,,,,,,,,,,,,,,,,,,,,,,,,,,,,,,,,,,,,,,,,,,,,,,,,,,,,,,,,,,,,,,,,,,,,,,,,,,,,,,\",\n",
    "                   \"еъкгаоц,ejggaoc,цоагкъе,coaggje,ца̄гке,caag'g'e,,,Verb,страд.,III,,страд. к ца̄гке,,strad. k caagk'e,,одьяла оллька цоагкэй одьяла э̄л,od'jala ol'l'ka coagkej od'jala eel,пододеяльник надет на одеяло,пугк оассэ цоагкъенҍ вӯссе,pugk oasse coagkjen' vuus's'e,вся одежда засунута в кису (в национальную сумку),,,,,,,,,,,,,,,,,,,,,,,,,,,,,,,,,,,,,,,,,,,,,,,,,,,,,,,,,,,,,,,,,,,,,,,,,,,,,,,,,\")\n",
    "\n",
    "\n",
    "with open('../done/kuruch_revised_november_fixed.csv', 'w', encoding='utf-8') as f:\n",
    "    f.write(kuruch_row)"
   ]
  },
  {
   "cell_type": "code",
   "execution_count": 210,
   "metadata": {},
   "outputs": [],
   "source": [
    "kuruch = pd.read_csv('../done/kuruch_revised_november_fixed.csv', encoding='utf-8')"
   ]
  },
  {
   "cell_type": "markdown",
   "metadata": {},
   "source": [
    "Удалим второй дубликат."
   ]
  },
  {
   "cell_type": "code",
   "execution_count": 989,
   "metadata": {},
   "outputs": [
    {
     "data": {
      "text/html": [
       "<div>\n",
       "<style scoped>\n",
       "    .dataframe tbody tr th:only-of-type {\n",
       "        vertical-align: middle;\n",
       "    }\n",
       "\n",
       "    .dataframe tbody tr th {\n",
       "        vertical-align: top;\n",
       "    }\n",
       "\n",
       "    .dataframe thead th {\n",
       "        text-align: right;\n",
       "    }\n",
       "</style>\n",
       "<table border=\"1\" class=\"dataframe\">\n",
       "  <thead>\n",
       "    <tr style=\"text-align: right;\">\n",
       "      <th></th>\n",
       "      <th>cyrillic_backwards</th>\n",
       "      <th>transcription_backwards</th>\n",
       "      <th>cyrillic</th>\n",
       "      <th>transcription</th>\n",
       "      <th>derived_cyrillic</th>\n",
       "      <th>derived_transcription</th>\n",
       "      <th>form_cyrillic</th>\n",
       "      <th>form_transcription</th>\n",
       "      <th>часть речи</th>\n",
       "      <th>grammar</th>\n",
       "      <th>...</th>\n",
       "      <th>Unnamed: 93</th>\n",
       "      <th>Unnamed: 94</th>\n",
       "      <th>Unnamed: 95</th>\n",
       "      <th>Unnamed: 96</th>\n",
       "      <th>Unnamed: 97</th>\n",
       "      <th>Unnamed: 98</th>\n",
       "      <th>Unnamed: 99</th>\n",
       "      <th>Unnamed: 100</th>\n",
       "      <th>Unnamed: 101</th>\n",
       "      <th>Unnamed: 102</th>\n",
       "    </tr>\n",
       "  </thead>\n",
       "  <tbody>\n",
       "    <tr>\n",
       "      <th>6413</th>\n",
       "      <td>ечгаоц</td>\n",
       "      <td>ečgaoc</td>\n",
       "      <td>цоагче</td>\n",
       "      <td>coagče</td>\n",
       "      <td>ца̄гке</td>\n",
       "      <td>caag'g'e</td>\n",
       "      <td>NaN</td>\n",
       "      <td>NaN</td>\n",
       "      <td>Verb</td>\n",
       "      <td>постоянно;иногда, бывало</td>\n",
       "      <td>...</td>\n",
       "      <td>NaN</td>\n",
       "      <td>NaN</td>\n",
       "      <td>NaN</td>\n",
       "      <td>NaN</td>\n",
       "      <td>NaN</td>\n",
       "      <td>NaN</td>\n",
       "      <td>NaN</td>\n",
       "      <td>NaN</td>\n",
       "      <td>NaN</td>\n",
       "      <td>NaN</td>\n",
       "    </tr>\n",
       "    <tr>\n",
       "      <th>6414</th>\n",
       "      <td>ечгаоц</td>\n",
       "      <td>ečgaoc</td>\n",
       "      <td>цоагче</td>\n",
       "      <td>coagče</td>\n",
       "      <td>ца̄гке</td>\n",
       "      <td>caag'g'e</td>\n",
       "      <td>NaN</td>\n",
       "      <td>NaN</td>\n",
       "      <td>Verb</td>\n",
       "      <td>постоянно;иногда, бывало</td>\n",
       "      <td>...</td>\n",
       "      <td>NaN</td>\n",
       "      <td>NaN</td>\n",
       "      <td>NaN</td>\n",
       "      <td>NaN</td>\n",
       "      <td>NaN</td>\n",
       "      <td>NaN</td>\n",
       "      <td>NaN</td>\n",
       "      <td>NaN</td>\n",
       "      <td>NaN</td>\n",
       "      <td>NaN</td>\n",
       "    </tr>\n",
       "  </tbody>\n",
       "</table>\n",
       "<p>2 rows × 103 columns</p>\n",
       "</div>"
      ],
      "text/plain": [
       "     cyrillic_backwards transcription_backwards cyrillic transcription  \\\n",
       "6413             ечгаоц                  ečgaoc   цоагче        coagče   \n",
       "6414             ечгаоц                  ečgaoc   цоагче        coagče   \n",
       "\n",
       "     derived_cyrillic derived_transcription form_cyrillic form_transcription  \\\n",
       "6413           ца̄гке              caag'g'e           NaN                NaN   \n",
       "6414           ца̄гке              caag'g'e           NaN                NaN   \n",
       "\n",
       "     часть речи                   grammar  ... Unnamed: 93 Unnamed: 94  \\\n",
       "6413       Verb  постоянно;иногда, бывало  ...         NaN         NaN   \n",
       "6414       Verb  постоянно;иногда, бывало  ...         NaN         NaN   \n",
       "\n",
       "     Unnamed: 95 Unnamed: 96 Unnamed: 97 Unnamed: 98 Unnamed: 99 Unnamed: 100  \\\n",
       "6413         NaN         NaN         NaN         NaN         NaN          NaN   \n",
       "6414         NaN         NaN         NaN         NaN         NaN          NaN   \n",
       "\n",
       "     Unnamed: 101 Unnamed: 102  \n",
       "6413          NaN          NaN  \n",
       "6414          NaN          NaN  \n",
       "\n",
       "[2 rows x 103 columns]"
      ]
     },
     "execution_count": 989,
     "metadata": {},
     "output_type": "execute_result"
    }
   ],
   "source": [
    "kuruch[kuruch.duplicated(subset=kuruch.columns[:13], keep=False)]"
   ]
  },
  {
   "cell_type": "code",
   "execution_count": 990,
   "metadata": {},
   "outputs": [],
   "source": [
    "kuruch.drop_duplicates(subset=kuruch.columns[:13], inplace=True)"
   ]
  },
  {
   "cell_type": "markdown",
   "metadata": {},
   "source": [
    "Теперь будем работать только со \"статьями\" лексем, без примеров."
   ]
  },
  {
   "cell_type": "code",
   "execution_count": 9,
   "metadata": {},
   "outputs": [],
   "source": [
    "kuruch_short = kuruch.drop(columns=kuruch.columns[13:])"
   ]
  },
  {
   "cell_type": "code",
   "execution_count": 10,
   "metadata": {},
   "outputs": [
    {
     "data": {
      "text/html": [
       "<div>\n",
       "<style scoped>\n",
       "    .dataframe tbody tr th:only-of-type {\n",
       "        vertical-align: middle;\n",
       "    }\n",
       "\n",
       "    .dataframe tbody tr th {\n",
       "        vertical-align: top;\n",
       "    }\n",
       "\n",
       "    .dataframe thead th {\n",
       "        text-align: right;\n",
       "    }\n",
       "</style>\n",
       "<table border=\"1\" class=\"dataframe\">\n",
       "  <thead>\n",
       "    <tr style=\"text-align: right;\">\n",
       "      <th></th>\n",
       "      <th>cyrillic_backwards</th>\n",
       "      <th>transcription_backwards</th>\n",
       "      <th>cyrillic</th>\n",
       "      <th>transcription</th>\n",
       "      <th>derived_cyrillic</th>\n",
       "      <th>derived_transcription</th>\n",
       "      <th>form_cyrillic</th>\n",
       "      <th>form_transcription</th>\n",
       "      <th>часть речи</th>\n",
       "      <th>grammar</th>\n",
       "      <th>type</th>\n",
       "      <th>type_alternation</th>\n",
       "      <th>definition</th>\n",
       "    </tr>\n",
       "  </thead>\n",
       "  <tbody>\n",
       "    <tr>\n",
       "      <th>count</th>\n",
       "      <td>7397</td>\n",
       "      <td>7397</td>\n",
       "      <td>7397</td>\n",
       "      <td>7397</td>\n",
       "      <td>7397</td>\n",
       "      <td>7397</td>\n",
       "      <td>1137</td>\n",
       "      <td>1137</td>\n",
       "      <td>7394</td>\n",
       "      <td>3659</td>\n",
       "      <td>6309</td>\n",
       "      <td>1586</td>\n",
       "      <td>7397</td>\n",
       "    </tr>\n",
       "    <tr>\n",
       "      <th>unique</th>\n",
       "      <td>7349</td>\n",
       "      <td>7338</td>\n",
       "      <td>7348</td>\n",
       "      <td>7338</td>\n",
       "      <td>1865</td>\n",
       "      <td>1866</td>\n",
       "      <td>1120</td>\n",
       "      <td>1120</td>\n",
       "      <td>20</td>\n",
       "      <td>57</td>\n",
       "      <td>5</td>\n",
       "      <td>10</td>\n",
       "      <td>6689</td>\n",
       "    </tr>\n",
       "    <tr>\n",
       "      <th>top</th>\n",
       "      <td>энз̄ок</td>\n",
       "      <td>enneem</td>\n",
       "      <td>каһце</td>\n",
       "      <td>oaz</td>\n",
       "      <td>э̄ххт</td>\n",
       "      <td>eexxt</td>\n",
       "      <td>ма̄д</td>\n",
       "      <td>laaf'k</td>\n",
       "      <td>Verb</td>\n",
       "      <td>постоянно;иногда, бывало</td>\n",
       "      <td>III</td>\n",
       "      <td>1*</td>\n",
       "      <td>начать дышать тяжело (высунув язык, напр. посл...</td>\n",
       "    </tr>\n",
       "    <tr>\n",
       "      <th>freq</th>\n",
       "      <td>2</td>\n",
       "      <td>2</td>\n",
       "      <td>2</td>\n",
       "      <td>2</td>\n",
       "      <td>26</td>\n",
       "      <td>26</td>\n",
       "      <td>2</td>\n",
       "      <td>2</td>\n",
       "      <td>4924</td>\n",
       "      <td>728</td>\n",
       "      <td>2871</td>\n",
       "      <td>582</td>\n",
       "      <td>4</td>\n",
       "    </tr>\n",
       "  </tbody>\n",
       "</table>\n",
       "</div>"
      ],
      "text/plain": [
       "       cyrillic_backwards transcription_backwards cyrillic transcription  \\\n",
       "count                7397                    7397     7397          7397   \n",
       "unique               7349                    7338     7348          7338   \n",
       "top                энз̄ок                  enneem    каһце           oaz   \n",
       "freq                    2                       2        2             2   \n",
       "\n",
       "       derived_cyrillic derived_transcription form_cyrillic  \\\n",
       "count              7397                  7397          1137   \n",
       "unique             1865                  1866          1120   \n",
       "top               э̄ххт                 eexxt          ма̄д   \n",
       "freq                 26                    26             2   \n",
       "\n",
       "       form_transcription часть речи                   grammar  type  \\\n",
       "count                1137       7394                      3659  6309   \n",
       "unique               1120         20                        57     5   \n",
       "top                laaf'k       Verb  постоянно;иногда, бывало   III   \n",
       "freq                    2       4924                       728  2871   \n",
       "\n",
       "       type_alternation                                         definition  \n",
       "count              1586                                               7397  \n",
       "unique               10                                               6689  \n",
       "top                  1*  начать дышать тяжело (высунув язык, напр. посл...  \n",
       "freq                582                                                  4  "
      ]
     },
     "execution_count": 10,
     "metadata": {},
     "output_type": "execute_result"
    }
   ],
   "source": [
    "kuruch_short.describe()"
   ]
  },
  {
   "cell_type": "markdown",
   "metadata": {},
   "source": [
    "Посмотрим какие есть повторяющиеся и неповторяющиесе категории"
   ]
  },
  {
   "cell_type": "code",
   "execution_count": 11,
   "metadata": {},
   "outputs": [
    {
     "data": {
      "text/plain": [
       "cyrillic\n",
       "ко̄ммтнэ    2\n",
       "Name: transcription, dtype: int64"
      ]
     },
     "execution_count": 11,
     "metadata": {},
     "output_type": "execute_result"
    }
   ],
   "source": [
    "kuruch_short.groupby(['cyrillic']).transcription.nunique().loc[lambda x: x > 1]"
   ]
  },
  {
   "cell_type": "code",
   "execution_count": 12,
   "metadata": {},
   "outputs": [
    {
     "data": {
      "text/html": [
       "<div>\n",
       "<style scoped>\n",
       "    .dataframe tbody tr th:only-of-type {\n",
       "        vertical-align: middle;\n",
       "    }\n",
       "\n",
       "    .dataframe tbody tr th {\n",
       "        vertical-align: top;\n",
       "    }\n",
       "\n",
       "    .dataframe thead th {\n",
       "        text-align: right;\n",
       "    }\n",
       "</style>\n",
       "<table border=\"1\" class=\"dataframe\">\n",
       "  <thead>\n",
       "    <tr style=\"text-align: right;\">\n",
       "      <th></th>\n",
       "      <th>cyrillic_backwards</th>\n",
       "      <th>transcription_backwards</th>\n",
       "      <th>cyrillic</th>\n",
       "      <th>transcription</th>\n",
       "      <th>derived_cyrillic</th>\n",
       "      <th>derived_transcription</th>\n",
       "      <th>form_cyrillic</th>\n",
       "      <th>form_transcription</th>\n",
       "      <th>часть речи</th>\n",
       "      <th>grammar</th>\n",
       "      <th>type</th>\n",
       "      <th>type_alternation</th>\n",
       "      <th>definition</th>\n",
       "    </tr>\n",
       "  </thead>\n",
       "  <tbody>\n",
       "    <tr>\n",
       "      <th>1721</th>\n",
       "      <td>энтммаок</td>\n",
       "      <td>entmmaok</td>\n",
       "      <td>ко̄ммтнэ</td>\n",
       "      <td>koammtne</td>\n",
       "      <td>ко̄ммьтэсь</td>\n",
       "      <td>koom'm'tes'</td>\n",
       "      <td>NaN</td>\n",
       "      <td>NaN</td>\n",
       "      <td>Verb</td>\n",
       "      <td>NaN</td>\n",
       "      <td>NaN</td>\n",
       "      <td>NaN</td>\n",
       "      <td>то же, что ко̄ммтнэ</td>\n",
       "    </tr>\n",
       "    <tr>\n",
       "      <th>1722</th>\n",
       "      <td>энтмм̄ок</td>\n",
       "      <td>entmmook</td>\n",
       "      <td>ко̄ммтнэ</td>\n",
       "      <td>koommtne</td>\n",
       "      <td>ко̄ммьтэсь</td>\n",
       "      <td>koom'm'tes'</td>\n",
       "      <td>NaN</td>\n",
       "      <td>NaN</td>\n",
       "      <td>Verb</td>\n",
       "      <td>стать</td>\n",
       "      <td>III</td>\n",
       "      <td>NaN</td>\n",
       "      <td>стать более широким, расшириться;разноситься (...</td>\n",
       "    </tr>\n",
       "  </tbody>\n",
       "</table>\n",
       "</div>"
      ],
      "text/plain": [
       "     cyrillic_backwards transcription_backwards  cyrillic transcription  \\\n",
       "1721           энтммаок                entmmaok  ко̄ммтнэ      koammtne   \n",
       "1722           энтмм̄ок                entmmook  ко̄ммтнэ      koommtne   \n",
       "\n",
       "     derived_cyrillic derived_transcription form_cyrillic form_transcription  \\\n",
       "1721       ко̄ммьтэсь           koom'm'tes'           NaN                NaN   \n",
       "1722       ко̄ммьтэсь           koom'm'tes'           NaN                NaN   \n",
       "\n",
       "     часть речи grammar type type_alternation  \\\n",
       "1721       Verb     NaN  NaN              NaN   \n",
       "1722       Verb   стать  III              NaN   \n",
       "\n",
       "                                             definition  \n",
       "1721                                то же, что ко̄ммтнэ  \n",
       "1722  стать более широким, расшириться;разноситься (...  "
      ]
     },
     "execution_count": 12,
     "metadata": {},
     "output_type": "execute_result"
    }
   ],
   "source": [
    "kuruch_short[kuruch_short.cyrillic == 'ко̄ммтнэ']"
   ]
  },
  {
   "cell_type": "code",
   "execution_count": 13,
   "metadata": {},
   "outputs": [
    {
     "data": {
      "text/plain": [
       "transcription\n",
       "meenne     2\n",
       "poonne     2\n",
       "suanne     2\n",
       "sɨnne      2\n",
       "tuunne     2\n",
       "veenne     2\n",
       "zvoonne    2\n",
       "čiinne     2\n",
       "činne      2\n",
       "čoonne     2\n",
       "ž'eenne    2\n",
       "Name: cyrillic, dtype: int64"
      ]
     },
     "execution_count": 13,
     "metadata": {},
     "output_type": "execute_result"
    }
   ],
   "source": [
    "kuruch_short.groupby(['transcription']).cyrillic.nunique().loc[lambda x: x > 1]"
   ]
  },
  {
   "cell_type": "code",
   "execution_count": 14,
   "metadata": {},
   "outputs": [
    {
     "data": {
      "text/html": [
       "<div>\n",
       "<style scoped>\n",
       "    .dataframe tbody tr th:only-of-type {\n",
       "        vertical-align: middle;\n",
       "    }\n",
       "\n",
       "    .dataframe tbody tr th {\n",
       "        vertical-align: top;\n",
       "    }\n",
       "\n",
       "    .dataframe thead th {\n",
       "        text-align: right;\n",
       "    }\n",
       "</style>\n",
       "<table border=\"1\" class=\"dataframe\">\n",
       "  <thead>\n",
       "    <tr style=\"text-align: right;\">\n",
       "      <th></th>\n",
       "      <th>cyrillic_backwards</th>\n",
       "      <th>transcription_backwards</th>\n",
       "      <th>cyrillic</th>\n",
       "      <th>transcription</th>\n",
       "      <th>derived_cyrillic</th>\n",
       "      <th>derived_transcription</th>\n",
       "      <th>form_cyrillic</th>\n",
       "      <th>form_transcription</th>\n",
       "      <th>часть речи</th>\n",
       "      <th>grammar</th>\n",
       "      <th>type</th>\n",
       "      <th>type_alternation</th>\n",
       "      <th>definition</th>\n",
       "    </tr>\n",
       "  </thead>\n",
       "  <tbody>\n",
       "    <tr>\n",
       "      <th>4249</th>\n",
       "      <td>энн̄оп</td>\n",
       "      <td>ennoop</td>\n",
       "      <td>по̄ннэ</td>\n",
       "      <td>poonne</td>\n",
       "      <td>по̄ннэ</td>\n",
       "      <td>poonne</td>\n",
       "      <td>NaN</td>\n",
       "      <td>NaN</td>\n",
       "      <td>Verb</td>\n",
       "      <td>NaN</td>\n",
       "      <td>I</td>\n",
       "      <td>1</td>\n",
       "      <td>сучить (ножками);пинать кого-что</td>\n",
       "    </tr>\n",
       "    <tr>\n",
       "      <th>4252</th>\n",
       "      <td>энън̄оп</td>\n",
       "      <td>ennoop</td>\n",
       "      <td>по̄нънэ</td>\n",
       "      <td>poonne</td>\n",
       "      <td>поаннэ</td>\n",
       "      <td>poanne</td>\n",
       "      <td>NaN</td>\n",
       "      <td>NaN</td>\n",
       "      <td>Verb</td>\n",
       "      <td>постоянно;иногда, бывало</td>\n",
       "      <td>III</td>\n",
       "      <td>NaN</td>\n",
       "      <td>прясть что (постоянно;иногда, бывало)</td>\n",
       "    </tr>\n",
       "  </tbody>\n",
       "</table>\n",
       "</div>"
      ],
      "text/plain": [
       "     cyrillic_backwards transcription_backwards cyrillic transcription  \\\n",
       "4249             энн̄оп                  ennoop   по̄ннэ        poonne   \n",
       "4252            энън̄оп                  ennoop  по̄нънэ        poonne   \n",
       "\n",
       "     derived_cyrillic derived_transcription form_cyrillic form_transcription  \\\n",
       "4249           по̄ннэ                poonne           NaN                NaN   \n",
       "4252           поаннэ                poanne           NaN                NaN   \n",
       "\n",
       "     часть речи                   grammar type type_alternation  \\\n",
       "4249       Verb                       NaN    I                1   \n",
       "4252       Verb  постоянно;иногда, бывало  III              NaN   \n",
       "\n",
       "                                 definition  \n",
       "4249       сучить (ножками);пинать кого-что  \n",
       "4252  прясть что (постоянно;иногда, бывало)  "
      ]
     },
     "execution_count": 14,
     "metadata": {},
     "output_type": "execute_result"
    }
   ],
   "source": [
    "kuruch_short[kuruch_short.transcription == 'poonne']"
   ]
  },
  {
   "cell_type": "markdown",
   "metadata": {},
   "source": [
    "Это куруч так отделяет суффикс когда он сливается"
   ]
  },
  {
   "cell_type": "code",
   "execution_count": 15,
   "metadata": {},
   "outputs": [
    {
     "data": {
      "text/plain": [
       "transcription\n",
       "oaz    2\n",
       "Name: form_transcription, dtype: int64"
      ]
     },
     "execution_count": 15,
     "metadata": {},
     "output_type": "execute_result"
    }
   ],
   "source": [
    "kuruch_short.groupby(['transcription']).form_transcription.nunique().loc[lambda x: x > 1]"
   ]
  },
  {
   "cell_type": "code",
   "execution_count": 16,
   "metadata": {},
   "outputs": [
    {
     "data": {
      "text/html": [
       "<div>\n",
       "<style scoped>\n",
       "    .dataframe tbody tr th:only-of-type {\n",
       "        vertical-align: middle;\n",
       "    }\n",
       "\n",
       "    .dataframe tbody tr th {\n",
       "        vertical-align: top;\n",
       "    }\n",
       "\n",
       "    .dataframe thead th {\n",
       "        text-align: right;\n",
       "    }\n",
       "</style>\n",
       "<table border=\"1\" class=\"dataframe\">\n",
       "  <thead>\n",
       "    <tr style=\"text-align: right;\">\n",
       "      <th></th>\n",
       "      <th>cyrillic_backwards</th>\n",
       "      <th>transcription_backwards</th>\n",
       "      <th>cyrillic</th>\n",
       "      <th>transcription</th>\n",
       "      <th>derived_cyrillic</th>\n",
       "      <th>derived_transcription</th>\n",
       "      <th>form_cyrillic</th>\n",
       "      <th>form_transcription</th>\n",
       "      <th>часть речи</th>\n",
       "      <th>grammar</th>\n",
       "      <th>type</th>\n",
       "      <th>type_alternation</th>\n",
       "      <th>definition</th>\n",
       "    </tr>\n",
       "  </thead>\n",
       "  <tbody>\n",
       "    <tr>\n",
       "      <th>3639</th>\n",
       "      <td>зао</td>\n",
       "      <td>zao</td>\n",
       "      <td>оаз</td>\n",
       "      <td>oaz</td>\n",
       "      <td>оаз</td>\n",
       "      <td>oaz</td>\n",
       "      <td>оадзэ</td>\n",
       "      <td>oaʒe</td>\n",
       "      <td>Noun</td>\n",
       "      <td>NaN</td>\n",
       "      <td>IV</td>\n",
       "      <td>NaN</td>\n",
       "      <td>паук</td>\n",
       "    </tr>\n",
       "    <tr>\n",
       "      <th>3640</th>\n",
       "      <td>зао</td>\n",
       "      <td>zao</td>\n",
       "      <td>оаз</td>\n",
       "      <td>oaz</td>\n",
       "      <td>оаз</td>\n",
       "      <td>oaz</td>\n",
       "      <td>оассэ</td>\n",
       "      <td>oasse</td>\n",
       "      <td>Noun</td>\n",
       "      <td>NaN</td>\n",
       "      <td>IV</td>\n",
       "      <td>NaN</td>\n",
       "      <td>одежда, наряд, туалет</td>\n",
       "    </tr>\n",
       "  </tbody>\n",
       "</table>\n",
       "</div>"
      ],
      "text/plain": [
       "     cyrillic_backwards transcription_backwards cyrillic transcription  \\\n",
       "3639                зао                     zao      оаз           oaz   \n",
       "3640                зао                     zao      оаз           oaz   \n",
       "\n",
       "     derived_cyrillic derived_transcription form_cyrillic form_transcription  \\\n",
       "3639              оаз                   oaz         оадзэ               oaʒe   \n",
       "3640              оаз                   oaz         оассэ              oasse   \n",
       "\n",
       "     часть речи grammar type type_alternation             definition  \n",
       "3639       Noun     NaN   IV              NaN                   паук  \n",
       "3640       Noun     NaN   IV              NaN  одежда, наряд, туалет  "
      ]
     },
     "execution_count": 16,
     "metadata": {},
     "output_type": "execute_result"
    }
   ],
   "source": [
    "kuruch_short[kuruch_short.transcription == 'oaz']"
   ]
  },
  {
   "cell_type": "markdown",
   "metadata": {},
   "source": [
    "Это просто разные слова, видимо"
   ]
  },
  {
   "cell_type": "code",
   "execution_count": 17,
   "metadata": {},
   "outputs": [
    {
     "data": {
      "text/plain": [
       "(58,)"
      ]
     },
     "execution_count": 17,
     "metadata": {},
     "output_type": "execute_result"
    }
   ],
   "source": [
    "kuruch_short.groupby(['transcription']).definition.nunique().loc[lambda x: x > 1].shape"
   ]
  },
  {
   "cell_type": "code",
   "execution_count": 18,
   "metadata": {},
   "outputs": [
    {
     "data": {
      "text/html": [
       "<div>\n",
       "<style scoped>\n",
       "    .dataframe tbody tr th:only-of-type {\n",
       "        vertical-align: middle;\n",
       "    }\n",
       "\n",
       "    .dataframe tbody tr th {\n",
       "        vertical-align: top;\n",
       "    }\n",
       "\n",
       "    .dataframe thead th {\n",
       "        text-align: right;\n",
       "    }\n",
       "</style>\n",
       "<table border=\"1\" class=\"dataframe\">\n",
       "  <thead>\n",
       "    <tr style=\"text-align: right;\">\n",
       "      <th></th>\n",
       "      <th>cyrillic_backwards</th>\n",
       "      <th>transcription_backwards</th>\n",
       "      <th>cyrillic</th>\n",
       "      <th>transcription</th>\n",
       "      <th>derived_cyrillic</th>\n",
       "      <th>derived_transcription</th>\n",
       "      <th>form_cyrillic</th>\n",
       "      <th>form_transcription</th>\n",
       "      <th>часть речи</th>\n",
       "      <th>grammar</th>\n",
       "      <th>type</th>\n",
       "      <th>type_alternation</th>\n",
       "      <th>definition</th>\n",
       "    </tr>\n",
       "  </thead>\n",
       "  <tbody>\n",
       "    <tr>\n",
       "      <th>3541</th>\n",
       "      <td>ьмечхх̄юн</td>\n",
       "      <td>'mečxxuuɲ</td>\n",
       "      <td>ню̄ххчемь</td>\n",
       "      <td>ɲuuxxčem'</td>\n",
       "      <td>ню̄ххчемь</td>\n",
       "      <td>ɲuuxxčem'</td>\n",
       "      <td>NaN</td>\n",
       "      <td>NaN</td>\n",
       "      <td>Noun</td>\n",
       "      <td>общее число</td>\n",
       "      <td>V</td>\n",
       "      <td>NaN</td>\n",
       "      <td>язык</td>\n",
       "    </tr>\n",
       "    <tr>\n",
       "      <th>3542</th>\n",
       "      <td>ьмечхх̄юн</td>\n",
       "      <td>'mečxxuuɲ</td>\n",
       "      <td>ню̄ххчемь</td>\n",
       "      <td>ɲuuxxčem'</td>\n",
       "      <td>ню̄ххчемь</td>\n",
       "      <td>ɲuuxxčem'</td>\n",
       "      <td>NaN</td>\n",
       "      <td>NaN</td>\n",
       "      <td>Noun</td>\n",
       "      <td>общее число</td>\n",
       "      <td>V</td>\n",
       "      <td>NaN</td>\n",
       "      <td>язычок (обуви, колокола и т. п.)</td>\n",
       "    </tr>\n",
       "  </tbody>\n",
       "</table>\n",
       "</div>"
      ],
      "text/plain": [
       "     cyrillic_backwards transcription_backwards   cyrillic transcription  \\\n",
       "3541          ьмечхх̄юн               'mečxxuuɲ  ню̄ххчемь     ɲuuxxčem'   \n",
       "3542          ьмечхх̄юн               'mečxxuuɲ  ню̄ххчемь     ɲuuxxčem'   \n",
       "\n",
       "     derived_cyrillic derived_transcription form_cyrillic form_transcription  \\\n",
       "3541        ню̄ххчемь             ɲuuxxčem'           NaN                NaN   \n",
       "3542        ню̄ххчемь             ɲuuxxčem'           NaN                NaN   \n",
       "\n",
       "     часть речи      grammar type type_alternation  \\\n",
       "3541       Noun  общее число    V              NaN   \n",
       "3542       Noun  общее число    V              NaN   \n",
       "\n",
       "                            definition  \n",
       "3541                              язык  \n",
       "3542  язычок (обуви, колокола и т. п.)  "
      ]
     },
     "execution_count": 18,
     "metadata": {},
     "output_type": "execute_result"
    }
   ],
   "source": [
    "kuruch_short[kuruch_short.transcription == \"ɲuuxxčem'\"]"
   ]
  },
  {
   "cell_type": "code",
   "execution_count": 19,
   "metadata": {},
   "outputs": [
    {
     "data": {
      "text/plain": [
       "transcription\n",
       "eesste         2\n",
       "k'iissje       2\n",
       "kooddjuvve     2\n",
       "koodne         2\n",
       "koozne         2\n",
       "koozse         2\n",
       "kɨpptje        2\n",
       "lɨggse         2\n",
       "moaddje        2\n",
       "paaš'txe       2\n",
       "poakne         2\n",
       "poonne         2\n",
       "roaddje        2\n",
       "roadne         2\n",
       "sajxe          2\n",
       "vaajjmluvve    2\n",
       "čeelkxe        2\n",
       "Name: derived_transcription, dtype: int64"
      ]
     },
     "execution_count": 19,
     "metadata": {},
     "output_type": "execute_result"
    }
   ],
   "source": [
    "kuruch_short.groupby(['transcription']).derived_transcription.nunique().loc[lambda x: x > 1]"
   ]
  },
  {
   "cell_type": "code",
   "execution_count": 20,
   "metadata": {},
   "outputs": [
    {
     "data": {
      "text/html": [
       "<div>\n",
       "<style scoped>\n",
       "    .dataframe tbody tr th:only-of-type {\n",
       "        vertical-align: middle;\n",
       "    }\n",
       "\n",
       "    .dataframe tbody tr th {\n",
       "        vertical-align: top;\n",
       "    }\n",
       "\n",
       "    .dataframe thead th {\n",
       "        text-align: right;\n",
       "    }\n",
       "</style>\n",
       "<table border=\"1\" class=\"dataframe\">\n",
       "  <thead>\n",
       "    <tr style=\"text-align: right;\">\n",
       "      <th></th>\n",
       "      <th>cyrillic_backwards</th>\n",
       "      <th>transcription_backwards</th>\n",
       "      <th>cyrillic</th>\n",
       "      <th>transcription</th>\n",
       "      <th>derived_cyrillic</th>\n",
       "      <th>derived_transcription</th>\n",
       "      <th>form_cyrillic</th>\n",
       "      <th>form_transcription</th>\n",
       "      <th>часть речи</th>\n",
       "      <th>grammar</th>\n",
       "      <th>type</th>\n",
       "      <th>type_alternation</th>\n",
       "      <th>definition</th>\n",
       "    </tr>\n",
       "  </thead>\n",
       "  <tbody>\n",
       "    <tr>\n",
       "      <th>7227</th>\n",
       "      <td>этсс̄э</td>\n",
       "      <td>etssee</td>\n",
       "      <td>э̄сстэ</td>\n",
       "      <td>eesste</td>\n",
       "      <td>асст</td>\n",
       "      <td>asst</td>\n",
       "      <td>NaN</td>\n",
       "      <td>NaN</td>\n",
       "      <td>Verb</td>\n",
       "      <td>NaN</td>\n",
       "      <td>II</td>\n",
       "      <td>1</td>\n",
       "      <td>иметь свободное время</td>\n",
       "    </tr>\n",
       "    <tr>\n",
       "      <th>7228</th>\n",
       "      <td>этсс̄э</td>\n",
       "      <td>etssee</td>\n",
       "      <td>э̄сстэ</td>\n",
       "      <td>eesste</td>\n",
       "      <td>э̄сстэ</td>\n",
       "      <td>eesste</td>\n",
       "      <td>NaN</td>\n",
       "      <td>NaN</td>\n",
       "      <td>Verb</td>\n",
       "      <td>сделать</td>\n",
       "      <td>II</td>\n",
       "      <td>1</td>\n",
       "      <td>догнать, настичь кого-что;застать, захватить к...</td>\n",
       "    </tr>\n",
       "  </tbody>\n",
       "</table>\n",
       "</div>"
      ],
      "text/plain": [
       "     cyrillic_backwards transcription_backwards cyrillic transcription  \\\n",
       "7227             этсс̄э                  etssee   э̄сстэ        eesste   \n",
       "7228             этсс̄э                  etssee   э̄сстэ        eesste   \n",
       "\n",
       "     derived_cyrillic derived_transcription form_cyrillic form_transcription  \\\n",
       "7227             асст                  asst           NaN                NaN   \n",
       "7228           э̄сстэ                eesste           NaN                NaN   \n",
       "\n",
       "     часть речи  grammar type type_alternation  \\\n",
       "7227       Verb      NaN   II                1   \n",
       "7228       Verb  сделать   II                1   \n",
       "\n",
       "                                             definition  \n",
       "7227                              иметь свободное время  \n",
       "7228  догнать, настичь кого-что;застать, захватить к...  "
      ]
     },
     "execution_count": 20,
     "metadata": {},
     "output_type": "execute_result"
    }
   ],
   "source": [
    "kuruch_short[kuruch_short.transcription == \"eesste\"]"
   ]
  },
  {
   "cell_type": "markdown",
   "metadata": {},
   "source": [
    "Видимо, есть формы которые похожи друг на друга но происходят от разных корней."
   ]
  },
  {
   "cell_type": "code",
   "execution_count": 148,
   "metadata": {},
   "outputs": [
    {
     "data": {
      "text/plain": [
       "transcription\n",
       "k'iillluvne    2\n",
       "koodne         2\n",
       "koozne         2\n",
       "koozse         2\n",
       "kuuntče        2\n",
       "roadne         2\n",
       "vɨrne          2\n",
       "Name: grammar, dtype: int64"
      ]
     },
     "execution_count": 148,
     "metadata": {},
     "output_type": "execute_result"
    }
   ],
   "source": [
    "kuruch_short.groupby(['transcription']).grammar.nunique().loc[lambda x: x > 1]"
   ]
  },
  {
   "cell_type": "code",
   "execution_count": 152,
   "metadata": {},
   "outputs": [
    {
     "data": {
      "text/html": [
       "<div>\n",
       "<style scoped>\n",
       "    .dataframe tbody tr th:only-of-type {\n",
       "        vertical-align: middle;\n",
       "    }\n",
       "\n",
       "    .dataframe tbody tr th {\n",
       "        vertical-align: top;\n",
       "    }\n",
       "\n",
       "    .dataframe thead th {\n",
       "        text-align: right;\n",
       "    }\n",
       "</style>\n",
       "<table border=\"1\" class=\"dataframe\">\n",
       "  <thead>\n",
       "    <tr style=\"text-align: right;\">\n",
       "      <th></th>\n",
       "      <th>cyrillic_backwards</th>\n",
       "      <th>transcription_backwards</th>\n",
       "      <th>cyrillic</th>\n",
       "      <th>transcription</th>\n",
       "      <th>derived_cyrillic</th>\n",
       "      <th>derived_transcription</th>\n",
       "      <th>form_cyrillic</th>\n",
       "      <th>form_transcription</th>\n",
       "      <th>часть речи</th>\n",
       "      <th>grammar</th>\n",
       "      <th>type</th>\n",
       "      <th>type_alternation</th>\n",
       "      <th>definition</th>\n",
       "    </tr>\n",
       "  </thead>\n",
       "  <tbody>\n",
       "    <tr>\n",
       "      <th>874</th>\n",
       "      <td>энрыв</td>\n",
       "      <td>enrɨv</td>\n",
       "      <td>вырнэ</td>\n",
       "      <td>vɨrne</td>\n",
       "      <td>выррэ</td>\n",
       "      <td>vɨrre</td>\n",
       "      <td>NaN</td>\n",
       "      <td>NaN</td>\n",
       "      <td>Verb</td>\n",
       "      <td>постоянно; иногда, бывало</td>\n",
       "      <td>III</td>\n",
       "      <td>NaN</td>\n",
       "      <td>проваливаться (куда-л. - постоянно;иногда, быв...</td>\n",
       "    </tr>\n",
       "    <tr>\n",
       "      <th>875</th>\n",
       "      <td>энрыв</td>\n",
       "      <td>enrɨv</td>\n",
       "      <td>вырнэ</td>\n",
       "      <td>vɨrne</td>\n",
       "      <td>выррэ</td>\n",
       "      <td>vɨrre</td>\n",
       "      <td>NaN</td>\n",
       "      <td>NaN</td>\n",
       "      <td>Verb</td>\n",
       "      <td>постоянно;иногда, бывало</td>\n",
       "      <td>III</td>\n",
       "      <td>NaN</td>\n",
       "      <td>налетать (постоянно;иногда, бывало);выпадать (...</td>\n",
       "    </tr>\n",
       "  </tbody>\n",
       "</table>\n",
       "</div>"
      ],
      "text/plain": [
       "    cyrillic_backwards transcription_backwards cyrillic transcription  \\\n",
       "874              энрыв                   enrɨv    вырнэ         vɨrne   \n",
       "875              энрыв                   enrɨv    вырнэ         vɨrne   \n",
       "\n",
       "    derived_cyrillic derived_transcription form_cyrillic form_transcription  \\\n",
       "874            выррэ                 vɨrre           NaN                NaN   \n",
       "875            выррэ                 vɨrre           NaN                NaN   \n",
       "\n",
       "    часть речи                    grammar type type_alternation  \\\n",
       "874       Verb  постоянно; иногда, бывало  III              NaN   \n",
       "875       Verb   постоянно;иногда, бывало  III              NaN   \n",
       "\n",
       "                                            definition  \n",
       "874  проваливаться (куда-л. - постоянно;иногда, быв...  \n",
       "875  налетать (постоянно;иногда, бывало);выпадать (...  "
      ]
     },
     "execution_count": 152,
     "metadata": {},
     "output_type": "execute_result"
    }
   ],
   "source": [
    "kuruch_short[kuruch_short.transcription == \"vɨrne\"]"
   ]
  },
  {
   "cell_type": "code",
   "execution_count": 154,
   "metadata": {},
   "outputs": [
    {
     "data": {
      "text/plain": [
       "transcription\n",
       "l'aašške    2\n",
       "Name: type_alternation, dtype: int64"
      ]
     },
     "execution_count": 154,
     "metadata": {},
     "output_type": "execute_result"
    }
   ],
   "source": [
    "kuruch_short.groupby(['transcription']).type_alternation.nunique().loc[lambda x: x > 1]"
   ]
  },
  {
   "cell_type": "code",
   "execution_count": 155,
   "metadata": {},
   "outputs": [
    {
     "data": {
      "text/html": [
       "<div>\n",
       "<style scoped>\n",
       "    .dataframe tbody tr th:only-of-type {\n",
       "        vertical-align: middle;\n",
       "    }\n",
       "\n",
       "    .dataframe tbody tr th {\n",
       "        vertical-align: top;\n",
       "    }\n",
       "\n",
       "    .dataframe thead th {\n",
       "        text-align: right;\n",
       "    }\n",
       "</style>\n",
       "<table border=\"1\" class=\"dataframe\">\n",
       "  <thead>\n",
       "    <tr style=\"text-align: right;\">\n",
       "      <th></th>\n",
       "      <th>cyrillic_backwards</th>\n",
       "      <th>transcription_backwards</th>\n",
       "      <th>cyrillic</th>\n",
       "      <th>transcription</th>\n",
       "      <th>derived_cyrillic</th>\n",
       "      <th>derived_transcription</th>\n",
       "      <th>form_cyrillic</th>\n",
       "      <th>form_transcription</th>\n",
       "      <th>часть речи</th>\n",
       "      <th>grammar</th>\n",
       "      <th>type</th>\n",
       "      <th>type_alternation</th>\n",
       "      <th>definition</th>\n",
       "    </tr>\n",
       "  </thead>\n",
       "  <tbody>\n",
       "    <tr>\n",
       "      <th>2793</th>\n",
       "      <td>экшш̄ял</td>\n",
       "      <td>ekššaa'l</td>\n",
       "      <td>ля̄шшкэ</td>\n",
       "      <td>l'aašške</td>\n",
       "      <td>ля̄шшкэ</td>\n",
       "      <td>l'aašške</td>\n",
       "      <td>NaN</td>\n",
       "      <td>NaN</td>\n",
       "      <td>Verb</td>\n",
       "      <td>NaN</td>\n",
       "      <td>II</td>\n",
       "      <td>2</td>\n",
       "      <td>ловить арканом, арканить (оленя)</td>\n",
       "    </tr>\n",
       "    <tr>\n",
       "      <th>2794</th>\n",
       "      <td>экшш̄ял</td>\n",
       "      <td>ekššaa'l</td>\n",
       "      <td>ля̄шшкэ</td>\n",
       "      <td>l'aašške</td>\n",
       "      <td>ля̄шшкэ</td>\n",
       "      <td>l'aašške</td>\n",
       "      <td>NaN</td>\n",
       "      <td>NaN</td>\n",
       "      <td>Verb</td>\n",
       "      <td>NaN</td>\n",
       "      <td>II</td>\n",
       "      <td>3</td>\n",
       "      <td>выплёскивать что;выплёскиваться (откуда-л.);пл...</td>\n",
       "    </tr>\n",
       "  </tbody>\n",
       "</table>\n",
       "</div>"
      ],
      "text/plain": [
       "     cyrillic_backwards transcription_backwards cyrillic transcription  \\\n",
       "2793            экшш̄ял                ekššaa'l  ля̄шшкэ      l'aašške   \n",
       "2794            экшш̄ял                ekššaa'l  ля̄шшкэ      l'aašške   \n",
       "\n",
       "     derived_cyrillic derived_transcription form_cyrillic form_transcription  \\\n",
       "2793          ля̄шшкэ              l'aašške           NaN                NaN   \n",
       "2794          ля̄шшкэ              l'aašške           NaN                NaN   \n",
       "\n",
       "     часть речи grammar type type_alternation  \\\n",
       "2793       Verb     NaN   II                2   \n",
       "2794       Verb     NaN   II                3   \n",
       "\n",
       "                                             definition  \n",
       "2793                   ловить арканом, арканить (оленя)  \n",
       "2794  выплёскивать что;выплёскиваться (откуда-л.);пл...  "
      ]
     },
     "execution_count": 155,
     "metadata": {},
     "output_type": "execute_result"
    }
   ],
   "source": [
    "kuruch_short[kuruch_short.transcription == \"l'aašške\"]"
   ]
  },
  {
   "cell_type": "markdown",
   "metadata": {},
   "source": [
    "Видимо, больше \"особых\" примеров нет. Но надо поменять структуру лексем, потому что есть омонимы."
   ]
  },
  {
   "cell_type": "markdown",
   "metadata": {},
   "source": [
    "### Категориальные параметры"
   ]
  },
  {
   "cell_type": "code",
   "execution_count": 331,
   "metadata": {},
   "outputs": [
    {
     "data": {
      "text/plain": [
       "array(['Noun', 'Verb', 'Mor', 'Conj', 'Inter', 'AdjPred', 'Adv', 'Adj',\n",
       "       'Prep', 'Part', 'Num', 'Pred', 'PostP', 'AdvLike', 'Conj/Part',\n",
       "       'Adv/Conj/Part', nan, 'Pro', 'AdjComp', 'AdvPred', 'Phr'],\n",
       "      dtype=object)"
      ]
     },
     "execution_count": 331,
     "metadata": {},
     "output_type": "execute_result"
    }
   ],
   "source": [
    "kuruch['часть речи'].unique() # можно оставить для читаемости"
   ]
  },
  {
   "cell_type": "code",
   "execution_count": 332,
   "metadata": {},
   "outputs": [
    {
     "data": {
      "text/plain": [
       "array([nan, 'постоянно;иногда, бывало', 'сказ.', 'Trop', 'общее число',\n",
       "       'начать', 'постоянно', 'иногда, бывало',\n",
       "       'немного - постоянно;иногда, бывало', 'недолго, немного',\n",
       "       'быстро, немного', 'стать', 'страд.', 'быстро', 'сделать',\n",
       "       'понуд.', 'однокр.', 'безл.', 'обеспечить', 'быстро, недолго',\n",
       "       'быстро, недолго, немного', 'появиться',\n",
       "       'постоянно; иногда, бывало', 'лишить', 'лишиться', 'немного',\n",
       "       'в разных направлениях, постоянно; иногда, бывало', 'недолго',\n",
       "       'заставить', 'некоторое время, немного', 'побуждать',\n",
       "       'быстро, ненадолго', 'некоторое время', 'быстро, вдруг',\n",
       "       'ненадолго', 'друг друга', 'немного, однокр.', 'вдруг',\n",
       "       'медленно, постепенно', 'немного, постоянно; иногда, бывало',\n",
       "       'слегка', 'в настоящий момент', 'недолго, некоторое время',\n",
       "       'бывало, иногда', 'быстро, некоторое время, немного, совсем',\n",
       "       'в данный момент', 'некоторое время, слегка',\n",
       "       'безл., немного, постоянно; иногда, бывало',\n",
       "       'недолго, немного, некоторое время', 'безл., однокр.',\n",
       "       'вдруг, быстро', 'быстро, некоторое время',\n",
       "       'быстро, немного, однокр.', 'вдруг, лишиться', 'вдруг, однокр.',\n",
       "       'быстро, однокр.', 'быстро, постоянно; иногда, бывало', 'побуд.'],\n",
       "      dtype=object)"
      ]
     },
     "execution_count": 332,
     "metadata": {},
     "output_type": "execute_result"
    }
   ],
   "source": [
    "kuruch['grammar'].unique() # слишком много, можно оставить"
   ]
  },
  {
   "cell_type": "code",
   "execution_count": 333,
   "metadata": {},
   "outputs": [
    {
     "data": {
      "text/plain": [
       "array(['II', 'I', nan, 'III', 'V', 'IV'], dtype=object)"
      ]
     },
     "execution_count": 333,
     "metadata": {},
     "output_type": "execute_result"
    }
   ],
   "source": [
    "kuruch['type'].unique() # надо преобразовать в числа"
   ]
  },
  {
   "cell_type": "code",
   "execution_count": 334,
   "metadata": {},
   "outputs": [],
   "source": [
    "kuruch['type'].replace({'II':2, 'I':1, 'III':3, 'V':5, 'IV':4}, inplace=True)"
   ]
  },
  {
   "cell_type": "code",
   "execution_count": 335,
   "metadata": {},
   "outputs": [
    {
     "data": {
      "text/plain": [
       "array(['3', '2', nan, '1*', '4', '4*', '1 *', 'III', '1', '5', '1.'],\n",
       "      dtype=object)"
      ]
     },
     "execution_count": 335,
     "metadata": {},
     "output_type": "execute_result"
    }
   ],
   "source": [
    "kuruch['type_alternation'].unique() # можно не преобразововать, а то станет сложнее, но почистить можно"
   ]
  },
  {
   "cell_type": "code",
   "execution_count": 336,
   "metadata": {},
   "outputs": [
    {
     "data": {
      "text/html": [
       "<div>\n",
       "<style scoped>\n",
       "    .dataframe tbody tr th:only-of-type {\n",
       "        vertical-align: middle;\n",
       "    }\n",
       "\n",
       "    .dataframe tbody tr th {\n",
       "        vertical-align: top;\n",
       "    }\n",
       "\n",
       "    .dataframe thead th {\n",
       "        text-align: right;\n",
       "    }\n",
       "</style>\n",
       "<table border=\"1\" class=\"dataframe\">\n",
       "  <thead>\n",
       "    <tr style=\"text-align: right;\">\n",
       "      <th></th>\n",
       "      <th>cyrillic_backwards</th>\n",
       "      <th>transcription_backwards</th>\n",
       "      <th>cyrillic</th>\n",
       "      <th>transcription</th>\n",
       "      <th>derived_cyrillic</th>\n",
       "      <th>derived_transcription</th>\n",
       "      <th>form_cyrillic</th>\n",
       "      <th>form_transcription</th>\n",
       "      <th>часть речи</th>\n",
       "      <th>grammar</th>\n",
       "      <th>type</th>\n",
       "      <th>type_alternation</th>\n",
       "      <th>definition</th>\n",
       "    </tr>\n",
       "  </thead>\n",
       "  <tbody>\n",
       "    <tr>\n",
       "      <th>216</th>\n",
       "      <td>ькһ̄а</td>\n",
       "      <td>'khaa</td>\n",
       "      <td>а̄һкь</td>\n",
       "      <td>aahk'</td>\n",
       "      <td>а̄һкь</td>\n",
       "      <td>aahk'</td>\n",
       "      <td>а̄кь</td>\n",
       "      <td>aak'</td>\n",
       "      <td>Noun</td>\n",
       "      <td>NaN</td>\n",
       "      <td>I</td>\n",
       "      <td>III</td>\n",
       "      <td>женщина (замужняя), баба прост.</td>\n",
       "    </tr>\n",
       "  </tbody>\n",
       "</table>\n",
       "</div>"
      ],
      "text/plain": [
       "    cyrillic_backwards transcription_backwards cyrillic transcription  \\\n",
       "216              ькһ̄а                   'khaa    а̄һкь         aahk'   \n",
       "\n",
       "    derived_cyrillic derived_transcription form_cyrillic form_transcription  \\\n",
       "216            а̄һкь                 aahk'          а̄кь               aak'   \n",
       "\n",
       "    часть речи grammar type type_alternation                       definition  \n",
       "216       Noun     NaN    I              III  женщина (замужняя), баба прост.  "
      ]
     },
     "execution_count": 336,
     "metadata": {},
     "output_type": "execute_result"
    }
   ],
   "source": [
    "kuruch_short[kuruch_short.type_alternation == \"III\"]"
   ]
  },
  {
   "cell_type": "code",
   "execution_count": 337,
   "metadata": {},
   "outputs": [],
   "source": [
    "kuruch.type_alternation.replace('1 *','1*', inplace=True)\n",
    "kuruch.type_alternation.replace('1.','1', inplace=True)\n",
    "kuruch.type_alternation.replace('III','3', inplace=True)"
   ]
  },
  {
   "cell_type": "code",
   "execution_count": 338,
   "metadata": {},
   "outputs": [
    {
     "data": {
      "text/plain": [
       "array(['3', '2', nan, '1*', '4', '4*', '1', '5'], dtype=object)"
      ]
     },
     "execution_count": 338,
     "metadata": {},
     "output_type": "execute_result"
    }
   ],
   "source": [
    "kuruch['type_alternation'].unique()"
   ]
  },
  {
   "cell_type": "markdown",
   "metadata": {},
   "source": [
    "### Достаем корни"
   ]
  },
  {
   "cell_type": "code",
   "execution_count": null,
   "metadata": {},
   "outputs": [],
   "source": [
    "re.sub(r'([A-Z])',lambda x: x.group(1).lower() + chr(805), roots_text)"
   ]
  },
  {
   "cell_type": "code",
   "execution_count": 351,
   "metadata": {},
   "outputs": [],
   "source": [
    "roots = pd.read_csv('../done/roots.csv', encoding='utf-16', header=0)"
   ]
  },
  {
   "cell_type": "code",
   "execution_count": 999,
   "metadata": {},
   "outputs": [
    {
     "data": {
      "text/html": [
       "<div>\n",
       "<style scoped>\n",
       "    .dataframe tbody tr th:only-of-type {\n",
       "        vertical-align: middle;\n",
       "    }\n",
       "\n",
       "    .dataframe tbody tr th {\n",
       "        vertical-align: top;\n",
       "    }\n",
       "\n",
       "    .dataframe thead th {\n",
       "        text-align: right;\n",
       "    }\n",
       "</style>\n",
       "<table border=\"1\" class=\"dataframe\">\n",
       "  <thead>\n",
       "    <tr style=\"text-align: right;\">\n",
       "      <th></th>\n",
       "      <th>Derived</th>\n",
       "      <th>Derivator</th>\n",
       "      <th>Meaning</th>\n",
       "      <th>Original root</th>\n",
       "      <th>Word root</th>\n",
       "      <th>Remainder</th>\n",
       "      <th>Alternations</th>\n",
       "      <th>Length</th>\n",
       "      <th>Palatalization</th>\n",
       "      <th>Voicing</th>\n",
       "      <th>Smth strange</th>\n",
       "      <th>id_suffix_form</th>\n",
       "    </tr>\n",
       "  </thead>\n",
       "  <tbody>\n",
       "    <tr>\n",
       "      <th>0</th>\n",
       "      <td>aav'v'l</td>\n",
       "      <td>aav'v'l</td>\n",
       "      <td>аввель (перекладина с крючьями для подвешивани...</td>\n",
       "      <td>ROOT WORD</td>\n",
       "      <td>NaN</td>\n",
       "      <td>NaN</td>\n",
       "      <td>NaN</td>\n",
       "      <td>NaN</td>\n",
       "      <td>NaN</td>\n",
       "      <td>NaN</td>\n",
       "      <td>NaN</td>\n",
       "      <td>NaN</td>\n",
       "    </tr>\n",
       "    <tr>\n",
       "      <th>1</th>\n",
       "      <td>taall</td>\n",
       "      <td>taall</td>\n",
       "      <td>медведь м</td>\n",
       "      <td>ROOT WORD</td>\n",
       "      <td>NaN</td>\n",
       "      <td>NaN</td>\n",
       "      <td>NaN</td>\n",
       "      <td>NaN</td>\n",
       "      <td>NaN</td>\n",
       "      <td>NaN</td>\n",
       "      <td>NaN</td>\n",
       "      <td>NaN</td>\n",
       "    </tr>\n",
       "  </tbody>\n",
       "</table>\n",
       "</div>"
      ],
      "text/plain": [
       "   Derived Derivator                                            Meaning  \\\n",
       "0  aav'v'l   aav'v'l  аввель (перекладина с крючьями для подвешивани...   \n",
       "1    taall     taall                                          медведь м   \n",
       "\n",
       "  Original root Word root Remainder Alternations Length Palatalization  \\\n",
       "0     ROOT WORD       NaN       NaN          NaN    NaN            NaN   \n",
       "1     ROOT WORD       NaN       NaN          NaN    NaN            NaN   \n",
       "\n",
       "  Voicing Smth strange  id_suffix_form  \n",
       "0     NaN          NaN             NaN  \n",
       "1     NaN          NaN             NaN  "
      ]
     },
     "execution_count": 999,
     "metadata": {},
     "output_type": "execute_result"
    }
   ],
   "source": [
    "roots.head(2)"
   ]
  },
  {
   "cell_type": "code",
   "execution_count": 1001,
   "metadata": {},
   "outputs": [],
   "source": [
    "roots['Original root'].replace({'ROOT WORD':'root word'}, inplace=True)"
   ]
  },
  {
   "cell_type": "code",
   "execution_count": 1007,
   "metadata": {},
   "outputs": [],
   "source": [
    "for column in ['Derived', 'Derivator', 'Original root', 'Word root', 'Remainder', 'Alternations']:\n",
    "    roots[column] = roots[column].str.replace(r'([RNML])', lambda x: x.group(1).lower() + chr(805))"
   ]
  },
  {
   "cell_type": "code",
   "execution_count": 1008,
   "metadata": {},
   "outputs": [],
   "source": [
    "kuruch['root'] = roots['Word root']"
   ]
  },
  {
   "cell_type": "markdown",
   "metadata": {},
   "source": [
    "Достаем суффиксы"
   ]
  },
  {
   "cell_type": "code",
   "execution_count": 1009,
   "metadata": {},
   "outputs": [
    {
     "data": {
      "text/plain": [
       "Index(['Derived', 'Derivator', 'Meaning', 'Original root', 'Word root',\n",
       "       'Remainder', 'Alternations', 'Length', 'Palatalization', 'Voicing',\n",
       "       'Smth strange', 'id_suffix_form'],\n",
       "      dtype='object')"
      ]
     },
     "execution_count": 1009,
     "metadata": {},
     "output_type": "execute_result"
    }
   ],
   "source": [
    "roots.columns"
   ]
  },
  {
   "cell_type": "code",
   "execution_count": 1010,
   "metadata": {},
   "outputs": [],
   "source": [
    "roots.loc[roots['Original root'] == 'WARNING! Dictionary error', 'Length'] = np.nan"
   ]
  },
  {
   "cell_type": "code",
   "execution_count": 1011,
   "metadata": {},
   "outputs": [],
   "source": [
    "roots.Palatalization.replace({'- // -':'--', '- // +':'-+', '+ // -':'+-', '+ // +':'++'},inplace=True)\n",
    "roots.Length.replace({'- // -':'--', '- // +':'-+', '+ // -':'+-', '+ // +':'++'},inplace=True)\n",
    "roots.Voicing.replace({'- // +':'-+', '+ // -':'+-', 'Same':'same'},inplace=True)"
   ]
  },
  {
   "cell_type": "code",
   "execution_count": 1012,
   "metadata": {},
   "outputs": [],
   "source": [
    "roots_deriv = roots.loc[roots['Original root'] != 'ROOT WORD'.lower()]"
   ]
  },
  {
   "cell_type": "code",
   "execution_count": 1013,
   "metadata": {},
   "outputs": [
    {
     "name": "stderr",
     "output_type": "stream",
     "text": [
      "C:\\Users\\Mi\\Anaconda3\\lib\\site-packages\\pandas\\core\\frame.py:3065: SettingWithCopyWarning: \n",
      "A value is trying to be set on a copy of a slice from a DataFrame.\n",
      "Try using .loc[row_indexer,col_indexer] = value instead\n",
      "\n",
      "See the caveats in the documentation: https://pandas.pydata.org/pandas-docs/stable/user_guide/indexing.html#returning-a-view-versus-a-copy\n",
      "  self[k1] = value[k2]\n"
     ]
    }
   ],
   "source": [
    "# надо заполнить чтобы это было в обобщающей таблице\n",
    "roots_deriv[['Length','Voicing','Palatalization']] = roots_deriv[['Length','Voicing','Palatalization']].fillna('None')"
   ]
  },
  {
   "cell_type": "code",
   "execution_count": 1014,
   "metadata": {},
   "outputs": [
    {
     "data": {
      "text/html": [
       "<div>\n",
       "<style scoped>\n",
       "    .dataframe tbody tr th:only-of-type {\n",
       "        vertical-align: middle;\n",
       "    }\n",
       "\n",
       "    .dataframe tbody tr th {\n",
       "        vertical-align: top;\n",
       "    }\n",
       "\n",
       "    .dataframe thead th {\n",
       "        text-align: right;\n",
       "    }\n",
       "</style>\n",
       "<table border=\"1\" class=\"dataframe\">\n",
       "  <thead>\n",
       "    <tr style=\"text-align: right;\">\n",
       "      <th></th>\n",
       "      <th>Length</th>\n",
       "      <th>Voicing</th>\n",
       "      <th>Palatalization</th>\n",
       "    </tr>\n",
       "  </thead>\n",
       "  <tbody>\n",
       "    <tr>\n",
       "      <th>2</th>\n",
       "      <td>++</td>\n",
       "      <td>same</td>\n",
       "      <td>--</td>\n",
       "    </tr>\n",
       "    <tr>\n",
       "      <th>3</th>\n",
       "      <td>None</td>\n",
       "      <td>None</td>\n",
       "      <td>None</td>\n",
       "    </tr>\n",
       "    <tr>\n",
       "      <th>4</th>\n",
       "      <td>--</td>\n",
       "      <td>same</td>\n",
       "      <td>-+</td>\n",
       "    </tr>\n",
       "    <tr>\n",
       "      <th>5</th>\n",
       "      <td>None</td>\n",
       "      <td>None</td>\n",
       "      <td>None</td>\n",
       "    </tr>\n",
       "    <tr>\n",
       "      <th>6</th>\n",
       "      <td>None</td>\n",
       "      <td>same</td>\n",
       "      <td>None</td>\n",
       "    </tr>\n",
       "  </tbody>\n",
       "</table>\n",
       "</div>"
      ],
      "text/plain": [
       "  Length Voicing Palatalization\n",
       "2     ++    same             --\n",
       "3   None    None           None\n",
       "4     --    same             -+\n",
       "5   None    None           None\n",
       "6   None    same           None"
      ]
     },
     "execution_count": 1014,
     "metadata": {},
     "output_type": "execute_result"
    }
   ],
   "source": [
    "roots_deriv[['Length','Voicing','Palatalization']].head()"
   ]
  },
  {
   "cell_type": "code",
   "execution_count": 1015,
   "metadata": {},
   "outputs": [],
   "source": [
    "roots_deriv.groupby(['Remainder','Length','Palatalization']).Voicing.value_counts().to_csv('../done/suffixes_forms.csv')"
   ]
  },
  {
   "cell_type": "code",
   "execution_count": 1016,
   "metadata": {},
   "outputs": [],
   "source": [
    "suffixes_forms = pd.read_csv('../done/suffixes_forms.csv')"
   ]
  },
  {
   "cell_type": "code",
   "execution_count": 1017,
   "metadata": {},
   "outputs": [],
   "source": [
    "suffixes_forms = suffixes_forms.reset_index().drop(columns=['Voicing.1'])"
   ]
  },
  {
   "cell_type": "markdown",
   "metadata": {},
   "source": [
    "Вычесляем индексы(id)"
   ]
  },
  {
   "cell_type": "code",
   "execution_count": 841,
   "metadata": {},
   "outputs": [],
   "source": [
    "def index_suffixes_forms(row):\n",
    "    index = suffixes_forms.loc[(row['Remainder'] == suffixes_forms['Remainder']) &\n",
    "                              (row['Length'] == suffixes_forms['Length']) &\n",
    "                              (row['Palatalization'] == suffixes_forms['Palatalization']) &\n",
    "                              (row['Voicing'] == suffixes_forms['Voicing'])]['index']\n",
    "    if index.values.shape[0] != 0:\n",
    "        return index.values[0]"
   ]
  },
  {
   "cell_type": "code",
   "execution_count": 1018,
   "metadata": {},
   "outputs": [
    {
     "name": "stderr",
     "output_type": "stream",
     "text": [
      "C:\\Users\\Mi\\Anaconda3\\lib\\site-packages\\ipykernel_launcher.py:1: SettingWithCopyWarning: \n",
      "A value is trying to be set on a copy of a slice from a DataFrame.\n",
      "Try using .loc[row_indexer,col_indexer] = value instead\n",
      "\n",
      "See the caveats in the documentation: https://pandas.pydata.org/pandas-docs/stable/user_guide/indexing.html#returning-a-view-versus-a-copy\n",
      "  \"\"\"Entry point for launching an IPython kernel.\n"
     ]
    }
   ],
   "source": [
    "roots_deriv['id_suffix_form'] = roots_deriv.apply(index_suffixes_forms, axis=1)"
   ]
  },
  {
   "cell_type": "code",
   "execution_count": 1019,
   "metadata": {},
   "outputs": [
    {
     "data": {
      "text/plain": [
       "2     625.0\n",
       "3     767.0\n",
       "4       NaN\n",
       "5       NaN\n",
       "6     128.0\n",
       "7       NaN\n",
       "8      29.0\n",
       "9     763.0\n",
       "12     40.0\n",
       "13    739.0\n",
       "Name: id_suffix_form, dtype: float64"
      ]
     },
     "execution_count": 1019,
     "metadata": {},
     "output_type": "execute_result"
    }
   ],
   "source": [
    "roots_deriv['id_suffix_form'].head(10)"
   ]
  },
  {
   "cell_type": "code",
   "execution_count": 1020,
   "metadata": {},
   "outputs": [],
   "source": [
    "suffixes = suffixes_forms.Remainder.unique()"
   ]
  },
  {
   "cell_type": "code",
   "execution_count": 1021,
   "metadata": {},
   "outputs": [
    {
     "name": "stderr",
     "output_type": "stream",
     "text": [
      "C:\\Users\\Mi\\Anaconda3\\lib\\site-packages\\ipykernel_launcher.py:5: SettingWithCopyWarning: \n",
      "A value is trying to be set on a copy of a slice from a DataFrame.\n",
      "Try using .loc[row_indexer,col_indexer] = value instead\n",
      "\n",
      "See the caveats in the documentation: https://pandas.pydata.org/pandas-docs/stable/user_guide/indexing.html#returning-a-view-versus-a-copy\n",
      "  \"\"\"\n"
     ]
    }
   ],
   "source": [
    "def index_suffixes(x):\n",
    "    if not pd.isnull(x):\n",
    "        return np.where(suffixes==x)[0][0]\n",
    "    \n",
    "roots_deriv['id_suffix'] = roots_deriv.Remainder.apply(index_suffixes)"
   ]
  },
  {
   "cell_type": "code",
   "execution_count": 1023,
   "metadata": {},
   "outputs": [],
   "source": [
    "kuruch['suffix'] = roots.Remainder"
   ]
  },
  {
   "cell_type": "code",
   "execution_count": 1024,
   "metadata": {},
   "outputs": [],
   "source": [
    "kuruch['id_suffix'] = kuruch.suffix.apply(index_suffixes)"
   ]
  },
  {
   "cell_type": "code",
   "execution_count": 1025,
   "metadata": {},
   "outputs": [],
   "source": [
    "suffixes_forms['id_suffix'] = suffixes_forms.Remainder.apply(index_suffixes)"
   ]
  },
  {
   "cell_type": "markdown",
   "metadata": {},
   "source": [
    "Посмотрим на grammar"
   ]
  },
  {
   "cell_type": "code",
   "execution_count": 1026,
   "metadata": {},
   "outputs": [
    {
     "data": {
      "text/plain": [
       "suffix\n",
       "a          3\n",
       "aht'       9\n",
       "as         2\n",
       "as's't    10\n",
       "asxuvv     2\n",
       "          ..\n",
       "čedd       4\n",
       "š          3\n",
       "šaht'      2\n",
       "šennt      2\n",
       "šuvv       2\n",
       "Name: grammar, Length: 76, dtype: int64"
      ]
     },
     "execution_count": 1026,
     "metadata": {},
     "output_type": "execute_result"
    }
   ],
   "source": [
    "kuruch.groupby('suffix').grammar.nunique()[kuruch.groupby('suffix').grammar.nunique() > 1]"
   ]
  },
  {
   "cell_type": "code",
   "execution_count": 541,
   "metadata": {},
   "outputs": [],
   "source": [
    "import re"
   ]
  },
  {
   "cell_type": "code",
   "execution_count": 1027,
   "metadata": {},
   "outputs": [],
   "source": [
    "def combine_grammar(suffix):\n",
    "    meanings = set()\n",
    "    for m in kuruch.grammar[kuruch.suffix == suffix].unique():\n",
    "        if not pd.isnull(m):\n",
    "            meanings.update(re.split(r' ?[,;] ?', m))\n",
    "    return ', '.join(meanings)"
   ]
  },
  {
   "cell_type": "code",
   "execution_count": 1028,
   "metadata": {},
   "outputs": [],
   "source": [
    "suffix_meanings = []\n",
    "for suffix in suffixes:\n",
    "    suffix_meanings.append(combine_grammar(suffix))"
   ]
  },
  {
   "cell_type": "code",
   "execution_count": 1029,
   "metadata": {},
   "outputs": [
    {
     "data": {
      "text/plain": [
       "'постоянно, начать, бывало, недолго, однокр., ненадолго, иногда, некоторое время, сделать, совсем, немного, вдруг, безл., быстро'"
      ]
     },
     "execution_count": 1029,
     "metadata": {},
     "output_type": "execute_result"
    }
   ],
   "source": [
    "suffix_meanings[167]"
   ]
  },
  {
   "cell_type": "markdown",
   "metadata": {},
   "source": [
    "Alternations"
   ]
  },
  {
   "cell_type": "code",
   "execution_count": 1030,
   "metadata": {},
   "outputs": [],
   "source": [
    "alts = roots.Alternations.dropna().apply(lambda x: x.split(';')).explode().apply(lambda x: x.split(' // '))\n",
    "\n",
    "alts = [(i,l) for i, l in list(alts.items()) if len(l) > 1]"
   ]
  },
  {
   "cell_type": "code",
   "execution_count": 1031,
   "metadata": {},
   "outputs": [],
   "source": [
    "vowels = 'aɨueio'\n",
    "alts_tri = []\n",
    "for i, [alt1,alt2] in alts:\n",
    "    v = False\n",
    "    alt1 = alt1.replace('-','').strip()\n",
    "    alt2 = alt2.replace('-','').strip()\n",
    "    if alt1[0] in vowels:\n",
    "        v = True\n",
    "    alts_tri.append((i,alt1,alt2,v))"
   ]
  },
  {
   "cell_type": "code",
   "execution_count": 1032,
   "metadata": {},
   "outputs": [
    {
     "data": {
      "text/plain": [
       "4413"
      ]
     },
     "execution_count": 1032,
     "metadata": {},
     "output_type": "execute_result"
    }
   ],
   "source": [
    "len(alts_tri)"
   ]
  },
  {
   "cell_type": "markdown",
   "metadata": {},
   "source": [
    "# Делаем базу данных"
   ]
  },
  {
   "cell_type": "markdown",
   "metadata": {},
   "source": [
    "1. lexems (могут быть омонимы)\n",
    " 1. __id_lexem__\n",
    " 2. lexem_cyrillic\n",
    " 3. lexem_transcription\n",
    " 4. definition\n",
    " 5. form_cyrillic\n",
    " 6. form_transcription\n",
    " 7. pos\n",
    " 8. cn?\n",
    " 8. grammar\n",
    " 9. type\n",
    " 10. type_alternation\n",
    " \n",
    "2. derivatives\n",
    " 1. __id_deriv__\n",
    " 2. id_lexem\n",
    " 3. derived_from (id_lexem)\n",
    " 4. root\n",
    " 5. id_suffix_form\n",
    " \n",
    "3. alternations\n",
    " 1. __id_alt__\n",
    " 2. id_deriv\n",
    " 3. id_suffix_form\n",
    " 3. from\n",
    " 4. to\n",
    " 5. vowel?\n",
    " \n",
    "4. examples\n",
    " 1. __id_example__\n",
    " 2. id_lexem\n",
    " 3. id_gramm\n",
    " 3. example_cyrillic\n",
    " 4. example_transcription\n",
    " 5. example_def\n",
    " \n",
    "5. suffixes\n",
    " 1. __id_suffix__\n",
    " 2. form (тупо как он выглядит)\n",
    " 3. grammar\n",
    "\n",
    "6. suffixes_forms\n",
    " 1. __id_suffix_form__\n",
    " 2. id_suffix\n",
    " 5. length\n",
    " 6. palatalization\n",
    " 7. voicing"
   ]
  },
  {
   "cell_type": "code",
   "execution_count": 29,
   "metadata": {},
   "outputs": [
    {
     "name": "stdout",
     "output_type": "stream",
     "text": [
      "Requirement already satisfied: mysql-connector-python in c:\\users\\mi\\appdata\\local\\programs\\python\\python37-32\\lib\\site-packages (8.0.21)\n",
      "Requirement already satisfied: protobuf>=3.0.0 in c:\\users\\mi\\appdata\\local\\programs\\python\\python37-32\\lib\\site-packages (from mysql-connector-python) (3.8.0)\n",
      "Requirement already satisfied: six>=1.9 in c:\\users\\mi\\appdata\\local\\programs\\python\\python37-32\\lib\\site-packages (from protobuf>=3.0.0->mysql-connector-python) (1.12.0)\n",
      "Requirement already satisfied: setuptools in c:\\users\\mi\\appdata\\local\\programs\\python\\python37-32\\lib\\site-packages (from protobuf>=3.0.0->mysql-connector-python) (41.0.1)\n"
     ]
    },
    {
     "name": "stderr",
     "output_type": "stream",
     "text": [
      "WARNING: You are using pip version 20.0.2; however, version 20.2.4 is available.\n",
      "You should consider upgrading via the 'c:\\users\\mi\\appdata\\local\\programs\\python\\python37-32\\python.exe -m pip install --upgrade pip' command.\n"
     ]
    }
   ],
   "source": [
    "!pip3 install mysql-connector-python"
   ]
  },
  {
   "cell_type": "code",
   "execution_count": 30,
   "metadata": {},
   "outputs": [],
   "source": [
    "import mysql.connector"
   ]
  },
  {
   "cell_type": "markdown",
   "metadata": {},
   "source": [
    "Создаем базу данных"
   ]
  },
  {
   "cell_type": "code",
   "execution_count": 1034,
   "metadata": {},
   "outputs": [],
   "source": [
    "with open('../config.txt', encoding='utf-8') as f:\n",
    "    PASSWORD = f.read()"
   ]
  },
  {
   "cell_type": "code",
   "execution_count": 1035,
   "metadata": {},
   "outputs": [],
   "source": [
    "con = mysql.connector.connect(host='127.0.0.1', port=3306, user='root', password=PASSWORD)"
   ]
  },
  {
   "cell_type": "code",
   "execution_count": 1036,
   "metadata": {},
   "outputs": [],
   "source": [
    "cur=con.cursor(dictionary=True)"
   ]
  },
  {
   "cell_type": "code",
   "execution_count": 34,
   "metadata": {},
   "outputs": [],
   "source": [
    "cur.execute(\"CREATE DATABASE kuruch /*!40100 DEFAULT CHARACTER SET utf8mb4 COLLATE utf8mb4_0900_ai_ci */ /*!80016 DEFAULT ENCRYPTION='N' */;\")"
   ]
  },
  {
   "cell_type": "markdown",
   "metadata": {},
   "source": [
    "Подключаемся к созданной базе данных"
   ]
  },
  {
   "cell_type": "code",
   "execution_count": 1037,
   "metadata": {},
   "outputs": [],
   "source": [
    "con = mysql.connector.connect(host='127.0.0.1', port=3306, database='kuruch', user='root', password=PASSWORD)\n",
    "cur=con.cursor(dictionary=True)"
   ]
  },
  {
   "cell_type": "markdown",
   "metadata": {},
   "source": [
    "Создадим таблицы вручную"
   ]
  },
  {
   "cell_type": "markdown",
   "metadata": {},
   "source": [
    "Заливаем данные из таблицы"
   ]
  },
  {
   "cell_type": "code",
   "execution_count": 52,
   "metadata": {},
   "outputs": [],
   "source": [
    "kuruch.reset_index(inplace=True)"
   ]
  },
  {
   "cell_type": "code",
   "execution_count": 176,
   "metadata": {},
   "outputs": [
    {
     "data": {
      "text/plain": [
       "Index(['cyrillic_backwards', 'transcription_backwards', 'cyrillic',\n",
       "       'transcription', 'derived_cyrillic', 'derived_transcription',\n",
       "       'form_cyrillic', 'form_transcription', 'часть речи', 'grammar', 'type',\n",
       "       'type_alternation', 'definition', 'example_cyrillic'],\n",
       "      dtype='object')"
      ]
     },
     "execution_count": 176,
     "metadata": {},
     "output_type": "execute_result"
    }
   ],
   "source": [
    "kuruch.columns[:14]"
   ]
  },
  {
   "cell_type": "code",
   "execution_count": 1038,
   "metadata": {},
   "outputs": [
    {
     "data": {
      "text/plain": [
       "(7397, 106)"
      ]
     },
     "execution_count": 1038,
     "metadata": {},
     "output_type": "execute_result"
    }
   ],
   "source": [
    "kuruch.shape"
   ]
  },
  {
   "cell_type": "markdown",
   "metadata": {},
   "source": [
    "### lexems (могут быть омонимы)\n",
    " 1. __id_lexem__\n",
    " 2. lexem_cyrillic\n",
    " 3. lexem_transcription\n",
    " 4. definition\n",
    " 5. form_cyrillic\n",
    " 6. form_transcription\n",
    " 7. pos\n",
    " 8. common number?\n",
    " 9. grammar\n",
    " 9. type\n",
    " 10. type_alternation"
   ]
  },
  {
   "cell_type": "markdown",
   "metadata": {},
   "source": [
    "Из grammar надо достать отдельно общее число и остальные признаки"
   ]
  },
  {
   "cell_type": "code",
   "execution_count": 348,
   "metadata": {},
   "outputs": [],
   "source": [
    "kuruch['cn'] = kuruch.grammar.apply(lambda x: x == 'общее число')\n",
    "kuruch['grammar'] = kuruch.grammar.where(lambda x: x != 'общее число')"
   ]
  },
  {
   "cell_type": "code",
   "execution_count": 528,
   "metadata": {},
   "outputs": [],
   "source": [
    "req = \"DROP table kuruch.lexemes;\"\n",
    "cur.execute(req)\n",
    "\n",
    "req = \"\"\"CREATE TABLE `lexemes` (\n",
    "  `id_lexem` int(11) NOT NULL AUTO_INCREMENT,\n",
    "  `cyrillic` varchar(32) NOT NULL,\n",
    "  `transcription` varchar(32) NOT NULL,\n",
    "  `definition` varchar(1024) DEFAULT NULL,\n",
    "  `form_cyrillic` varchar(32) DEFAULT NULL,\n",
    "  `form_transcription` varchar(32) DEFAULT NULL,\n",
    "  `pos` varchar(16) DEFAULT NULL,\n",
    "  `cn` tinyint(1) DEFAULT NULL,\n",
    "  `grammar` varchar(64) DEFAULT NULL,\n",
    "  `type` int(11) DEFAULT NULL,\n",
    "  `type_alternation` varchar(8) DEFAULT NULL,\n",
    "  PRIMARY KEY (`id_lexem`),\n",
    "  UNIQUE KEY `idgrammar_UNIQUE` (`id_lexem`)\n",
    ") ENGINE=InnoDB AUTO_INCREMENT=7398 DEFAULT CHARSET=utf8mb4 COLLATE=utf8mb4_0900_ai_ci;\n",
    "\"\"\"\n",
    "cur.execute(req)\n",
    "\n",
    "req = \"ALTER TABLE kuruch.lexemes AUTO_INCREMENT = 1;\"\n",
    "cur.execute(req)\n",
    "con.commit()"
   ]
  },
  {
   "cell_type": "code",
   "execution_count": 522,
   "metadata": {},
   "outputs": [],
   "source": [
    "lexemes = ['(\"{}\",\"{}\",\"{}\",\"{}\",\"{}\",\"{}\",{},\"{}\",\"{}\",\"{}\")'.format(*x).replace('\"nan\"','NULL') for x in kuruch[['cyrillic','transcription','definition','form_cyrillic','form_transcription','часть речи','cn','grammar','type','type_alternation']].values]"
   ]
  },
  {
   "cell_type": "code",
   "execution_count": 525,
   "metadata": {},
   "outputs": [],
   "source": [
    "con.rollback()"
   ]
  },
  {
   "cell_type": "code",
   "execution_count": 529,
   "metadata": {},
   "outputs": [
    {
     "name": "stdout",
     "output_type": "stream",
     "text": [
      "Wall time: 573 ms\n"
     ]
    }
   ],
   "source": [
    "%%time\n",
    "for i in range(8):\n",
    "    req=\"INSERT INTO lexemes (cyrillic, transcription, definition, form_cyrillic, form_transcription, pos, cn, grammar, type, type_alternation) VALUES \" + \",\".join(lexemes[i*1000:(i+1)*1000])\n",
    "    cur.execute(req)\n",
    "con.commit()"
   ]
  },
  {
   "cell_type": "markdown",
   "metadata": {},
   "source": [
    " ### derivatives\n",
    " 1. __id_deriv__\n",
    " 2. id_lexem\n",
    " 3. derived_from (id_lexem)\n",
    " 4. root\n",
    " 5. id_suffix_form"
   ]
  },
  {
   "cell_type": "code",
   "execution_count": 1039,
   "metadata": {},
   "outputs": [],
   "source": [
    "kuruch.derived_cyrillic.where(kuruch.derived_cyrillic != kuruch.cyrillic, inplace=True)"
   ]
  },
  {
   "cell_type": "code",
   "execution_count": 1041,
   "metadata": {},
   "outputs": [],
   "source": [
    "missing = []\n",
    "multiple = []\n",
    "def find_id_deriv(derived_cyrillic):\n",
    "    if derived_cyrillic is not np.nan:\n",
    "        if derived_cyrillic not in kuruch.cyrillic.values:\n",
    "            if derived_cyrillic not in missing:\n",
    "                missing.append(derived_cyrillic)\n",
    "        else:\n",
    "            indexes = kuruch[kuruch.cyrillic == derived_cyrillic].index.values\n",
    "            if indexes.shape[0] > 1:\n",
    "                if derived_cyrillic not in multiple:\n",
    "                    multiple.append(derived_cyrillic)\n",
    "            return indexes[0]\n",
    "    \n",
    "id_deriv = kuruch.derived_cyrillic.apply(find_id_deriv)"
   ]
  },
  {
   "cell_type": "code",
   "execution_count": 1042,
   "metadata": {},
   "outputs": [
    {
     "data": {
      "text/plain": [
       "['дэдт', 'дэн', 'ка̄ннҍц', 'ла̄ввь (ла̄вь)', 'хэ̄ӆӆпэ', 'ца̄гке']"
      ]
     },
     "execution_count": 1042,
     "metadata": {},
     "output_type": "execute_result"
    }
   ],
   "source": [
    "missing"
   ]
  },
  {
   "cell_type": "code",
   "execution_count": 1043,
   "metadata": {},
   "outputs": [
    {
     "data": {
      "text/plain": [
       "['а̄ввь',\n",
       " 'бакалл',\n",
       " 'выррэ',\n",
       " 'ӣнн',\n",
       " 'каһце',\n",
       " 'кэ̄сск',\n",
       " 'кӣлл',\n",
       " 'кӯннҍтэ',\n",
       " 'ла̄ффьк',\n",
       " 'ля̄шшкэ',\n",
       " 'лыввэ',\n",
       " 'лыгксэ',\n",
       " 'ма̄дт',\n",
       " 'мырр',\n",
       " 'ню̄ххчемь',\n",
       " 'оаз',\n",
       " 'па̄шьтхэ',\n",
       " 'рӯһц',\n",
       " 'суннҍт',\n",
       " 'цыӈӈьк',\n",
       " 'э̄сстэ']"
      ]
     },
     "execution_count": 1043,
     "metadata": {},
     "output_type": "execute_result"
    }
   ],
   "source": [
    "multiple"
   ]
  },
  {
   "cell_type": "code",
   "execution_count": 1044,
   "metadata": {},
   "outputs": [],
   "source": [
    "req = \"DROP table kuruch.derivatives;\"\n",
    "cur.execute(req)\n",
    "\n",
    "req = \"\"\"CREATE TABLE `derivatives` (\n",
    "  `id_deriv` int(11) NOT NULL AUTO_INCREMENT,\n",
    "  `id_lexem` int(11) DEFAULT NULL,\n",
    "  `derived_from` int(11) DEFAULT NULL,\n",
    "  `root` varchar(45) DEFAULT NULL,\n",
    "  `id_suffix_form` int(11) DEFAULT NULL,\n",
    "  PRIMARY KEY (`id_deriv`)\n",
    ") ENGINE=InnoDB AUTO_INCREMENT=5520 DEFAULT CHARSET=utf8mb4 COLLATE=utf8mb4_0900_ai_ci;\n",
    "\n",
    "\"\"\"\n",
    "cur.execute(req)\n",
    "\n",
    "req = \"ALTER TABLE kuruch.derivatives AUTO_INCREMENT = 1;\"\n",
    "cur.execute(req)\n",
    "con.commit()"
   ]
  },
  {
   "cell_type": "code",
   "execution_count": 643,
   "metadata": {},
   "outputs": [
    {
     "data": {
      "text/plain": [
       "(7397, 5514, 7398, 7397)"
      ]
     },
     "execution_count": 643,
     "metadata": {},
     "output_type": "execute_result"
    }
   ],
   "source": [
    "kuruch.shape[0], roots_deriv.shape[0], roots.shape[0], id_deriv.shape[0]"
   ]
  },
  {
   "cell_type": "code",
   "execution_count": 1046,
   "metadata": {},
   "outputs": [],
   "source": [
    "roots.loc[roots['Original root'] != 'ROOT WORD'.lower(),'id_suffix_form'] = roots_deriv.id_suffix_form"
   ]
  },
  {
   "cell_type": "code",
   "execution_count": 1047,
   "metadata": {},
   "outputs": [],
   "source": [
    "derivs = ['(\"{}\",\"{}\",\"{}\",\"{}\")'.format(i+1,x+1,roots['Word root'][i],roots.id_suffix_form[i]+1).replace('\"nan\"','NULL') for i, x in id_deriv.dropna().items() if (i != x)]"
   ]
  },
  {
   "cell_type": "code",
   "execution_count": 1048,
   "metadata": {},
   "outputs": [
    {
     "name": "stdout",
     "output_type": "stream",
     "text": [
      "Wall time: 126 ms\n"
     ]
    }
   ],
   "source": [
    "%%time\n",
    "\n",
    "for i in range(len(derivs)//1000+1):\n",
    "    req=\"INSERT INTO derivatives (id_lexem, derived_from, root, id_suffix_form) VALUES \" + \",\".join(derivs[i*1000:(i+1)*1000])\n",
    "    cur.execute(req)\n",
    "con.commit()"
   ]
  },
  {
   "cell_type": "code",
   "execution_count": 657,
   "metadata": {},
   "outputs": [],
   "source": [
    "con.rollback()"
   ]
  },
  {
   "cell_type": "markdown",
   "metadata": {},
   "source": [
    "### examples\n",
    " 1. __id_example__\n",
    " 2. id_lexem\n",
    " 3. example_cyrillic\n",
    " 4. example_transcription\n",
    " 5. example_def"
   ]
  },
  {
   "cell_type": "code",
   "execution_count": 136,
   "metadata": {},
   "outputs": [],
   "source": [
    "kuruch_examples = kuruch[kuruch.columns[14:]]"
   ]
  },
  {
   "cell_type": "code",
   "execution_count": 203,
   "metadata": {},
   "outputs": [],
   "source": [
    "examples = []\n",
    "errors = []\n",
    "shifted = []\n",
    "for i, x in enumerate(kuruch_examples.values):\n",
    "    try:\n",
    "        for example in x[~pd.isnull(x)].reshape(-1,3):\n",
    "            examples.append('({},\"{}\",\"{}\",\"{}\")'.format(*[i+1] + list(example)))\n",
    "    except ValueError:\n",
    "        try:\n",
    "            for example in x[3:][~pd.isnull(x[3:])].reshape(-1,3):\n",
    "                examples.append('({},\"{}\",\"{}\",\"{}\")'.format(*[i+1] + list(example)))\n",
    "            shifted.append((i,x[:3]))\n",
    "        except:\n",
    "            errors.append(i)"
   ]
  },
  {
   "cell_type": "code",
   "execution_count": 199,
   "metadata": {},
   "outputs": [
    {
     "data": {
      "text/plain": [
       "10372"
      ]
     },
     "execution_count": 199,
     "metadata": {},
     "output_type": "execute_result"
    }
   ],
   "source": [
    "len(examples)"
   ]
  },
  {
   "cell_type": "code",
   "execution_count": 200,
   "metadata": {},
   "outputs": [
    {
     "data": {
      "text/plain": [
       "26"
      ]
     },
     "execution_count": 200,
     "metadata": {},
     "output_type": "execute_result"
    }
   ],
   "source": [
    "len(errors)"
   ]
  },
  {
   "cell_type": "code",
   "execution_count": 201,
   "metadata": {},
   "outputs": [
    {
     "data": {
      "text/plain": [
       "792"
      ]
     },
     "execution_count": 201,
     "metadata": {},
     "output_type": "execute_result"
    }
   ],
   "source": [
    "len(shifted)"
   ]
  },
  {
   "cell_type": "code",
   "execution_count": 194,
   "metadata": {},
   "outputs": [],
   "source": [
    "kuruch.iloc[errors].to_csv('../done/examples_errors.csv')"
   ]
  },
  {
   "cell_type": "code",
   "execution_count": 196,
   "metadata": {},
   "outputs": [],
   "source": [
    "kuruch.iloc[[x[0] for x in shifted]].to_csv('../done/examples_shifted.csv')"
   ]
  },
  {
   "cell_type": "code",
   "execution_count": 212,
   "metadata": {},
   "outputs": [
    {
     "name": "stdout",
     "output_type": "stream",
     "text": [
      "Wall time: 220 ms\n"
     ]
    }
   ],
   "source": [
    "%%time\n",
    "for i in range(len(examples)//1000+1):\n",
    "    req=\"INSERT INTO examples (id_lexem, example_cyrillic, example_transcription, example_def) VALUES \" + \",\".join(examples[i*1000:(i+1)*1000])\n",
    "    cur.execute(req)\n",
    "con.commit()"
   ]
  },
  {
   "cell_type": "markdown",
   "metadata": {},
   "source": [
    " ### alternations\n",
    " 1. __id_alt__\n",
    " 2. id_deriv\n",
    " 3. id_suffix_form\n",
    " 3. from\n",
    " 4. to\n",
    " 5. vowel?"
   ]
  },
  {
   "cell_type": "code",
   "execution_count": 1049,
   "metadata": {},
   "outputs": [],
   "source": [
    "req = \"DROP table kuruch.alternations;\"\n",
    "cur.execute(req)\n",
    "\n",
    "req = \"\"\"CREATE TABLE `alternations` (\n",
    "  `id_alt` int(11) NOT NULL AUTO_INCREMENT,\n",
    "  `id_deriv` int(11) DEFAULT NULL,\n",
    "  `id_suffix_form` int(11) DEFAULT NULL,\n",
    "  `from` varchar(32) DEFAULT NULL,\n",
    "  `to` varchar(32) DEFAULT NULL,\n",
    "  `isVowel` tinyint(1) DEFAULT NULL,\n",
    "  PRIMARY KEY (`id_alt`)\n",
    ") ENGINE=InnoDB AUTO_INCREMENT=5520 DEFAULT CHARSET=utf8mb4 COLLATE=utf8mb4_0900_ai_ci;\n",
    "\n",
    "\"\"\"\n",
    "cur.execute(req)\n",
    "\n",
    "req = \"ALTER TABLE kuruch.alternations AUTO_INCREMENT = 1;\"\n",
    "cur.execute(req)\n",
    "con.commit()"
   ]
  },
  {
   "cell_type": "code",
   "execution_count": 1050,
   "metadata": {},
   "outputs": [],
   "source": [
    "derivs_df = pd.DataFrame([x.replace(\"NULL\",'\"NULL\"')[2:-2].split('\",\"') for x in derivs], columns=['id_lexeme','deriv_from','root','id_suffix_form'])"
   ]
  },
  {
   "cell_type": "code",
   "execution_count": 1051,
   "metadata": {},
   "outputs": [],
   "source": [
    "derivs_df.id_lexeme = derivs_df.id_lexeme.astype(np.int64)"
   ]
  },
  {
   "cell_type": "code",
   "execution_count": 1052,
   "metadata": {},
   "outputs": [],
   "source": [
    "derivs_df.reset_index(inplace=True)"
   ]
  },
  {
   "cell_type": "code",
   "execution_count": 1053,
   "metadata": {},
   "outputs": [],
   "source": [
    "alts_df = pd.DataFrame(alts_tri, columns=['id_lexeme','from','to','isVowel'])"
   ]
  },
  {
   "cell_type": "code",
   "execution_count": 1054,
   "metadata": {},
   "outputs": [],
   "source": [
    "alts_df = alts_df.merge(derivs_df, on='id_lexeme').loc[:,['index','id_suffix_form', 'from','to','isVowel']]"
   ]
  },
  {
   "cell_type": "code",
   "execution_count": 1055,
   "metadata": {},
   "outputs": [],
   "source": [
    "alternations = ['(\"{}\",\"{}\",\"{}\",\"{}\",{})'.format(*x).replace('\"nan\"','NULL') for x in alts_df.values]"
   ]
  },
  {
   "cell_type": "code",
   "execution_count": 1056,
   "metadata": {},
   "outputs": [
    {
     "name": "stdout",
     "output_type": "stream",
     "text": [
      "Wall time: 92.8 ms\n"
     ]
    }
   ],
   "source": [
    "%%time\n",
    "\n",
    "for i in range(len(alternations)//1000+1):\n",
    "    req=\"INSERT INTO alternations (id_deriv, id_suffix_form, `from`, `to`, isVowel) VALUES \" + \",\".join(alternations[i*1000:(i+1)*1000])\n",
    "    cur.execute(req.replace('\"NULL\"','NULL'))\n",
    "con.commit()"
   ]
  },
  {
   "cell_type": "markdown",
   "metadata": {},
   "source": [
    "### suffixes\n",
    " 1. __id_suffix__\n",
    " 2. form (тупо как он выглядит)\n",
    " 3. grammar"
   ]
  },
  {
   "cell_type": "code",
   "execution_count": 1057,
   "metadata": {},
   "outputs": [],
   "source": [
    "req = \"DROP table kuruch.suffixes;\"\n",
    "cur.execute(req)\n",
    "\n",
    "req = \"\"\"CREATE TABLE `suffixes` (\n",
    "  `id_suffix` int(11) NOT NULL AUTO_INCREMENT,\n",
    "  `form` varchar(45) DEFAULT NULL,\n",
    "  `meaning` varchar(256) DEFAULT NULL,\n",
    "  PRIMARY KEY (`id_suffix`),\n",
    "  UNIQUE KEY `id_suffix_UNIQUE` (`id_suffix`)\n",
    ") ENGINE=InnoDB DEFAULT CHARSET=utf8mb4 COLLATE=utf8mb4_0900_ai_ci;\n",
    "\"\"\"\n",
    "cur.execute(req)\n",
    "\n",
    "req = \"ALTER TABLE kuruch.suffixes AUTO_INCREMENT = 1;\"\n",
    "cur.execute(req)\n",
    "con.commit()"
   ]
  },
  {
   "cell_type": "code",
   "execution_count": 1058,
   "metadata": {},
   "outputs": [],
   "source": [
    "suffixes_values = ['(\"{}\",\"{}\")'.format(*x).replace('\"\"','NULL') for x in zip(suffixes, suffix_meanings)]"
   ]
  },
  {
   "cell_type": "code",
   "execution_count": 1059,
   "metadata": {},
   "outputs": [
    {
     "data": {
      "text/plain": [
       "'постоянно, начать, страд., обеспечить, бывало, однокр., некоторое время, заставить, иногда, сделать, безл., немного, появиться, понуд., быстро'"
      ]
     },
     "execution_count": 1059,
     "metadata": {},
     "output_type": "execute_result"
    }
   ],
   "source": [
    "suffix_meanings[283]"
   ]
  },
  {
   "cell_type": "code",
   "execution_count": 1060,
   "metadata": {},
   "outputs": [
    {
     "data": {
      "text/plain": [
       "225"
      ]
     },
     "execution_count": 1060,
     "metadata": {},
     "output_type": "execute_result"
    }
   ],
   "source": [
    "len(suffix_meanings[167].encode('utf-8'))"
   ]
  },
  {
   "cell_type": "code",
   "execution_count": 1061,
   "metadata": {},
   "outputs": [
    {
     "name": "stdout",
     "output_type": "stream",
     "text": [
      "Wall time: 16 ms\n"
     ]
    }
   ],
   "source": [
    "%%time\n",
    "\n",
    "for i in range(len(suffixes_values)//1000+1):\n",
    "    req=\"INSERT INTO suffixes (form, meaning) VALUES \" + \",\".join(suffixes_values[i*1000:(i+1)*1000])\n",
    "    cur.execute(req)\n",
    "con.commit()"
   ]
  },
  {
   "cell_type": "markdown",
   "metadata": {},
   "source": [
    "### suffixes_forms\n",
    " 1. __id_suffix_form__\n",
    " 2. id_suffix\n",
    " 5. length\n",
    " 6. palatalization\n",
    " 7. voicing"
   ]
  },
  {
   "cell_type": "code",
   "execution_count": 1062,
   "metadata": {},
   "outputs": [],
   "source": [
    "req = \"DROP table kuruch.suffixes_forms;\"\n",
    "cur.execute(req)\n",
    "\n",
    "req = \"\"\"CREATE TABLE `suffixes_forms` (\n",
    "  `id_suffix_form` int(11) NOT NULL AUTO_INCREMENT,\n",
    "  `id_suffix` int(11) DEFAULT NULL,\n",
    "  `length` varchar(45) DEFAULT NULL,\n",
    "  `palatalization` varchar(45) DEFAULT NULL,\n",
    "  `voicing` varchar(45) DEFAULT NULL,\n",
    "  PRIMARY KEY (`id_suffix_form`),\n",
    "  UNIQUE KEY `id_suffix_UNIQUE` (`id_suffix_form`)\n",
    ") ENGINE=InnoDB DEFAULT CHARSET=utf8mb4 COLLATE=utf8mb4_0900_ai_ci;\n",
    "\"\"\"\n",
    "cur.execute(req)\n",
    "\n",
    "req = \"ALTER TABLE kuruch.suffixes_forms AUTO_INCREMENT = 1;\"\n",
    "cur.execute(req)\n",
    "con.commit()"
   ]
  },
  {
   "cell_type": "code",
   "execution_count": 1063,
   "metadata": {},
   "outputs": [],
   "source": [
    "suffixes_forms['id_suffix'] = suffixes_forms['id_suffix'] + 1"
   ]
  },
  {
   "cell_type": "code",
   "execution_count": 1064,
   "metadata": {},
   "outputs": [],
   "source": [
    "suffixes_forms_values = ['(\"{}\",\"{}\",\"{}\",\"{}\")'.format(*x).replace('\"nan\"','NULL') for x in suffixes_forms[['id_suffix','Length','Palatalization','Voicing']].values]"
   ]
  },
  {
   "cell_type": "code",
   "execution_count": 1065,
   "metadata": {},
   "outputs": [
    {
     "data": {
      "text/plain": [
       "['(\"1\",\"++\",\"++\",\"same\")',\n",
       " '(\"2\",\"++\",\"++\",\"same\")',\n",
       " '(\"3\",\"None\",\"None\",\"None\")',\n",
       " '(\"4\",\"None\",\"None\",\"None\")',\n",
       " '(\"5\",\"None\",\"None\",\"None\")']"
      ]
     },
     "execution_count": 1065,
     "metadata": {},
     "output_type": "execute_result"
    }
   ],
   "source": [
    "suffixes_forms_values[:5]"
   ]
  },
  {
   "cell_type": "code",
   "execution_count": 1066,
   "metadata": {},
   "outputs": [
    {
     "data": {
      "text/plain": [
       "array(['same', 'None', '-+', '+-'], dtype=object)"
      ]
     },
     "execution_count": 1066,
     "metadata": {},
     "output_type": "execute_result"
    }
   ],
   "source": [
    "suffixes_forms.Voicing.unique()"
   ]
  },
  {
   "cell_type": "code",
   "execution_count": 1067,
   "metadata": {},
   "outputs": [
    {
     "name": "stdout",
     "output_type": "stream",
     "text": [
      "Wall time: 32.9 ms\n"
     ]
    }
   ],
   "source": [
    "%%time\n",
    "\n",
    "for i in range(len(suffixes_forms_values)//1000+1):\n",
    "    req=\"INSERT INTO suffixes_forms (id_suffix, length, palatalization, voicing) VALUES \" + \",\".join(suffixes_forms_values[i*1000:(i+1)*1000])\n",
    "    cur.execute(req.replace('None','NULL'))\n",
    "con.commit()"
   ]
  },
  {
   "cell_type": "code",
   "execution_count": 1068,
   "metadata": {},
   "outputs": [],
   "source": [
    "roots.Remainder.value_counts().to_csv('../done/suffixes_counts.csv')"
   ]
  },
  {
   "cell_type": "markdown",
   "metadata": {},
   "source": [
    "## Смотрим как возвращаются результаты"
   ]
  },
  {
   "cell_type": "code",
   "execution_count": 890,
   "metadata": {},
   "outputs": [],
   "source": [
    "cur.execute(\"\"\"\n",
    "SELECT DISTINCT `from` FROM kuruch.alternations;\n",
    "\"\"\")\n",
    "res = cur.fetchall()"
   ]
  },
  {
   "cell_type": "code",
   "execution_count": 895,
   "metadata": {},
   "outputs": [],
   "source": [
    "from_sounds = [r['from'] for r in res if r['from'] is not None]\n",
    "sounds = sorted(sounds)"
   ]
  },
  {
   "cell_type": "code",
   "execution_count": 20,
   "metadata": {},
   "outputs": [],
   "source": [
    "show = [('lexemes.cyrillic', 'cyrillic'), ('lexemes.transcription', 'transcription'), ('derivatives.derived_from', 'derived_from'), ('derivatives.root', 'root'), ('lexemes.definition', 'definition'), ('lexemes.form_cyrillic', 'form_cyrillic'), ('lexemes.form_transcription', 'form_transcription'), ('lexemes.pos', 'pos'), ('lexemes.cn', 'cn'), ('lexemes.grammar', 'grammar'), ('lexemes.type', 'type'), ('lexemes.type_alternation', 'type_alternation'), ('suffixes.form', 'form'), ('suffixes.meaning', 'meaning'), ('suffixes_forms.length', 'length'), ('suffixes_forms.palatalization', 'palatalization'), ('suffixes_forms.voicing', 'voicing'), ('alternations.from', 'from'), ('alternations.to', 'to'), ('alternations.isVowel', 'isVowel'), ('examples.cyrillic', 'cyrillic'), ('examples.transcription', 'transcription'), ('examples.def', 'definition')]"
   ]
  },
  {
   "cell_type": "code",
   "execution_count": 21,
   "metadata": {},
   "outputs": [],
   "source": [
    "def parse_show(req):\n",
    "    show_dict = {}\n",
    "    for s in req:\n",
    "        name = s[0]\n",
    "        table, column = name.split('.')\n",
    "        if table not in show_dict:\n",
    "            show_dict[table] = []\n",
    "        show_dict[table].append(column)\n",
    "    return show_dict"
   ]
  },
  {
   "cell_type": "code",
   "execution_count": 22,
   "metadata": {},
   "outputs": [],
   "source": [
    "show_dict = parse_show(show)"
   ]
  },
  {
   "cell_type": "code",
   "execution_count": 23,
   "metadata": {},
   "outputs": [],
   "source": [
    "filter_list = [('filter_lexemes.cyrillic', ''), ('filter_lexemes.cyrillic_regex', 'b'), ('filter_lexemes.transcription', ''), ('filter_lexemes.transcription_regex', 'b'), ('filter_lexemes.form_cyrillic', ''), ('filter_lexemes.form_cyrillic_regex', 'b'), ('filter_lexemes.form_transcription', ''), ('filter_lexemes.form_transcription_regex', 'b'), ('filter_lexemes.derived_from', ''), ('filter_lexemes.derived_from_regex', 'b'), ('filter_lexemes.root', ''), ('filter_lexemes.root_regex', 'b'), ('filter_lexemes.definition', ''), ('filter_lexemes.grammar', ''), ('filter_lexemes.pos_0', '0'), ('filter_lexemes.pos_1', '1'), ('filter_lexemes.cn_1', '1'), ('filter_lexemes.type_0', '0'), ('filter_lexemes.type_1', '1'), ('filter_lexemes.type_alternation_0', '0'), ('filter_lexemes.type_alternation_1*', '1*'), ('filter_suffixes.form', ''), ('filter_suffixes.form_regex', 'b'), ('filter_suffixes.meaning', ''), ('filter_suffixes_forms.length_0', '--'), ('filter_suffixes_forms.length_1', '++'), ('filter_suffixes_forms.palatalization_1', '++'), ('filter_suffixes_forms.palatalization_2', '_+'), ('filter_suffixes_forms.voicing_2', '+-'), ('filter_alternations.from_0', \"L'L'c\"), ('filter_alternations.from_1', \"L'L'p\"), ('filter_alternations.to_0', \"L'k\"), ('filter_alternations.to_1', \"L'č\"), ('filter_alternations.isVowel_1', '1'), ('filter_alternations.isVowel_0', '0'), ('filter_examples.cyrillic', ''), ('filter_examples.transcription', ''), ('filter_examples.definition', '')]"
   ]
  },
  {
   "cell_type": "code",
   "execution_count": 26,
   "metadata": {},
   "outputs": [],
   "source": [
    "import re"
   ]
  },
  {
   "cell_type": "code",
   "execution_count": 27,
   "metadata": {},
   "outputs": [],
   "source": [
    "def parse_filter(req):\n",
    "    filter_dict = {}\n",
    "    for s in req:\n",
    "        name = s[0]\n",
    "        table = name.split('.')[0].replace('filter_', '')\n",
    "        column_value = name.split('.')[1]\n",
    "        search = re.search(r'(\\w*?)_(regex|\\d\\*?|)$', column_value)\n",
    "        regex = None\n",
    "        if search != None:\n",
    "            column = search.group(1)\n",
    "            if search.group(2) == 'regex':\n",
    "                regex = s[1]\n",
    "            else:\n",
    "                value = search.group(2)\n",
    "        else:\n",
    "            column = column_value\n",
    "            value = s[1]\n",
    "        if value != '':\n",
    "            if table not in filter_dict:\n",
    "                filter_dict[table] = {}\n",
    "            if column not in filter_dict[table]:\n",
    "                filter_dict[table][column] = {'values': []}\n",
    "            if regex:\n",
    "                filter_dict[table][column]['regex'] = regex\n",
    "            else:\n",
    "                filter_dict[table][column]['values'].append(value)\n",
    "    return filter_dict"
   ]
  },
  {
   "cell_type": "code",
   "execution_count": 28,
   "metadata": {},
   "outputs": [],
   "source": [
    "filter_dict = parse_filter(filter_list)"
   ]
  },
  {
   "cell_type": "code",
   "execution_count": 48,
   "metadata": {},
   "outputs": [
    {
     "data": {
      "text/plain": [
       "{'lexemes': ['cyrillic',\n",
       "  'transcription',\n",
       "  'definition',\n",
       "  'form_cyrillic',\n",
       "  'form_transcription',\n",
       "  'pos',\n",
       "  'cn',\n",
       "  'grammar',\n",
       "  'type',\n",
       "  'type_alternation'],\n",
       " 'derivatives': ['derived_from', 'root'],\n",
       " 'suffixes': ['form', 'meaning'],\n",
       " 'suffixes_forms': ['length', 'palatalization', 'voicing'],\n",
       " 'alternations': ['from', 'to', 'isVowel'],\n",
       " 'examples': ['cyrillic', 'transcription', 'def']}"
      ]
     },
     "execution_count": 48,
     "metadata": {},
     "output_type": "execute_result"
    }
   ],
   "source": [
    "show_dict"
   ]
  },
  {
   "cell_type": "code",
   "execution_count": 49,
   "metadata": {},
   "outputs": [
    {
     "data": {
      "text/plain": [
       "{'lexemes': {'pos': {'values': ['0', '1']},\n",
       "  'cn': {'values': ['1']},\n",
       "  'type': {'values': ['0', '1']},\n",
       "  'type_alternation': {'values': ['0', '1*']}},\n",
       " 'suffixes_forms': {'length': {'values': ['0', '1']},\n",
       "  'palatalization': {'values': ['1', '2']},\n",
       "  'voicing': {'values': ['2']}},\n",
       " 'alternations': {'from': {'values': ['0', '1']},\n",
       "  'to': {'values': ['0', '1']},\n",
       "  'isVowel': {'values': ['1', '0']}}}"
      ]
     },
     "execution_count": 49,
     "metadata": {},
     "output_type": "execute_result"
    }
   ],
   "source": [
    "filter_dict"
   ]
  },
  {
   "cell_type": "code",
   "execution_count": 39,
   "metadata": {},
   "outputs": [],
   "source": [
    "text_columns = ['cyrillic','transcription','definition','def','form_cyrillic','form_transcription','grammar','root','form','meaning']\n",
    "values_columns = ['type','type_alternation', 'isCn','length','palatalization','voicing','isVowel']\n",
    "# indexes_columns = {'pos':dict(poses),'from':dict(from_sounds),'to':dict(to_sounds)}\n",
    "indexes_columns = {'pos':{'0':'2','1':'A'},'from':{'0':'r','1':'2'},'to':{'0':'e','1':'3'}}"
   ]
  },
  {
   "cell_type": "code",
   "execution_count": 91,
   "metadata": {},
   "outputs": [],
   "source": [
    "db_dict = {'lexemes':{'examples':'id_lexeme',\n",
    "                           'derivatives':'id_lexem'},\n",
    "                'derivatives': {'lexemes':'id_lexeme',\n",
    "                                'examples':'id_lexem',\n",
    "                                'alternations':'id_deriv',\n",
    "                                'suffixes_forms':'id_suffix_form'},\n",
    "                'alternations': {'suffixes_forms':'id_suffix',\n",
    "                                 'derivatives':'id_deriv'},\n",
    "                'suffixes_forms': {'suffixes':'id_suffix',\n",
    "                                   'alternations':'id_suffix',\n",
    "                                   'derivatives':'id_suffix_form'},\n",
    "                'suffixes': {'suffixes_forms':'id_suffix'},\n",
    "                'examples': {'derivatives':'id_lexeme',\n",
    "                             'lexemes':'id_lexeme'}}"
   ]
  },
  {
   "cell_type": "code",
   "execution_count": 112,
   "metadata": {},
   "outputs": [],
   "source": [
    "db_dict_directed = {'lexemes':{'examples':'id_lexeme',\n",
    "                           'derivatives':'id_lexem'},\n",
    "                'derivatives': {'lexemes':'derived_from',\n",
    "                                'examples':'id_lexem',\n",
    "                                'suffixes_forms':'id_suffix_form'},\n",
    "                'alternations': {'suffixes_forms':'id_suffix',\n",
    "                                 'derivatives':'id_deriv'},\n",
    "                'suffixes_forms': {'suffixes':'id_suffix'},\n",
    "                'examples': {'derivatives':'id_lexeme'}}"
   ]
  },
  {
   "cell_type": "code",
   "execution_count": 92,
   "metadata": {},
   "outputs": [],
   "source": [
    "import networkx as nx"
   ]
  },
  {
   "cell_type": "code",
   "execution_count": 113,
   "metadata": {},
   "outputs": [],
   "source": [
    "graph = nx.DiGraph()\n",
    "graph.add_nodes_from(tables)\n",
    "for node, connections in db_dict_directed.items():\n",
    "    for connection, key in connections.items():\n",
    "        graph.add_edge(node, connection, using=key)"
   ]
  },
  {
   "cell_type": "code",
   "execution_count": 80,
   "metadata": {},
   "outputs": [],
   "source": [
    "tables = ['lexemes', 'derivatives', 'suffixes', 'suffixes_forms', 'alternations', 'examples']"
   ]
  },
  {
   "cell_type": "code",
   "execution_count": null,
   "metadata": {},
   "outputs": [],
   "source": [
    "def create_graph():\n",
    "    tables = ['lexemes', 'derivatives', 'suffixes', 'suffixes_forms', 'alternations', 'examples']\n",
    "    db_dict = {'lexemes':{'examples':'id_lexeme',\n",
    "                           'derivatives':'id_lexem'},\n",
    "                'derivatives': {'lexemes':'id_lexeme',\n",
    "                                'examples':'id_lexem',\n",
    "                                'alternations':'id_deriv',\n",
    "                                'suffixes_forms':'id_suffix_form'},\n",
    "                'alternations': {'suffixes_forms':'id_suffix',\n",
    "                                 'derivatives':'id_deriv'},\n",
    "                'suffixes_forms': {'suffixes':'id_suffix',\n",
    "                                   'alternations':'id_suffix',\n",
    "                                   'derivatives':'id_suffix_form'},\n",
    "                'suffixes': {'suffixes_forms':'id_suffix'},\n",
    "                'examples': {'derivatives':'id_lexeme',\n",
    "                             'lexemes':'id_lexeme'}}\n",
    "    graph = nx.Graph()\n",
    "    graph.add_nodes_from(tables)\n",
    "    for node, connections in db_dict.items():\n",
    "        for connection, key in connections.items():\n",
    "            graph.add_edge(node, connection, using=key)\n",
    "    return graph"
   ]
  },
  {
   "cell_type": "code",
   "execution_count": 120,
   "metadata": {},
   "outputs": [],
   "source": [
    "graph = nx.Graph()\n",
    "graph.add_nodes_from(tables)\n",
    "for node, connections in db_dict.items():\n",
    "    for connection, key in connections.items():\n",
    "        graph.add_edge(node, connection, using=key)"
   ]
  },
  {
   "cell_type": "code",
   "execution_count": 121,
   "metadata": {},
   "outputs": [
    {
     "data": {
      "text/plain": [
       "EdgeView([('lexemes', 'examples'), ('lexemes', 'derivatives'), ('derivatives', 'examples'), ('derivatives', 'alternations'), ('derivatives', 'suffixes_forms'), ('suffixes', 'suffixes_forms'), ('suffixes_forms', 'alternations')])"
      ]
     },
     "execution_count": 121,
     "metadata": {},
     "output_type": "execute_result"
    }
   ],
   "source": [
    "graph.edges"
   ]
  },
  {
   "cell_type": "code",
   "execution_count": 105,
   "metadata": {},
   "outputs": [],
   "source": [
    "import matplotlib.pyplot as plt"
   ]
  },
  {
   "cell_type": "code",
   "execution_count": 122,
   "metadata": {},
   "outputs": [
    {
     "data": {
      "text/plain": [
       "['suffixes', 'suffixes_forms', 'derivatives', 'lexemes']"
      ]
     },
     "execution_count": 122,
     "metadata": {},
     "output_type": "execute_result"
    }
   ],
   "source": [
    "nx.shortest_path(graph, 'suffixes','lexemes')"
   ]
  },
  {
   "cell_type": "code",
   "execution_count": 128,
   "metadata": {},
   "outputs": [
    {
     "data": {
      "text/plain": [
       "[['suffixes', 'suffixes_forms', 'derivatives', 'lexemes'],\n",
       " ['suffixes', 'suffixes_forms', 'derivatives', 'examples', 'lexemes'],\n",
       " ['suffixes', 'suffixes_forms', 'alternations', 'derivatives', 'lexemes'],\n",
       " ['suffixes',\n",
       "  'suffixes_forms',\n",
       "  'alternations',\n",
       "  'derivatives',\n",
       "  'examples',\n",
       "  'lexemes']]"
      ]
     },
     "execution_count": 128,
     "metadata": {},
     "output_type": "execute_result"
    }
   ],
   "source": [
    "list(nx.all_simple_paths(graph, 'suffixes','lexemes'))"
   ]
  },
  {
   "cell_type": "code",
   "execution_count": 131,
   "metadata": {},
   "outputs": [],
   "source": [
    "import itertools"
   ]
  },
  {
   "cell_type": "code",
   "execution_count": 134,
   "metadata": {},
   "outputs": [
    {
     "data": {
      "text/plain": [
       "[('suffixes', 'alternations'),\n",
       " ('suffixes', 'lexemes'),\n",
       " ('alternations', 'lexemes')]"
      ]
     },
     "execution_count": 134,
     "metadata": {},
     "output_type": "execute_result"
    }
   ],
   "source": [
    "list(itertools.combinations(ex,2))"
   ]
  },
  {
   "cell_type": "code",
   "execution_count": 137,
   "metadata": {},
   "outputs": [
    {
     "data": {
      "text/plain": [
       "['suffixes', 'suffixes_forms', 'alternations', 'derivatives', 'lexemes']"
      ]
     },
     "execution_count": 137,
     "metadata": {},
     "output_type": "execute_result"
    }
   ],
   "source": [
    "ex = ['suffixes','alternations','lexemes']\n",
    "\n",
    "paths = []\n",
    "for x in itertools.combinations(ex,2):\n",
    "    for path in nx.all_simple_paths(graph, *x):\n",
    "        if all(node in path for node in ex):\n",
    "            paths.append(path)\n",
    "sorted(paths, key=lambda x: len(x))[0]"
   ]
  },
  {
   "cell_type": "code",
   "execution_count": null,
   "metadata": {},
   "outputs": [],
   "source": []
  },
  {
   "cell_type": "code",
   "execution_count": 123,
   "metadata": {},
   "outputs": [
    {
     "data": {
      "image/png": "[encoded data removed]",
      "text/plain": [
       "<Figure size 432x288 with 1 Axes>"
      ]
     },
     "metadata": {},
     "output_type": "display_data"
    }
   ],
   "source": [
    "nx.draw_shell(graph, with_labels=True)"
   ]
  },
  {
   "cell_type": "code",
   "execution_count": 73,
   "metadata": {},
   "outputs": [],
   "source": [
    "joins_complex = {\n",
    "    tuple(sorted(['lexemes','alternations'])):[('alternations','derivatives'),('lexemes', 'derivatives')],\n",
    "    tuple(sorted(['lexemes','suffixes_forms'])):[('derivatives','suffixes_forms'),('lexemes','derivatives')],\n",
    "    tuple(sorted(['lexemes','suffixes'])):[('suffixes_forms', 'suffixes'), ('derivatives', 'suffixes_forms'),('lexemes','derivatives')],\n",
    "    tuple(sorted(['derivatives','suffixes'])):[('suffixes_forms','suffixes'),('derivatives', 'suffixes_form')],\n",
    "    tuple(sorted(['alternations','examples'])):[('derivatives','examples'),('alternations','derivatives')],\n",
    "    tuple(sorted(['alternations','suffixes'])):[('suffixes_forms','suffixes'),('alternations','suffixes_forms')],\n",
    "    tuple(sorted(['suffixes_forms','examples'])):[('derivatives','examples'),('suffixes_forms','derivatives')],\n",
    "    tuple(sorted(['','',''])):[('',''),('','')],\n",
    "}"
   ]
  },
  {
   "cell_type": "code",
   "execution_count": 66,
   "metadata": {},
   "outputs": [
    {
     "data": {
      "text/plain": [
       "dict_keys(['lexemes', 'derivatives', 'suffixes', 'suffixes_forms', 'alternations', 'examples'])"
      ]
     },
     "execution_count": 66,
     "metadata": {},
     "output_type": "execute_result"
    }
   ],
   "source": [
    "show_dict.keys()"
   ]
  },
  {
   "cell_type": "code",
   "execution_count": 67,
   "metadata": {},
   "outputs": [
    {
     "data": {
      "text/plain": [
       "dict_keys(['lexemes', 'suffixes_forms', 'alternations'])"
      ]
     },
     "execution_count": 67,
     "metadata": {},
     "output_type": "execute_result"
    }
   ],
   "source": [
    "filter_dict.keys()"
   ]
  },
  {
   "cell_type": "code",
   "execution_count": 138,
   "metadata": {},
   "outputs": [],
   "source": [
    "def find_path(tables, graph):\n",
    "    paths = []\n",
    "    for x in itertools.combinations(tables,2):\n",
    "        for path in nx.all_simple_paths(graph, *x):\n",
    "            if all(table in path for table in tables):\n",
    "                paths.append(path)\n",
    "    return sorted(paths, key=lambda x: len(x))[0]"
   ]
  },
  {
   "cell_type": "code",
   "execution_count": 147,
   "metadata": {},
   "outputs": [
    {
     "data": {
      "text/plain": [
       "'id_suffix'"
      ]
     },
     "execution_count": 147,
     "metadata": {},
     "output_type": "execute_result"
    }
   ],
   "source": [
    "graph.edges[path[0],path[1]]['using']"
   ]
  },
  {
   "cell_type": "code",
   "execution_count": 187,
   "metadata": {},
   "outputs": [],
   "source": [
    "def put_inside_join(path, graph, i=0):\n",
    "    string = ''\n",
    "    padding = '\\t'*i\n",
    "    if i+1 < len(path)-1:\n",
    "        string = f'\\n{padding}({path[i]} INNER JOIN ({put_inside_join(path, graph, i+1)})\\n{padding}USING({graph.edges[path[i],path[i+1]][\"using\"]}))'\n",
    "    else:\n",
    "        string = f'\\n{padding}({path[i]} INNER JOIN ({path[i+1]})\\n{padding}USING({graph.edges[path[i],path[i+1]][\"using\"]}))'\n",
    "    return string"
   ]
  },
  {
   "cell_type": "code",
   "execution_count": 188,
   "metadata": {},
   "outputs": [
    {
     "data": {
      "text/plain": [
       "['alternations', 'suffixes_forms', 'derivatives', 'examples', 'lexemes']"
      ]
     },
     "execution_count": 188,
     "metadata": {},
     "output_type": "execute_result"
    }
   ],
   "source": [
    "path"
   ]
  },
  {
   "cell_type": "code",
   "execution_count": 189,
   "metadata": {},
   "outputs": [
    {
     "name": "stdout",
     "output_type": "stream",
     "text": [
      "\n",
      "(alternations INNER JOIN (\n",
      "\t(suffixes_forms INNER JOIN (\n",
      "\t\t(derivatives INNER JOIN (\n",
      "\t\t\t(examples INNER JOIN (lexemes)\n",
      "\t\t\tUSING(id_lexeme)))\n",
      "\t\tUSING(id_lexeme)))\n",
      "\tUSING(id_suffix_form)))\n",
      "USING(id_suffix))\n"
     ]
    }
   ],
   "source": [
    "print(put_inside_join(path, graph))"
   ]
  },
  {
   "cell_type": "code",
   "execution_count": 190,
   "metadata": {},
   "outputs": [
    {
     "data": {
      "text/plain": [
       "'\\n(suffixes INNER JOIN (\\n\\t(suffixes_forms INNER JOIN (\\n\\t\\t(alternations INNER JOIN (\\n\\t\\t\\t(derivatives INNER JOIN (\\n\\t\\t\\t\\t(lexemes INNER JOIN (examples)\\n\\t\\t\\t\\tUSING(id_lexeme)))\\n\\t\\t\\tUSING(id_lexeme)))\\n\\t\\tUSING(id_deriv)))\\n\\tUSING(id_suffix)))\\nUSING(id_suffix))'"
      ]
     },
     "execution_count": 190,
     "metadata": {},
     "output_type": "execute_result"
    }
   ],
   "source": [
    "tables = set(list(filter_dict.keys()) + list(show_dict.keys()))\n",
    "path = find_path(tables,graph)\n",
    "put_inside_join(path, graph)"
   ]
  },
  {
   "cell_type": "code",
   "execution_count": 197,
   "metadata": {},
   "outputs": [
    {
     "name": "stdout",
     "output_type": "stream",
     "text": [
      "\n",
      "SELECT lexemes.`cyrillic`, lexemes.`transcription`, lexemes.`definition`, lexemes.`form_cyrillic`, lexemes.`form_transcription`, lexemes.`pos`, lexemes.`cn`, lexemes.`grammar`, lexemes.`type`, lexemes.`type_alternation`, suffixes_forms.`length`, suffixes_forms.`palatalization`, suffixes_forms.`voicing`, alternations.`from`, alternations.`to`, alternations.`isVowel` FROM \n",
      "(suffixes INNER JOIN (\n",
      "\t(suffixes_forms INNER JOIN (\n",
      "\t\t(alternations INNER JOIN (\n",
      "\t\t\t(derivatives INNER JOIN (\n",
      "\t\t\t\t(lexemes INNER JOIN (examples)\n",
      "\t\t\t\tUSING(id_lexeme)))\n",
      "\t\t\tUSING(id_lexeme)))\n",
      "\t\tUSING(id_deriv)))\n",
      "\tUSING(id_suffix)))\n",
      "USING(id_suffix))\n",
      "WHERE (lexemes.`pos` = \"2\")\n",
      " AND (lexemes.`pos` = \"A\")\n",
      " AND (lexemes.`pos` = \"2\")\n",
      " AND (lexemes.`pos` = \"A\")\n",
      " AND (lexemes.`type` is NULL)\n",
      " AND (lexemes.`type` = \"1\")\n",
      " AND (lexemes.`type_alternation` is NULL)\n",
      " AND (lexemes.`type_alternation` = \"1*\")\n",
      " AND (suffixes_forms.`length` is NULL)\n",
      " AND (suffixes_forms.`length` = \"1\")\n",
      " AND (suffixes_forms.`palatalization` = \"1\")\n",
      " AND (suffixes_forms.`palatalization` = \"2\")\n",
      " AND (suffixes_forms.`voicing` = \"2\")\n",
      " AND (alternations.`from` = \"r\")\n",
      " AND (alternations.`from` = \"2\")\n",
      " AND (alternations.`to` = \"e\")\n",
      " AND (alternations.`to` = \"3\")\n",
      " AND (alternations.`isVowel` = 1)\n",
      " AND (alternations.`isVowel` = 0)\n",
      "LIMIT 50;\n",
      "\n"
     ]
    }
   ],
   "source": [
    "conditions = []\n",
    "selects = []\n",
    "limit=50\n",
    "for table, columns in filter_dict.items():\n",
    "    for column, values in columns.items():\n",
    "        if column in text_columns:\n",
    "            if 'regex' in values:\n",
    "                regex = values['regex']\n",
    "                if regex == 'b':\n",
    "                    conds = [f'({table}.`{column}` LIKE \"{value}%\")' for value in values['values']]\n",
    "                elif regex == 'e':\n",
    "                    conds = [f'({table}.`{column}` LIKE \"%{value}\")' for value in values['values']]\n",
    "                elif regex == 'i':\n",
    "                    conds = [f'({table}.`{column}` LIKE \"%{value}%\")' for value in values['values']]\n",
    "            else:\n",
    "                conds = [f'({table}.`{column}` LIKE \"%{value}%\")' for value in values['values']]\n",
    "        elif column in values_columns:\n",
    "            if 'is' in column:\n",
    "                conds = [f'({table}.`{column}` = {value})' for value in values['values']]\n",
    "            else:\n",
    "                conds = []\n",
    "                for value in values['values']:\n",
    "                    if value == '0':\n",
    "                        cond = f'({table}.`{column}` is NULL)'\n",
    "                    else:\n",
    "                        cond = f'({table}.`{column}` = \"{value}\")'\n",
    "                    conds.append(cond)\n",
    "        elif column in indexes_columns:\n",
    "            conds = [f'({table}.`{column}` = \"{indexes_columns[column][value]}\")' for value in values['values']]\n",
    "        conditions.extend(conds)\n",
    "    select = ', '.join([f'{table}.`{column}`' for column in show_dict[table]])\n",
    "    selects.append(select)\n",
    "selects = ', '.join(selects)\n",
    "conditions = '\\n AND '.join(conditions)\n",
    "\n",
    "tables = set(list(filter_dict.keys()) + list(show_dict.keys()))\n",
    "path = find_path(tables,graph)\n",
    "joins = put_inside_join(path, graph)\n",
    "\n",
    "req = f\"\"\"\n",
    "SELECT {selects} FROM {joins}\n",
    "WHERE {conditions}\n",
    "LIMIT {limit};\n",
    "\"\"\"\n",
    "print(req)"
   ]
  },
  {
   "cell_type": "code",
   "execution_count": 198,
   "metadata": {},
   "outputs": [],
   "source": [
    "def search(filter_dict, show_dict, limit):\n",
    "    conditions = []\n",
    "    selects = []\n",
    "    for table, columns in filter_dict.items():\n",
    "        for column, values in columns.items():\n",
    "            if column in text_columns:\n",
    "                if 'regex' in values:\n",
    "                    regex = values['regex']\n",
    "                    if regex == 'b':\n",
    "                        conds = [f'({table}.`{column}` LIKE \"{value}%\")' for value in values['values']]\n",
    "                    elif regex == 'e':\n",
    "                        conds = [f'({table}.`{column}` LIKE \"%{value}\")' for value in values['values']]\n",
    "                    elif regex == 'i':\n",
    "                        conds = [f'({table}.`{column}` LIKE \"%{value}%\")' for value in values['values']]\n",
    "                else:\n",
    "                    conds = [f'({table}.`{column}` LIKE \"%{value}%\")' for value in values['values']]\n",
    "            elif column in values_columns:\n",
    "                if 'is' in column:\n",
    "                    conds = [f'({table}.`{column}` = {value})' for value in values['values']]\n",
    "                else:\n",
    "                    conds = []\n",
    "                    for value in values['values']:\n",
    "                        if value == '0':\n",
    "                            cond = f'({table}.`{column}` is NULL)'\n",
    "                        else:\n",
    "                            cond = f'({table}.`{column}` = \"{value}\")'\n",
    "                        conds.append(cond)\n",
    "            elif column in indexes_columns:\n",
    "                conds = [f'({table}.`{column}` = \"{indexes_columns[column][value]}\")' for value in values['values']]\n",
    "            conditions.extend(conds)\n",
    "        select = ', '.join([f'{table}.`{column}`' for column in show_dict[table]])\n",
    "        selects.append(select)\n",
    "    selects = ', '.join(selects)\n",
    "    conditions = '\\n AND '.join(conditions)\n",
    "\n",
    "    tables = set(list(filter_dict.keys()) + list(show_dict.keys()))\n",
    "    path = find_path(tables,graph)\n",
    "    joins = put_inside_join(path, graph)\n",
    "\n",
    "    req = f\"\"\"\n",
    "    SELECT {selects} FROM {joins}\n",
    "    WHERE {conditions}\n",
    "    LIMIT {limit};\n",
    "    \"\"\"\n",
    "    print(req)\n",
    "    cur.execute(req)\n",
    "    res = cur.fetchall()\n",
    "    return show_dict[table], res"
   ]
  },
  {
   "cell_type": "code",
   "execution_count": 193,
   "metadata": {},
   "outputs": [],
   "source": [
    "def search(table, filter_dict, show_dict, limit):\n",
    "    columns = filter_dict[table]\n",
    "    conditions = []\n",
    "    for column, values in columns.items():\n",
    "        if column in text_columns:\n",
    "            if 'regex' in values:\n",
    "                regex = values['regex']\n",
    "                if regex == 'b':\n",
    "                    conds = [f'({table}.`{column}` LIKE \"{value}%\")' for value in values['values']]\n",
    "                elif regex == 'e':\n",
    "                    conds = [f'({table}.`{column}` LIKE \"%{value}\")' for value in values['values']]\n",
    "                elif regex == 'i':\n",
    "                    conds = [f'({table}.`{column}` LIKE \"%{value}%\")' for value in values['values']]\n",
    "            else:\n",
    "                conds = [f'({table}.`{column}` LIKE \"%{value}%\")' for value in values['values']]\n",
    "        elif column in values_columns:\n",
    "            if 'is' in column:\n",
    "                conds = [f'({table}.`{column}` = {value})' for value in values['values']]\n",
    "            else:\n",
    "                conds = []\n",
    "                for value in values['values']:\n",
    "                    if value == '0':\n",
    "                        cond = f'({table}.`{column}` is NULL)'\n",
    "                    else:\n",
    "                        cond = f'({table}.`{column}` = \"{value}\")'\n",
    "                    conds.append(cond)\n",
    "        elif column in indexes_columns:\n",
    "            conds = [f'({table}.`{column}` = \"{indexes_columns[column][value]}\")' for value in values['values']]\n",
    "        conditions.extend(conds)\n",
    "        \n",
    "    selects = ', '.join([f'`{column}`' for column in show_dict[table]])\n",
    "    conditions = '\\n AND '.join(conditions)\n",
    "\n",
    "    req = f\"\"\"\n",
    "    SELECT {selects} FROM kuruch.{table}\n",
    "    WHERE {conditions}\n",
    "    LIMIT {limit};\n",
    "    \"\"\"\n",
    "    print(req)\n",
    "    cur.execute(req)\n",
    "    res = cur.fetchall()\n",
    "    return show_dict[table], res"
   ]
  },
  {
   "cell_type": "code",
   "execution_count": 64,
   "metadata": {},
   "outputs": [
    {
     "name": "stdout",
     "output_type": "stream",
     "text": [
      "\n",
      "    SELECT `cyrillic`, `transcription`, `definition`, `form_cyrillic`, `form_transcription`, `pos`, `cn`, `grammar`, `type`, `type_alternation` FROM kuruch.lexemes\n",
      "    WHERE (lexemes.`pos` = \"2\")\n",
      " AND (lexemes.`pos` = \"A\")\n",
      " AND (lexemes.`pos` = \"2\")\n",
      " AND (lexemes.`pos` = \"A\")\n",
      " AND (lexemes.`type` is NULL)\n",
      " AND (lexemes.`type` = \"1\")\n",
      " AND (lexemes.`type_alternation` is NULL)\n",
      " AND (lexemes.`type_alternation` = \"1*\")\n",
      "    LIMIT 50;\n",
      "    \n"
     ]
    },
    {
     "ename": "NameError",
     "evalue": "name 'cur' is not defined",
     "output_type": "error",
     "traceback": [
      "\u001b[1;31m---------------------------------------------------------------------------\u001b[0m",
      "\u001b[1;31mNameError\u001b[0m                                 Traceback (most recent call last)",
      "\u001b[1;32m<ipython-input-64-87cb30e9d16b>\u001b[0m in \u001b[0;36m<module>\u001b[1;34m\u001b[0m\n\u001b[1;32m----> 1\u001b[1;33m \u001b[0msearch\u001b[0m\u001b[1;33m(\u001b[0m\u001b[1;34m'lexemes'\u001b[0m\u001b[1;33m,\u001b[0m \u001b[0mfilter_dict\u001b[0m\u001b[1;33m,\u001b[0m \u001b[0mshow_dict\u001b[0m\u001b[1;33m,\u001b[0m \u001b[1;36m50\u001b[0m\u001b[1;33m)\u001b[0m\u001b[1;33m\u001b[0m\u001b[1;33m\u001b[0m\u001b[0m\n\u001b[0m",
      "\u001b[1;32m<ipython-input-63-106a89f50be8>\u001b[0m in \u001b[0;36msearch\u001b[1;34m(table, filter_dict, show_dict, limit)\u001b[0m\n\u001b[0;32m     38\u001b[0m     \"\"\"\n\u001b[0;32m     39\u001b[0m     \u001b[0mprint\u001b[0m\u001b[1;33m(\u001b[0m\u001b[0mreq\u001b[0m\u001b[1;33m)\u001b[0m\u001b[1;33m\u001b[0m\u001b[1;33m\u001b[0m\u001b[0m\n\u001b[1;32m---> 40\u001b[1;33m     \u001b[0mcur\u001b[0m\u001b[1;33m.\u001b[0m\u001b[0mexecute\u001b[0m\u001b[1;33m(\u001b[0m\u001b[0mreq\u001b[0m\u001b[1;33m)\u001b[0m\u001b[1;33m\u001b[0m\u001b[1;33m\u001b[0m\u001b[0m\n\u001b[0m\u001b[0;32m     41\u001b[0m     \u001b[0mres\u001b[0m \u001b[1;33m=\u001b[0m \u001b[0mcur\u001b[0m\u001b[1;33m.\u001b[0m\u001b[0mfetchall\u001b[0m\u001b[1;33m(\u001b[0m\u001b[1;33m)\u001b[0m\u001b[1;33m\u001b[0m\u001b[1;33m\u001b[0m\u001b[0m\n\u001b[0;32m     42\u001b[0m     \u001b[1;32mreturn\u001b[0m \u001b[0mshow_dict\u001b[0m\u001b[1;33m[\u001b[0m\u001b[0mtable\u001b[0m\u001b[1;33m]\u001b[0m\u001b[1;33m,\u001b[0m \u001b[0mres\u001b[0m\u001b[1;33m\u001b[0m\u001b[1;33m\u001b[0m\u001b[0m\n",
      "\u001b[1;31mNameError\u001b[0m: name 'cur' is not defined"
     ]
    }
   ],
   "source": [
    "search('lexemes', filter_dict, show_dict, 50)"
   ]
  },
  {
   "cell_type": "markdown",
   "metadata": {},
   "source": [
    "filter_dict, show_dict - {table: column}"
   ]
  },
  {
   "cell_type": "code",
   "execution_count": 19,
   "metadata": {},
   "outputs": [
    {
     "ename": "NameError",
     "evalue": "name 'filter_dict' is not defined",
     "output_type": "error",
     "traceback": [
      "\u001b[1;31m---------------------------------------------------------------------------\u001b[0m",
      "\u001b[1;31mNameError\u001b[0m                                 Traceback (most recent call last)",
      "\u001b[1;32m<ipython-input-19-76fb205850d3>\u001b[0m in \u001b[0;36m<module>\u001b[1;34m\u001b[0m\n\u001b[1;32m----> 1\u001b[1;33m \u001b[0mfilter_dict\u001b[0m\u001b[1;33m\u001b[0m\u001b[1;33m\u001b[0m\u001b[0m\n\u001b[0m",
      "\u001b[1;31mNameError\u001b[0m: name 'filter_dict' is not defined"
     ]
    }
   ],
   "source": [
    "filter_dict"
   ]
  },
  {
   "cell_type": "code",
   "execution_count": null,
   "metadata": {},
   "outputs": [],
   "source": []
  }
 ],
 "metadata": {
  "kernelspec": {
   "display_name": "Python 3",
   "language": "python",
   "name": "python3"
  },
  "language_info": {
   "codemirror_mode": {
    "name": "ipython",
    "version": 3
   },
   "file_extension": ".py",
   "mimetype": "text/x-python",
   "name": "python",
   "nbconvert_exporter": "python",
   "pygments_lexer": "ipython3",
   "version": "3.6.8"
  }
 },
 "nbformat": 4,
 "nbformat_minor": 2
}
